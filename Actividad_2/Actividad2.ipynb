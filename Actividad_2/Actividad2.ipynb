{
  "cells": [
    {
      "cell_type": "markdown",
      "metadata": {
        "id": "Kty0Nzm57pLY"
      },
      "source": [
        "##Imports"
      ]
    },
    {
      "cell_type": "code",
      "execution_count": 1,
      "metadata": {
        "id": "RpJHhSpC7mcy"
      },
      "outputs": [],
      "source": [
        "import numpy as np\n",
        "import matplotlib.pyplot as plt\n",
        "import pandas as pd\n",
        "import seaborn as sn\n",
        "from sklearn.model_selection import train_test_split\n",
        "import tensorflow as tf\n",
        "import datetime, os\n",
        "from sklearn.metrics import confusion_matrix\n",
        "\n",
        "from tensorflow.keras.models import Sequential \n",
        "from tensorflow.keras.layers import Dense\n",
        "from tensorflow.keras.utils import plot_model\n",
        "from keras.utils import np_utils"
      ]
    },
    {
      "cell_type": "markdown",
      "metadata": {
        "id": "Ls-4A6Fv59LS"
      },
      "source": [
        "#Punto 1\n",
        "\n",
        "Seleccione un conjunto de datos ubicados en\n",
        "el siguiente enlace para un problema de clasificación\n",
        "(diferente al wine y al iris data set):\n",
        "https://archive.ics.uci.edu/ml/index.html Entrene una\n",
        "red neuronal MLP superficial y profunda que realice\n",
        "la clasificación definida para el problema seleccionado\n",
        "usando Tensorflow-Keras. Tenga en cuenta entrenar y\n",
        "validar la red con datos no usados en el proceso de\n",
        "entrenamiento.\n"
      ]
    },
    {
      "cell_type": "markdown",
      "metadata": {
        "id": "aC7dNiPd8GL9"
      },
      "source": [
        "##Read Data\n",
        "\n",
        "Se elige trabajar con el dataset car del repositorio:\n",
        "\n",
        " El modelo evalúa los automóviles de acuerdo con la siguiente estructura conceptual:\n",
        "\n",
        "Aceptabilidad del automóvil CAR\n",
        "- PRECIO precio total\n",
        "  - Compra precio de compra\n",
        "  - Maint precio del mantenimiento\n",
        "- Características técnicas TECH\n",
        "  - CONFORT comodidad\n",
        "   - Puertas número de puertas\n",
        "   - Capacidad de personas en términos de personas a transportar\n",
        "   - Lug_boot el tamaño del maletero\n",
        "  - Seguridad seguridad estimada del automóvil"
      ]
    },
    {
      "cell_type": "code",
      "execution_count": 3,
      "metadata": {
        "colab": {
          "base_uri": "https://localhost:8080/"
        },
        "id": "8BNtW0Gs8Frx",
        "outputId": "7c272e84-53fe-42c7-c474-d6b613fcc9fc"
      },
      "outputs": [
        {
          "output_type": "stream",
          "name": "stdout",
          "text": [
            "(1727, 7)\n"
          ]
        }
      ],
      "source": [
        "data = pd.read_csv('https://archive.ics.uci.edu/ml/machine-learning-databases/car/car.data')\n",
        "print(data.shape)\n",
        "data.head(10)\n",
        "\n",
        "input_dim=6"
      ]
    },
    {
      "cell_type": "markdown",
      "source": [
        "Se cambia los datos categóricos a númericos."
      ],
      "metadata": {
        "id": "0oepjkoq3YeU"
      }
    },
    {
      "cell_type": "code",
      "execution_count": null,
      "metadata": {
        "colab": {
          "base_uri": "https://localhost:8080/"
        },
        "id": "br_IxWtd9VFm",
        "outputId": "03648441-3e4a-4188-b6e1-92804dcdd2d2"
      },
      "outputs": [
        {
          "data": {
            "text/html": [
              "\n",
              "  <div id=\"df-6ba71db1-f540-44c8-adf7-5a9a9f343149\">\n",
              "    <div class=\"colab-df-container\">\n",
              "      <div>\n",
              "<style scoped>\n",
              "    .dataframe tbody tr th:only-of-type {\n",
              "        vertical-align: middle;\n",
              "    }\n",
              "\n",
              "    .dataframe tbody tr th {\n",
              "        vertical-align: top;\n",
              "    }\n",
              "\n",
              "    .dataframe thead th {\n",
              "        text-align: right;\n",
              "    }\n",
              "</style>\n",
              "<table border=\"1\" class=\"dataframe\">\n",
              "  <thead>\n",
              "    <tr style=\"text-align: right;\">\n",
              "      <th></th>\n",
              "      <th>X1</th>\n",
              "      <th>X2</th>\n",
              "      <th>X3</th>\n",
              "      <th>X4</th>\n",
              "      <th>X5</th>\n",
              "      <th>X6</th>\n",
              "      <th>Y1</th>\n",
              "    </tr>\n",
              "  </thead>\n",
              "  <tbody>\n",
              "    <tr>\n",
              "      <th>0</th>\n",
              "      <td>3</td>\n",
              "      <td>3</td>\n",
              "      <td>2</td>\n",
              "      <td>2</td>\n",
              "      <td>0</td>\n",
              "      <td>2</td>\n",
              "      <td>0</td>\n",
              "    </tr>\n",
              "    <tr>\n",
              "      <th>1</th>\n",
              "      <td>3</td>\n",
              "      <td>3</td>\n",
              "      <td>2</td>\n",
              "      <td>2</td>\n",
              "      <td>0</td>\n",
              "      <td>1</td>\n",
              "      <td>0</td>\n",
              "    </tr>\n",
              "    <tr>\n",
              "      <th>2</th>\n",
              "      <td>3</td>\n",
              "      <td>3</td>\n",
              "      <td>2</td>\n",
              "      <td>2</td>\n",
              "      <td>0</td>\n",
              "      <td>0</td>\n",
              "      <td>0</td>\n",
              "    </tr>\n",
              "    <tr>\n",
              "      <th>3</th>\n",
              "      <td>3</td>\n",
              "      <td>3</td>\n",
              "      <td>2</td>\n",
              "      <td>2</td>\n",
              "      <td>1</td>\n",
              "      <td>2</td>\n",
              "      <td>0</td>\n",
              "    </tr>\n",
              "    <tr>\n",
              "      <th>4</th>\n",
              "      <td>3</td>\n",
              "      <td>3</td>\n",
              "      <td>2</td>\n",
              "      <td>2</td>\n",
              "      <td>1</td>\n",
              "      <td>1</td>\n",
              "      <td>0</td>\n",
              "    </tr>\n",
              "    <tr>\n",
              "      <th>5</th>\n",
              "      <td>3</td>\n",
              "      <td>3</td>\n",
              "      <td>2</td>\n",
              "      <td>2</td>\n",
              "      <td>1</td>\n",
              "      <td>0</td>\n",
              "      <td>0</td>\n",
              "    </tr>\n",
              "    <tr>\n",
              "      <th>6</th>\n",
              "      <td>3</td>\n",
              "      <td>3</td>\n",
              "      <td>2</td>\n",
              "      <td>2</td>\n",
              "      <td>2</td>\n",
              "      <td>2</td>\n",
              "      <td>0</td>\n",
              "    </tr>\n",
              "    <tr>\n",
              "      <th>7</th>\n",
              "      <td>3</td>\n",
              "      <td>3</td>\n",
              "      <td>2</td>\n",
              "      <td>2</td>\n",
              "      <td>2</td>\n",
              "      <td>1</td>\n",
              "      <td>0</td>\n",
              "    </tr>\n",
              "    <tr>\n",
              "      <th>8</th>\n",
              "      <td>3</td>\n",
              "      <td>3</td>\n",
              "      <td>2</td>\n",
              "      <td>2</td>\n",
              "      <td>2</td>\n",
              "      <td>0</td>\n",
              "      <td>0</td>\n",
              "    </tr>\n",
              "    <tr>\n",
              "      <th>9</th>\n",
              "      <td>3</td>\n",
              "      <td>3</td>\n",
              "      <td>2</td>\n",
              "      <td>4</td>\n",
              "      <td>0</td>\n",
              "      <td>2</td>\n",
              "      <td>0</td>\n",
              "    </tr>\n",
              "  </tbody>\n",
              "</table>\n",
              "</div>\n",
              "      <button class=\"colab-df-convert\" onclick=\"convertToInteractive('df-6ba71db1-f540-44c8-adf7-5a9a9f343149')\"\n",
              "              title=\"Convert this dataframe to an interactive table.\"\n",
              "              style=\"display:none;\">\n",
              "        \n",
              "  <svg xmlns=\"http://www.w3.org/2000/svg\" height=\"24px\"viewBox=\"0 0 24 24\"\n",
              "       width=\"24px\">\n",
              "    <path d=\"M0 0h24v24H0V0z\" fill=\"none\"/>\n",
              "    <path d=\"M18.56 5.44l.94 2.06.94-2.06 2.06-.94-2.06-.94-.94-2.06-.94 2.06-2.06.94zm-11 1L8.5 8.5l.94-2.06 2.06-.94-2.06-.94L8.5 2.5l-.94 2.06-2.06.94zm10 10l.94 2.06.94-2.06 2.06-.94-2.06-.94-.94-2.06-.94 2.06-2.06.94z\"/><path d=\"M17.41 7.96l-1.37-1.37c-.4-.4-.92-.59-1.43-.59-.52 0-1.04.2-1.43.59L10.3 9.45l-7.72 7.72c-.78.78-.78 2.05 0 2.83L4 21.41c.39.39.9.59 1.41.59.51 0 1.02-.2 1.41-.59l7.78-7.78 2.81-2.81c.8-.78.8-2.07 0-2.86zM5.41 20L4 18.59l7.72-7.72 1.47 1.35L5.41 20z\"/>\n",
              "  </svg>\n",
              "      </button>\n",
              "      \n",
              "  <style>\n",
              "    .colab-df-container {\n",
              "      display:flex;\n",
              "      flex-wrap:wrap;\n",
              "      gap: 12px;\n",
              "    }\n",
              "\n",
              "    .colab-df-convert {\n",
              "      background-color: #E8F0FE;\n",
              "      border: none;\n",
              "      border-radius: 50%;\n",
              "      cursor: pointer;\n",
              "      display: none;\n",
              "      fill: #1967D2;\n",
              "      height: 32px;\n",
              "      padding: 0 0 0 0;\n",
              "      width: 32px;\n",
              "    }\n",
              "\n",
              "    .colab-df-convert:hover {\n",
              "      background-color: #E2EBFA;\n",
              "      box-shadow: 0px 1px 2px rgba(60, 64, 67, 0.3), 0px 1px 3px 1px rgba(60, 64, 67, 0.15);\n",
              "      fill: #174EA6;\n",
              "    }\n",
              "\n",
              "    [theme=dark] .colab-df-convert {\n",
              "      background-color: #3B4455;\n",
              "      fill: #D2E3FC;\n",
              "    }\n",
              "\n",
              "    [theme=dark] .colab-df-convert:hover {\n",
              "      background-color: #434B5C;\n",
              "      box-shadow: 0px 1px 3px 1px rgba(0, 0, 0, 0.15);\n",
              "      filter: drop-shadow(0px 1px 2px rgba(0, 0, 0, 0.3));\n",
              "      fill: #FFFFFF;\n",
              "    }\n",
              "  </style>\n",
              "\n",
              "      <script>\n",
              "        const buttonEl =\n",
              "          document.querySelector('#df-6ba71db1-f540-44c8-adf7-5a9a9f343149 button.colab-df-convert');\n",
              "        buttonEl.style.display =\n",
              "          google.colab.kernel.accessAllowed ? 'block' : 'none';\n",
              "\n",
              "        async function convertToInteractive(key) {\n",
              "          const element = document.querySelector('#df-6ba71db1-f540-44c8-adf7-5a9a9f343149');\n",
              "          const dataTable =\n",
              "            await google.colab.kernel.invokeFunction('convertToInteractive',\n",
              "                                                     [key], {});\n",
              "          if (!dataTable) return;\n",
              "\n",
              "          const docLinkHtml = 'Like what you see? Visit the ' +\n",
              "            '<a target=\"_blank\" href=https://colab.research.google.com/notebooks/data_table.ipynb>data table notebook</a>'\n",
              "            + ' to learn more about interactive tables.';\n",
              "          element.innerHTML = '';\n",
              "          dataTable['output_type'] = 'display_data';\n",
              "          await google.colab.output.renderOutput(dataTable, element);\n",
              "          const docLink = document.createElement('div');\n",
              "          docLink.innerHTML = docLinkHtml;\n",
              "          element.appendChild(docLink);\n",
              "        }\n",
              "      </script>\n",
              "    </div>\n",
              "  </div>\n",
              "  "
            ],
            "text/plain": [
              "  X1 X2 X3 X4 X5 X6 Y1\n",
              "0  3  3  2  2  0  2  0\n",
              "1  3  3  2  2  0  1  0\n",
              "2  3  3  2  2  0  0  0\n",
              "3  3  3  2  2  1  2  0\n",
              "4  3  3  2  2  1  1  0\n",
              "5  3  3  2  2  1  0  0\n",
              "6  3  3  2  2  2  2  0\n",
              "7  3  3  2  2  2  1  0\n",
              "8  3  3  2  2  2  0  0\n",
              "9  3  3  2  4  0  2  0"
            ]
          },
          "execution_count": 4,
          "metadata": {},
          "output_type": "execute_result"
        }
      ],
      "source": [
        "data['X1'][data['X1'] == 'vhigh'] = 3\n",
        "data['X1'][data['X1'] == 'high'] = 2\n",
        "data['X1'][data['X1'] == 'med'] = 1\n",
        "data['X1'][data['X1'] == 'low'] = 0\n",
        "\n",
        "data['X2'][data['X2'] == 'vhigh'] = 3\n",
        "data['X2'][data['X2'] == 'high'] = 2\n",
        "data['X2'][data['X2'] == 'med'] = 1\n",
        "data['X2'][data['X2'] == 'low'] = 0\n",
        "\n",
        "data['X3'][data['X3'] == '5more'] = 5\n",
        "\n",
        "data['X4'][data['X4'] == 'more'] = 5\n",
        "\n",
        "data['X5'][data['X5'] == 'big'] = 2\n",
        "data['X5'][data['X5'] == 'med'] = 1\n",
        "data['X5'][data['X5'] == 'small'] = 0\n",
        "\n",
        "data['X6'][data['X6'] == 'low'] = 2\n",
        "data['X6'][data['X6'] == 'med'] = 1\n",
        "data['X6'][data['X6'] == 'high'] = 0\n",
        "\n",
        "data['Y1'][data['Y1'] == 'vgood'] = 3\n",
        "data['Y1'][data['Y1'] == 'good'] = 2\n",
        "data['Y1'][data['Y1'] == 'acc'] = 1\n",
        "data['Y1'][data['Y1'] == 'unacc'] = 0\n",
        "\n",
        "\n",
        "data.head(10)"
      ]
    },
    {
      "cell_type": "code",
      "execution_count": null,
      "metadata": {
        "colab": {
          "base_uri": "https://localhost:8080/"
        },
        "id": "Lxq7jHsz_PvF",
        "outputId": "c544f3dd-a7d5-434f-cd12-71b0b7b15347"
      },
      "outputs": [
        {
          "data": {
            "text/plain": [
              "3    432\n",
              "2    432\n",
              "1    432\n",
              "0    432\n",
              "Name: X1, dtype: int64"
            ]
          },
          "execution_count": 5,
          "metadata": {},
          "output_type": "execute_result"
        }
      ],
      "source": [
        "data['X1'].value_counts()"
      ]
    },
    {
      "cell_type": "code",
      "execution_count": null,
      "metadata": {
        "colab": {
          "base_uri": "https://localhost:8080/"
        },
        "id": "zPG56lJI_zbn",
        "outputId": "8e2b2eeb-4ed9-4333-895d-8e5d5b303722"
      },
      "outputs": [
        {
          "data": {
            "text/plain": [
              "3    432\n",
              "2    432\n",
              "1    432\n",
              "0    432\n",
              "Name: X2, dtype: int64"
            ]
          },
          "execution_count": 6,
          "metadata": {},
          "output_type": "execute_result"
        }
      ],
      "source": [
        "data['X2'].value_counts()"
      ]
    },
    {
      "cell_type": "code",
      "execution_count": null,
      "metadata": {
        "colab": {
          "base_uri": "https://localhost:8080/"
        },
        "id": "AkVOWOFF_1_c",
        "outputId": "d7f9046f-b1cb-4cb7-ad2a-17faff68ba40"
      },
      "outputs": [
        {
          "data": {
            "text/plain": [
              "2    432\n",
              "3    432\n",
              "4    432\n",
              "5    432\n",
              "Name: X3, dtype: int64"
            ]
          },
          "execution_count": 7,
          "metadata": {},
          "output_type": "execute_result"
        }
      ],
      "source": [
        "data['X3'].value_counts()"
      ]
    },
    {
      "cell_type": "code",
      "execution_count": null,
      "metadata": {
        "colab": {
          "base_uri": "https://localhost:8080/"
        },
        "id": "quPHOrfO_3pA",
        "outputId": "dcfd03aa-9c79-4670-b1e3-da1adc6e4557"
      },
      "outputs": [
        {
          "data": {
            "text/plain": [
              "2    576\n",
              "4    576\n",
              "5    576\n",
              "Name: X4, dtype: int64"
            ]
          },
          "execution_count": 8,
          "metadata": {},
          "output_type": "execute_result"
        }
      ],
      "source": [
        "data['X4'].value_counts()"
      ]
    },
    {
      "cell_type": "code",
      "execution_count": null,
      "metadata": {
        "colab": {
          "base_uri": "https://localhost:8080/"
        },
        "id": "Uh4fSZKH_47q",
        "outputId": "b384ed7b-7459-42b7-bd11-c746a60e2f5e"
      },
      "outputs": [
        {
          "data": {
            "text/plain": [
              "0    576\n",
              "1    576\n",
              "2    576\n",
              "Name: X5, dtype: int64"
            ]
          },
          "execution_count": 9,
          "metadata": {},
          "output_type": "execute_result"
        }
      ],
      "source": [
        "data['X5'].value_counts()"
      ]
    },
    {
      "cell_type": "code",
      "execution_count": null,
      "metadata": {
        "colab": {
          "base_uri": "https://localhost:8080/"
        },
        "id": "eeeeg8Qt_6dX",
        "outputId": "ad9fa158-b81b-48dd-bce7-3c7f1ad647ff"
      },
      "outputs": [
        {
          "data": {
            "text/plain": [
              "2    576\n",
              "1    576\n",
              "0    576\n",
              "Name: X6, dtype: int64"
            ]
          },
          "execution_count": 10,
          "metadata": {},
          "output_type": "execute_result"
        }
      ],
      "source": [
        "data['X6'].value_counts()"
      ]
    },
    {
      "cell_type": "code",
      "execution_count": null,
      "metadata": {
        "colab": {
          "base_uri": "https://localhost:8080/"
        },
        "id": "9d8R_4SQ_7qi",
        "outputId": "b647fc43-058f-4639-cb4e-4a9431a8b94b"
      },
      "outputs": [
        {
          "data": {
            "text/plain": [
              "0    1210\n",
              "1     384\n",
              "2      69\n",
              "3      65\n",
              "Name: Y1, dtype: int64"
            ]
          },
          "execution_count": 11,
          "metadata": {},
          "output_type": "execute_result"
        }
      ],
      "source": [
        "data['Y1'].value_counts()"
      ]
    },
    {
      "cell_type": "markdown",
      "metadata": {
        "id": "DpBkDtsPBUf6"
      },
      "source": [
        "##Normalizar Data"
      ]
    },
    {
      "cell_type": "code",
      "execution_count": null,
      "metadata": {
        "colab": {
          "base_uri": "https://localhost:8080/"
        },
        "id": "JW36l0D-7Xx5",
        "outputId": "3988d857-ccde-4959-bd21-e80c34ad5dfe"
      },
      "outputs": [
        {
          "name": "stdout",
          "output_type": "stream",
          "text": [
            "(1728,)\n"
          ]
        }
      ],
      "source": [
        "x1=pd.to_numeric(data['X1'].values)\n",
        "x2=pd.to_numeric(data['X2'].values)\n",
        "x3=pd.to_numeric(data['X3'].values)\n",
        "x4=pd.to_numeric(data['X4'].values)\n",
        "x5=pd.to_numeric(data['X5'].values)\n",
        "x6=pd.to_numeric(data['X6'].values)\n",
        "\n",
        "y1=pd.to_numeric(data['Y1'].values)\n",
        "print(y1.shape)"
      ]
    },
    {
      "cell_type": "code",
      "execution_count": null,
      "metadata": {
        "id": "U5tG1x59BUE6"
      },
      "outputs": [],
      "source": [
        "def normalizar (x,xmax,xmin,ymax,ymin):\n",
        "  m=(ymax-ymin)/(xmax-xmin)\n",
        "  b=ymin-m*xmin\n",
        "\n",
        "  y=m*x+b\n",
        "  return y"
      ]
    },
    {
      "cell_type": "code",
      "execution_count": null,
      "metadata": {
        "id": "exVhdw9YBdFZ"
      },
      "outputs": [],
      "source": [
        "x1_n=normalizar(x1,np.max(x1),np.min(x1),1,-1)\n",
        "x2_n=normalizar(x2,np.max(x2),np.min(x2),1,-1)\n",
        "x3_n=normalizar(x3,np.max(x3),np.min(x3),1,-1)\n",
        "x4_n=normalizar(x4,np.max(x4),np.min(x4),1,-1)\n",
        "x5_n=normalizar(x5,np.max(x5),np.min(x5),1,-1)\n",
        "x6_n=normalizar(x6,np.max(x6),np.min(x6),1,-1)"
      ]
    },
    {
      "cell_type": "code",
      "execution_count": null,
      "metadata": {
        "colab": {
          "base_uri": "https://localhost:8080/"
        },
        "id": "7iPRGVeyB9r_",
        "outputId": "91aed124-d4b6-4a7d-cee4-1d61def992ff"
      },
      "outputs": [
        {
          "name": "stdout",
          "output_type": "stream",
          "text": [
            "(1728, 6)\n"
          ]
        }
      ],
      "source": [
        "x_n=np.transpose(np.array([x1_n, x2_n, x3_n, x4_n, x5_n, x6_n]))\n",
        "print(x_n.shape)"
      ]
    },
    {
      "cell_type": "markdown",
      "metadata": {
        "id": "BfNbE8oPAy2o"
      },
      "source": [
        "##Partición de data"
      ]
    },
    {
      "cell_type": "code",
      "execution_count": null,
      "metadata": {
        "id": "xWnUEwlIBDbj"
      },
      "outputs": [],
      "source": [
        "x_train, x_test, y_train, y_test = train_test_split(x_n, y1, test_size = 0.30, random_state=12)"
      ]
    },
    {
      "cell_type": "markdown",
      "metadata": {
        "id": "2LCo4H_KHGpb"
      },
      "source": [
        "##One hot-encoding"
      ]
    },
    {
      "cell_type": "code",
      "execution_count": null,
      "metadata": {
        "colab": {
          "base_uri": "https://localhost:8080/"
        },
        "id": "ADRcWzbyjbxu",
        "outputId": "af95ce75-bb98-4ddc-8a17-d686832308ad"
      },
      "outputs": [
        {
          "name": "stdout",
          "output_type": "stream",
          "text": [
            "(1209, 4)\n",
            "(519, 4)\n",
            "4\n"
          ]
        }
      ],
      "source": [
        "y_train1 = np_utils.to_categorical(y_train)\n",
        "y_test1 = np_utils.to_categorical(y_test)\n",
        "\n",
        "num_class = y_train1.shape[1]\n",
        "\n",
        "print(y_train1.shape)\n",
        "print(y_test1.shape)\n",
        "print(num_class)"
      ]
    },
    {
      "cell_type": "markdown",
      "metadata": {
        "id": "nOA8mWabEN57"
      },
      "source": [
        "##Modelo Superficial"
      ]
    },
    {
      "cell_type": "code",
      "execution_count": null,
      "metadata": {
        "id": "p9nLrxm8EcQs"
      },
      "outputs": [],
      "source": [
        "def modelS():\n",
        "  model = Sequential()\n",
        "  \n",
        "  model.add(Dense(6, input_dim = 6, activation = 'tanh'))\n",
        "  model.add(Dense(num_class, activation = 'softmax'))\n",
        "\n",
        "  model.summary()\n",
        "\n",
        "  #Compile\n",
        "  model.compile(loss = 'mean_squared_error', optimizer = 'adam', metrics=['accuracy'])\n",
        "\n",
        "  return model"
      ]
    },
    {
      "cell_type": "code",
      "execution_count": null,
      "metadata": {
        "colab": {
          "base_uri": "https://localhost:8080/"
        },
        "id": "UmtEHWezFVC2",
        "outputId": "1a1251f3-18c9-4cac-a217-26f70a3994e1"
      },
      "outputs": [
        {
          "name": "stdout",
          "output_type": "stream",
          "text": [
            "Model: \"sequential\"\n",
            "_________________________________________________________________\n",
            " Layer (type)                Output Shape              Param #   \n",
            "=================================================================\n",
            " dense (Dense)               (None, 6)                 42        \n",
            "                                                                 \n",
            " dense_1 (Dense)             (None, 4)                 28        \n",
            "                                                                 \n",
            "=================================================================\n",
            "Total params: 70\n",
            "Trainable params: 70\n",
            "Non-trainable params: 0\n",
            "_________________________________________________________________\n"
          ]
        },
        {
          "data": {
            "image/jpeg": "[encoded data removed]",
            "text/plain": [
              "<IPython.core.display.Image object>"
            ]
          },
          "execution_count": 19,
          "metadata": {},
          "output_type": "execute_result"
        }
      ],
      "source": [
        "modelS=modelS()\n",
        "plot_model(modelS, to_file='modelSuperficial.jpg', show_shapes=True)"
      ]
    },
    {
      "cell_type": "code",
      "execution_count": null,
      "metadata": {
        "id": "d4KU1eKJFfZS"
      },
      "outputs": [],
      "source": [
        "logdir=os.path.join(\"logs\", \"ModelSuperficial\")\n",
        "tensorboard_callbackS=tf.keras.callbacks.TensorBoard(logdir,histogram_freq=1)"
      ]
    },
    {
      "cell_type": "code",
      "execution_count": null,
      "metadata": {
        "colab": {
          "base_uri": "https://localhost:8080/"
        },
        "id": "Ly5KzeOUdi-V",
        "outputId": "cdad8cbb-45ac-4714-ba70-2b53afd3ace6"
      },
      "outputs": [
        {
          "name": "stdout",
          "output_type": "stream",
          "text": [
            "int64\n"
          ]
        }
      ],
      "source": [
        "print(y_train.dtype)"
      ]
    },
    {
      "cell_type": "code",
      "execution_count": null,
      "metadata": {
        "colab": {
          "base_uri": "https://localhost:8080/"
        },
        "id": "shJCu5vZFzog",
        "outputId": "c4cc8ee9-710b-4836-dfb0-1ce3e2b5cd51"
      },
      "outputs": [
        {
          "name": "stdout",
          "output_type": "stream",
          "text": [
            "Epoch 1/400\n",
            "121/121 [==============================] - 1s 6ms/step - loss: 0.1908 - accuracy: 0.3093 - val_loss: 0.1736 - val_accuracy: 0.4181\n",
            "Epoch 2/400\n",
            "121/121 [==============================] - 1s 5ms/step - loss: 0.1576 - accuracy: 0.5103 - val_loss: 0.1445 - val_accuracy: 0.5954\n",
            "Epoch 3/400\n",
            "121/121 [==============================] - 1s 5ms/step - loss: 0.1263 - accuracy: 0.6567 - val_loss: 0.1170 - val_accuracy: 0.6667\n",
            "Epoch 4/400\n",
            "121/121 [==============================] - 1s 5ms/step - loss: 0.1008 - accuracy: 0.7320 - val_loss: 0.0972 - val_accuracy: 0.7148\n",
            "Epoch 5/400\n",
            "121/121 [==============================] - 1s 4ms/step - loss: 0.0850 - accuracy: 0.7618 - val_loss: 0.0856 - val_accuracy: 0.7476\n",
            "Epoch 6/400\n",
            "121/121 [==============================] - 1s 5ms/step - loss: 0.0761 - accuracy: 0.7874 - val_loss: 0.0783 - val_accuracy: 0.7649\n",
            "Epoch 7/400\n",
            "121/121 [==============================] - 1s 5ms/step - loss: 0.0703 - accuracy: 0.8040 - val_loss: 0.0738 - val_accuracy: 0.7784\n",
            "Epoch 8/400\n",
            "121/121 [==============================] - 1s 6ms/step - loss: 0.0666 - accuracy: 0.8172 - val_loss: 0.0706 - val_accuracy: 0.7842\n",
            "Epoch 9/400\n",
            "121/121 [==============================] - 1s 9ms/step - loss: 0.0639 - accuracy: 0.8197 - val_loss: 0.0684 - val_accuracy: 0.7977\n",
            "Epoch 10/400\n",
            "121/121 [==============================] - 1s 5ms/step - loss: 0.0618 - accuracy: 0.8238 - val_loss: 0.0668 - val_accuracy: 0.8035\n",
            "Epoch 11/400\n",
            "121/121 [==============================] - 1s 5ms/step - loss: 0.0600 - accuracy: 0.8271 - val_loss: 0.0655 - val_accuracy: 0.8054\n",
            "Epoch 12/400\n",
            "121/121 [==============================] - 1s 5ms/step - loss: 0.0585 - accuracy: 0.8321 - val_loss: 0.0644 - val_accuracy: 0.8054\n",
            "Epoch 13/400\n",
            "121/121 [==============================] - 1s 5ms/step - loss: 0.0573 - accuracy: 0.8354 - val_loss: 0.0634 - val_accuracy: 0.8112\n",
            "Epoch 14/400\n",
            "121/121 [==============================] - 1s 5ms/step - loss: 0.0562 - accuracy: 0.8395 - val_loss: 0.0627 - val_accuracy: 0.8112\n",
            "Epoch 15/400\n",
            "121/121 [==============================] - 1s 5ms/step - loss: 0.0552 - accuracy: 0.8404 - val_loss: 0.0620 - val_accuracy: 0.8150\n",
            "Epoch 16/400\n",
            "121/121 [==============================] - 1s 5ms/step - loss: 0.0542 - accuracy: 0.8387 - val_loss: 0.0612 - val_accuracy: 0.8189\n",
            "Epoch 17/400\n",
            "121/121 [==============================] - 1s 5ms/step - loss: 0.0534 - accuracy: 0.8437 - val_loss: 0.0607 - val_accuracy: 0.8170\n",
            "Epoch 18/400\n",
            "121/121 [==============================] - 1s 5ms/step - loss: 0.0525 - accuracy: 0.8453 - val_loss: 0.0600 - val_accuracy: 0.8131\n",
            "Epoch 19/400\n",
            "121/121 [==============================] - 1s 5ms/step - loss: 0.0519 - accuracy: 0.8462 - val_loss: 0.0597 - val_accuracy: 0.8170\n",
            "Epoch 20/400\n",
            "121/121 [==============================] - 1s 5ms/step - loss: 0.0512 - accuracy: 0.8478 - val_loss: 0.0591 - val_accuracy: 0.8170\n",
            "Epoch 21/400\n",
            "121/121 [==============================] - 1s 5ms/step - loss: 0.0506 - accuracy: 0.8495 - val_loss: 0.0587 - val_accuracy: 0.8170\n",
            "Epoch 22/400\n",
            "121/121 [==============================] - 1s 8ms/step - loss: 0.0500 - accuracy: 0.8511 - val_loss: 0.0582 - val_accuracy: 0.8170\n",
            "Epoch 23/400\n",
            "121/121 [==============================] - 1s 10ms/step - loss: 0.0495 - accuracy: 0.8544 - val_loss: 0.0578 - val_accuracy: 0.8208\n",
            "Epoch 24/400\n",
            "121/121 [==============================] - 1s 8ms/step - loss: 0.0490 - accuracy: 0.8519 - val_loss: 0.0573 - val_accuracy: 0.8247\n",
            "Epoch 25/400\n",
            "121/121 [==============================] - 1s 5ms/step - loss: 0.0485 - accuracy: 0.8528 - val_loss: 0.0570 - val_accuracy: 0.8227\n",
            "Epoch 26/400\n",
            "121/121 [==============================] - 1s 5ms/step - loss: 0.0481 - accuracy: 0.8544 - val_loss: 0.0565 - val_accuracy: 0.8266\n",
            "Epoch 27/400\n",
            "121/121 [==============================] - 1s 4ms/step - loss: 0.0476 - accuracy: 0.8602 - val_loss: 0.0562 - val_accuracy: 0.8266\n",
            "Epoch 28/400\n",
            "121/121 [==============================] - 1s 5ms/step - loss: 0.0472 - accuracy: 0.8561 - val_loss: 0.0558 - val_accuracy: 0.8247\n",
            "Epoch 29/400\n",
            "121/121 [==============================] - 1s 5ms/step - loss: 0.0468 - accuracy: 0.8619 - val_loss: 0.0557 - val_accuracy: 0.8285\n",
            "Epoch 30/400\n",
            "121/121 [==============================] - 1s 5ms/step - loss: 0.0464 - accuracy: 0.8610 - val_loss: 0.0554 - val_accuracy: 0.8247\n",
            "Epoch 31/400\n",
            "121/121 [==============================] - 1s 5ms/step - loss: 0.0461 - accuracy: 0.8635 - val_loss: 0.0552 - val_accuracy: 0.8266\n",
            "Epoch 32/400\n",
            "121/121 [==============================] - 1s 5ms/step - loss: 0.0458 - accuracy: 0.8644 - val_loss: 0.0548 - val_accuracy: 0.8285\n",
            "Epoch 33/400\n",
            "121/121 [==============================] - 1s 5ms/step - loss: 0.0454 - accuracy: 0.8652 - val_loss: 0.0546 - val_accuracy: 0.8285\n",
            "Epoch 34/400\n",
            "121/121 [==============================] - 1s 5ms/step - loss: 0.0452 - accuracy: 0.8619 - val_loss: 0.0543 - val_accuracy: 0.8343\n",
            "Epoch 35/400\n",
            "121/121 [==============================] - 1s 5ms/step - loss: 0.0449 - accuracy: 0.8660 - val_loss: 0.0538 - val_accuracy: 0.8343\n",
            "Epoch 36/400\n",
            "121/121 [==============================] - 1s 5ms/step - loss: 0.0445 - accuracy: 0.8660 - val_loss: 0.0536 - val_accuracy: 0.8362\n",
            "Epoch 37/400\n",
            "121/121 [==============================] - 1s 5ms/step - loss: 0.0443 - accuracy: 0.8677 - val_loss: 0.0535 - val_accuracy: 0.8362\n",
            "Epoch 38/400\n",
            "121/121 [==============================] - 1s 5ms/step - loss: 0.0440 - accuracy: 0.8677 - val_loss: 0.0532 - val_accuracy: 0.8362\n",
            "Epoch 39/400\n",
            "121/121 [==============================] - 1s 5ms/step - loss: 0.0439 - accuracy: 0.8710 - val_loss: 0.0531 - val_accuracy: 0.8382\n",
            "Epoch 40/400\n",
            "121/121 [==============================] - 1s 5ms/step - loss: 0.0437 - accuracy: 0.8693 - val_loss: 0.0528 - val_accuracy: 0.8420\n",
            "Epoch 41/400\n",
            "121/121 [==============================] - 1s 5ms/step - loss: 0.0434 - accuracy: 0.8685 - val_loss: 0.0526 - val_accuracy: 0.8382\n",
            "Epoch 42/400\n",
            "121/121 [==============================] - 1s 5ms/step - loss: 0.0432 - accuracy: 0.8701 - val_loss: 0.0526 - val_accuracy: 0.8362\n",
            "Epoch 43/400\n",
            "121/121 [==============================] - 1s 5ms/step - loss: 0.0429 - accuracy: 0.8726 - val_loss: 0.0523 - val_accuracy: 0.8420\n",
            "Epoch 44/400\n",
            "121/121 [==============================] - 1s 5ms/step - loss: 0.0428 - accuracy: 0.8710 - val_loss: 0.0522 - val_accuracy: 0.8420\n",
            "Epoch 45/400\n",
            "121/121 [==============================] - 1s 5ms/step - loss: 0.0426 - accuracy: 0.8693 - val_loss: 0.0520 - val_accuracy: 0.8420\n",
            "Epoch 46/400\n",
            "121/121 [==============================] - 1s 5ms/step - loss: 0.0423 - accuracy: 0.8726 - val_loss: 0.0518 - val_accuracy: 0.8420\n",
            "Epoch 47/400\n",
            "121/121 [==============================] - 1s 5ms/step - loss: 0.0422 - accuracy: 0.8743 - val_loss: 0.0517 - val_accuracy: 0.8401\n",
            "Epoch 48/400\n",
            "121/121 [==============================] - 1s 5ms/step - loss: 0.0420 - accuracy: 0.8751 - val_loss: 0.0515 - val_accuracy: 0.8439\n",
            "Epoch 49/400\n",
            "121/121 [==============================] - 1s 5ms/step - loss: 0.0418 - accuracy: 0.8768 - val_loss: 0.0514 - val_accuracy: 0.8401\n",
            "Epoch 50/400\n",
            "121/121 [==============================] - 1s 5ms/step - loss: 0.0417 - accuracy: 0.8751 - val_loss: 0.0513 - val_accuracy: 0.8420\n",
            "Epoch 51/400\n",
            "121/121 [==============================] - 1s 5ms/step - loss: 0.0415 - accuracy: 0.8759 - val_loss: 0.0511 - val_accuracy: 0.8420\n",
            "Epoch 52/400\n",
            "121/121 [==============================] - 1s 5ms/step - loss: 0.0414 - accuracy: 0.8759 - val_loss: 0.0511 - val_accuracy: 0.8420\n",
            "Epoch 53/400\n",
            "121/121 [==============================] - 1s 5ms/step - loss: 0.0412 - accuracy: 0.8809 - val_loss: 0.0510 - val_accuracy: 0.8382\n",
            "Epoch 54/400\n",
            "121/121 [==============================] - 1s 5ms/step - loss: 0.0412 - accuracy: 0.8759 - val_loss: 0.0508 - val_accuracy: 0.8439\n",
            "Epoch 55/400\n",
            "121/121 [==============================] - 1s 5ms/step - loss: 0.0409 - accuracy: 0.8759 - val_loss: 0.0508 - val_accuracy: 0.8420\n",
            "Epoch 56/400\n",
            "121/121 [==============================] - 1s 5ms/step - loss: 0.0409 - accuracy: 0.8768 - val_loss: 0.0505 - val_accuracy: 0.8420\n",
            "Epoch 57/400\n",
            "121/121 [==============================] - 1s 5ms/step - loss: 0.0407 - accuracy: 0.8801 - val_loss: 0.0503 - val_accuracy: 0.8439\n",
            "Epoch 58/400\n",
            "121/121 [==============================] - 1s 5ms/step - loss: 0.0405 - accuracy: 0.8801 - val_loss: 0.0503 - val_accuracy: 0.8401\n",
            "Epoch 59/400\n",
            "121/121 [==============================] - 1s 5ms/step - loss: 0.0404 - accuracy: 0.8809 - val_loss: 0.0503 - val_accuracy: 0.8420\n",
            "Epoch 60/400\n",
            "121/121 [==============================] - 1s 5ms/step - loss: 0.0403 - accuracy: 0.8825 - val_loss: 0.0502 - val_accuracy: 0.8420\n",
            "Epoch 61/400\n",
            "121/121 [==============================] - 1s 5ms/step - loss: 0.0401 - accuracy: 0.8817 - val_loss: 0.0500 - val_accuracy: 0.8420\n",
            "Epoch 62/400\n",
            "121/121 [==============================] - 1s 5ms/step - loss: 0.0401 - accuracy: 0.8842 - val_loss: 0.0498 - val_accuracy: 0.8401\n",
            "Epoch 63/400\n",
            "121/121 [==============================] - 1s 5ms/step - loss: 0.0400 - accuracy: 0.8859 - val_loss: 0.0498 - val_accuracy: 0.8401\n",
            "Epoch 64/400\n",
            "121/121 [==============================] - 1s 5ms/step - loss: 0.0398 - accuracy: 0.8850 - val_loss: 0.0498 - val_accuracy: 0.8420\n",
            "Epoch 65/400\n",
            "121/121 [==============================] - 1s 5ms/step - loss: 0.0397 - accuracy: 0.8842 - val_loss: 0.0495 - val_accuracy: 0.8401\n",
            "Epoch 66/400\n",
            "121/121 [==============================] - 1s 5ms/step - loss: 0.0396 - accuracy: 0.8883 - val_loss: 0.0496 - val_accuracy: 0.8401\n",
            "Epoch 67/400\n",
            "121/121 [==============================] - 1s 5ms/step - loss: 0.0395 - accuracy: 0.8850 - val_loss: 0.0495 - val_accuracy: 0.8401\n",
            "Epoch 68/400\n",
            "121/121 [==============================] - 1s 5ms/step - loss: 0.0394 - accuracy: 0.8867 - val_loss: 0.0492 - val_accuracy: 0.8420\n",
            "Epoch 69/400\n",
            "121/121 [==============================] - 1s 5ms/step - loss: 0.0393 - accuracy: 0.8875 - val_loss: 0.0492 - val_accuracy: 0.8459\n",
            "Epoch 70/400\n",
            "121/121 [==============================] - 1s 5ms/step - loss: 0.0391 - accuracy: 0.8867 - val_loss: 0.0490 - val_accuracy: 0.8439\n",
            "Epoch 71/400\n",
            "121/121 [==============================] - 1s 5ms/step - loss: 0.0391 - accuracy: 0.8908 - val_loss: 0.0489 - val_accuracy: 0.8401\n",
            "Epoch 72/400\n",
            "121/121 [==============================] - 1s 5ms/step - loss: 0.0390 - accuracy: 0.8875 - val_loss: 0.0488 - val_accuracy: 0.8420\n",
            "Epoch 73/400\n",
            "121/121 [==============================] - 1s 5ms/step - loss: 0.0389 - accuracy: 0.8867 - val_loss: 0.0489 - val_accuracy: 0.8420\n",
            "Epoch 74/400\n",
            "121/121 [==============================] - 1s 5ms/step - loss: 0.0387 - accuracy: 0.8916 - val_loss: 0.0485 - val_accuracy: 0.8478\n",
            "Epoch 75/400\n",
            "121/121 [==============================] - 1s 5ms/step - loss: 0.0386 - accuracy: 0.8916 - val_loss: 0.0486 - val_accuracy: 0.8439\n",
            "Epoch 76/400\n",
            "121/121 [==============================] - 1s 5ms/step - loss: 0.0385 - accuracy: 0.8950 - val_loss: 0.0485 - val_accuracy: 0.8497\n",
            "Epoch 77/400\n",
            "121/121 [==============================] - 1s 5ms/step - loss: 0.0385 - accuracy: 0.8908 - val_loss: 0.0484 - val_accuracy: 0.8478\n",
            "Epoch 78/400\n",
            "121/121 [==============================] - 1s 5ms/step - loss: 0.0383 - accuracy: 0.8916 - val_loss: 0.0482 - val_accuracy: 0.8497\n",
            "Epoch 79/400\n",
            "121/121 [==============================] - 1s 5ms/step - loss: 0.0382 - accuracy: 0.8892 - val_loss: 0.0481 - val_accuracy: 0.8516\n",
            "Epoch 80/400\n",
            "121/121 [==============================] - 1s 5ms/step - loss: 0.0381 - accuracy: 0.8933 - val_loss: 0.0481 - val_accuracy: 0.8555\n",
            "Epoch 81/400\n",
            "121/121 [==============================] - 1s 5ms/step - loss: 0.0380 - accuracy: 0.8941 - val_loss: 0.0480 - val_accuracy: 0.8536\n",
            "Epoch 82/400\n",
            "121/121 [==============================] - 1s 5ms/step - loss: 0.0379 - accuracy: 0.8933 - val_loss: 0.0477 - val_accuracy: 0.8574\n",
            "Epoch 83/400\n",
            "121/121 [==============================] - 1s 5ms/step - loss: 0.0378 - accuracy: 0.8950 - val_loss: 0.0477 - val_accuracy: 0.8536\n",
            "Epoch 84/400\n",
            "121/121 [==============================] - 1s 5ms/step - loss: 0.0376 - accuracy: 0.8950 - val_loss: 0.0476 - val_accuracy: 0.8555\n",
            "Epoch 85/400\n",
            "121/121 [==============================] - 1s 8ms/step - loss: 0.0376 - accuracy: 0.8950 - val_loss: 0.0475 - val_accuracy: 0.8516\n",
            "Epoch 86/400\n",
            "121/121 [==============================] - 1s 12ms/step - loss: 0.0375 - accuracy: 0.8933 - val_loss: 0.0474 - val_accuracy: 0.8536\n",
            "Epoch 87/400\n",
            "121/121 [==============================] - 2s 13ms/step - loss: 0.0374 - accuracy: 0.8941 - val_loss: 0.0472 - val_accuracy: 0.8555\n",
            "Epoch 88/400\n",
            "121/121 [==============================] - 1s 11ms/step - loss: 0.0372 - accuracy: 0.8958 - val_loss: 0.0470 - val_accuracy: 0.8613\n",
            "Epoch 89/400\n",
            "121/121 [==============================] - 1s 6ms/step - loss: 0.0372 - accuracy: 0.8958 - val_loss: 0.0469 - val_accuracy: 0.8593\n",
            "Epoch 90/400\n",
            "121/121 [==============================] - 1s 5ms/step - loss: 0.0370 - accuracy: 0.8958 - val_loss: 0.0469 - val_accuracy: 0.8593\n",
            "Epoch 91/400\n",
            "121/121 [==============================] - 1s 5ms/step - loss: 0.0369 - accuracy: 0.8991 - val_loss: 0.0466 - val_accuracy: 0.8593\n",
            "Epoch 92/400\n",
            "121/121 [==============================] - 1s 5ms/step - loss: 0.0368 - accuracy: 0.9016 - val_loss: 0.0466 - val_accuracy: 0.8574\n",
            "Epoch 93/400\n",
            "121/121 [==============================] - 1s 5ms/step - loss: 0.0368 - accuracy: 0.8958 - val_loss: 0.0465 - val_accuracy: 0.8593\n",
            "Epoch 94/400\n",
            "121/121 [==============================] - 1s 5ms/step - loss: 0.0365 - accuracy: 0.8991 - val_loss: 0.0463 - val_accuracy: 0.8593\n",
            "Epoch 95/400\n",
            "121/121 [==============================] - 1s 5ms/step - loss: 0.0365 - accuracy: 0.8983 - val_loss: 0.0462 - val_accuracy: 0.8593\n",
            "Epoch 96/400\n",
            "121/121 [==============================] - 1s 5ms/step - loss: 0.0364 - accuracy: 0.9007 - val_loss: 0.0460 - val_accuracy: 0.8593\n",
            "Epoch 97/400\n",
            "121/121 [==============================] - 1s 5ms/step - loss: 0.0362 - accuracy: 0.8991 - val_loss: 0.0459 - val_accuracy: 0.8593\n",
            "Epoch 98/400\n",
            "121/121 [==============================] - 1s 5ms/step - loss: 0.0362 - accuracy: 0.8999 - val_loss: 0.0458 - val_accuracy: 0.8690\n",
            "Epoch 99/400\n",
            "121/121 [==============================] - 1s 5ms/step - loss: 0.0360 - accuracy: 0.9041 - val_loss: 0.0456 - val_accuracy: 0.8671\n",
            "Epoch 100/400\n",
            "121/121 [==============================] - 1s 5ms/step - loss: 0.0359 - accuracy: 0.8999 - val_loss: 0.0455 - val_accuracy: 0.8632\n",
            "Epoch 101/400\n",
            "121/121 [==============================] - 1s 5ms/step - loss: 0.0357 - accuracy: 0.9007 - val_loss: 0.0454 - val_accuracy: 0.8632\n",
            "Epoch 102/400\n",
            "121/121 [==============================] - 1s 5ms/step - loss: 0.0356 - accuracy: 0.9007 - val_loss: 0.0452 - val_accuracy: 0.8709\n",
            "Epoch 103/400\n",
            "121/121 [==============================] - 1s 5ms/step - loss: 0.0355 - accuracy: 0.9082 - val_loss: 0.0450 - val_accuracy: 0.8671\n",
            "Epoch 104/400\n",
            "121/121 [==============================] - 1s 5ms/step - loss: 0.0354 - accuracy: 0.9041 - val_loss: 0.0450 - val_accuracy: 0.8709\n",
            "Epoch 105/400\n",
            "121/121 [==============================] - 1s 5ms/step - loss: 0.0353 - accuracy: 0.9041 - val_loss: 0.0448 - val_accuracy: 0.8728\n",
            "Epoch 106/400\n",
            "121/121 [==============================] - 1s 5ms/step - loss: 0.0352 - accuracy: 0.9049 - val_loss: 0.0447 - val_accuracy: 0.8728\n",
            "Epoch 107/400\n",
            "121/121 [==============================] - 1s 5ms/step - loss: 0.0351 - accuracy: 0.9065 - val_loss: 0.0446 - val_accuracy: 0.8709\n",
            "Epoch 108/400\n",
            "121/121 [==============================] - 1s 5ms/step - loss: 0.0350 - accuracy: 0.9057 - val_loss: 0.0445 - val_accuracy: 0.8709\n",
            "Epoch 109/400\n",
            "121/121 [==============================] - 1s 5ms/step - loss: 0.0348 - accuracy: 0.9074 - val_loss: 0.0443 - val_accuracy: 0.8728\n",
            "Epoch 110/400\n",
            "121/121 [==============================] - 1s 5ms/step - loss: 0.0347 - accuracy: 0.9082 - val_loss: 0.0443 - val_accuracy: 0.8728\n",
            "Epoch 111/400\n",
            "121/121 [==============================] - 1s 5ms/step - loss: 0.0347 - accuracy: 0.9074 - val_loss: 0.0441 - val_accuracy: 0.8728\n",
            "Epoch 112/400\n",
            "121/121 [==============================] - 1s 5ms/step - loss: 0.0345 - accuracy: 0.9090 - val_loss: 0.0439 - val_accuracy: 0.8728\n",
            "Epoch 113/400\n",
            "121/121 [==============================] - 1s 5ms/step - loss: 0.0343 - accuracy: 0.9090 - val_loss: 0.0437 - val_accuracy: 0.8728\n",
            "Epoch 114/400\n",
            "121/121 [==============================] - 1s 5ms/step - loss: 0.0343 - accuracy: 0.9098 - val_loss: 0.0436 - val_accuracy: 0.8767\n",
            "Epoch 115/400\n",
            "121/121 [==============================] - 1s 5ms/step - loss: 0.0341 - accuracy: 0.9115 - val_loss: 0.0435 - val_accuracy: 0.8767\n",
            "Epoch 116/400\n",
            "121/121 [==============================] - 1s 5ms/step - loss: 0.0340 - accuracy: 0.9107 - val_loss: 0.0433 - val_accuracy: 0.8748\n",
            "Epoch 117/400\n",
            "121/121 [==============================] - 1s 5ms/step - loss: 0.0339 - accuracy: 0.9115 - val_loss: 0.0432 - val_accuracy: 0.8786\n",
            "Epoch 118/400\n",
            "121/121 [==============================] - 1s 5ms/step - loss: 0.0338 - accuracy: 0.9090 - val_loss: 0.0431 - val_accuracy: 0.8786\n",
            "Epoch 119/400\n",
            "121/121 [==============================] - 1s 5ms/step - loss: 0.0336 - accuracy: 0.9090 - val_loss: 0.0430 - val_accuracy: 0.8786\n",
            "Epoch 120/400\n",
            "121/121 [==============================] - 1s 5ms/step - loss: 0.0335 - accuracy: 0.9098 - val_loss: 0.0429 - val_accuracy: 0.8767\n",
            "Epoch 121/400\n",
            "121/121 [==============================] - 1s 5ms/step - loss: 0.0335 - accuracy: 0.9098 - val_loss: 0.0427 - val_accuracy: 0.8825\n",
            "Epoch 122/400\n",
            "121/121 [==============================] - 1s 5ms/step - loss: 0.0334 - accuracy: 0.9140 - val_loss: 0.0425 - val_accuracy: 0.8786\n",
            "Epoch 123/400\n",
            "121/121 [==============================] - 1s 5ms/step - loss: 0.0333 - accuracy: 0.9123 - val_loss: 0.0425 - val_accuracy: 0.8805\n",
            "Epoch 124/400\n",
            "121/121 [==============================] - 1s 5ms/step - loss: 0.0330 - accuracy: 0.9123 - val_loss: 0.0424 - val_accuracy: 0.8728\n",
            "Epoch 125/400\n",
            "121/121 [==============================] - 1s 5ms/step - loss: 0.0330 - accuracy: 0.9123 - val_loss: 0.0423 - val_accuracy: 0.8767\n",
            "Epoch 126/400\n",
            "121/121 [==============================] - 1s 5ms/step - loss: 0.0328 - accuracy: 0.9132 - val_loss: 0.0421 - val_accuracy: 0.8767\n",
            "Epoch 127/400\n",
            "121/121 [==============================] - 1s 5ms/step - loss: 0.0327 - accuracy: 0.9132 - val_loss: 0.0419 - val_accuracy: 0.8805\n",
            "Epoch 128/400\n",
            "121/121 [==============================] - 1s 5ms/step - loss: 0.0326 - accuracy: 0.9140 - val_loss: 0.0418 - val_accuracy: 0.8805\n",
            "Epoch 129/400\n",
            "121/121 [==============================] - 1s 5ms/step - loss: 0.0325 - accuracy: 0.9140 - val_loss: 0.0417 - val_accuracy: 0.8825\n",
            "Epoch 130/400\n",
            "121/121 [==============================] - 1s 5ms/step - loss: 0.0324 - accuracy: 0.9156 - val_loss: 0.0415 - val_accuracy: 0.8805\n",
            "Epoch 131/400\n",
            "121/121 [==============================] - 1s 5ms/step - loss: 0.0323 - accuracy: 0.9107 - val_loss: 0.0415 - val_accuracy: 0.8825\n",
            "Epoch 132/400\n",
            "121/121 [==============================] - 1s 5ms/step - loss: 0.0322 - accuracy: 0.9140 - val_loss: 0.0412 - val_accuracy: 0.8825\n",
            "Epoch 133/400\n",
            "121/121 [==============================] - 1s 5ms/step - loss: 0.0321 - accuracy: 0.9173 - val_loss: 0.0412 - val_accuracy: 0.8825\n",
            "Epoch 134/400\n",
            "121/121 [==============================] - 1s 5ms/step - loss: 0.0320 - accuracy: 0.9148 - val_loss: 0.0410 - val_accuracy: 0.8863\n",
            "Epoch 135/400\n",
            "121/121 [==============================] - 1s 5ms/step - loss: 0.0319 - accuracy: 0.9165 - val_loss: 0.0410 - val_accuracy: 0.8825\n",
            "Epoch 136/400\n",
            "121/121 [==============================] - 1s 5ms/step - loss: 0.0318 - accuracy: 0.9156 - val_loss: 0.0408 - val_accuracy: 0.8805\n",
            "Epoch 137/400\n",
            "121/121 [==============================] - 1s 5ms/step - loss: 0.0317 - accuracy: 0.9181 - val_loss: 0.0407 - val_accuracy: 0.8863\n",
            "Epoch 138/400\n",
            "121/121 [==============================] - 1s 5ms/step - loss: 0.0315 - accuracy: 0.9156 - val_loss: 0.0405 - val_accuracy: 0.8805\n",
            "Epoch 139/400\n",
            "121/121 [==============================] - 1s 5ms/step - loss: 0.0314 - accuracy: 0.9189 - val_loss: 0.0404 - val_accuracy: 0.8825\n",
            "Epoch 140/400\n",
            "121/121 [==============================] - 1s 5ms/step - loss: 0.0313 - accuracy: 0.9148 - val_loss: 0.0403 - val_accuracy: 0.8844\n",
            "Epoch 141/400\n",
            "121/121 [==============================] - 1s 5ms/step - loss: 0.0312 - accuracy: 0.9189 - val_loss: 0.0401 - val_accuracy: 0.8882\n",
            "Epoch 142/400\n",
            "121/121 [==============================] - 1s 5ms/step - loss: 0.0310 - accuracy: 0.9181 - val_loss: 0.0401 - val_accuracy: 0.8882\n",
            "Epoch 143/400\n",
            "121/121 [==============================] - 1s 5ms/step - loss: 0.0310 - accuracy: 0.9156 - val_loss: 0.0399 - val_accuracy: 0.8882\n",
            "Epoch 144/400\n",
            "121/121 [==============================] - 1s 5ms/step - loss: 0.0309 - accuracy: 0.9189 - val_loss: 0.0400 - val_accuracy: 0.8882\n",
            "Epoch 145/400\n",
            "121/121 [==============================] - 1s 5ms/step - loss: 0.0307 - accuracy: 0.9181 - val_loss: 0.0397 - val_accuracy: 0.8882\n",
            "Epoch 146/400\n",
            "121/121 [==============================] - 1s 5ms/step - loss: 0.0306 - accuracy: 0.9189 - val_loss: 0.0396 - val_accuracy: 0.8882\n",
            "Epoch 147/400\n",
            "121/121 [==============================] - 1s 5ms/step - loss: 0.0305 - accuracy: 0.9214 - val_loss: 0.0394 - val_accuracy: 0.8902\n",
            "Epoch 148/400\n",
            "121/121 [==============================] - 1s 5ms/step - loss: 0.0303 - accuracy: 0.9222 - val_loss: 0.0393 - val_accuracy: 0.8882\n",
            "Epoch 149/400\n",
            "121/121 [==============================] - 1s 5ms/step - loss: 0.0303 - accuracy: 0.9181 - val_loss: 0.0392 - val_accuracy: 0.8902\n",
            "Epoch 150/400\n",
            "121/121 [==============================] - 1s 5ms/step - loss: 0.0302 - accuracy: 0.9214 - val_loss: 0.0390 - val_accuracy: 0.8921\n",
            "Epoch 151/400\n",
            "121/121 [==============================] - 1s 5ms/step - loss: 0.0301 - accuracy: 0.9222 - val_loss: 0.0389 - val_accuracy: 0.8882\n",
            "Epoch 152/400\n",
            "121/121 [==============================] - 1s 5ms/step - loss: 0.0300 - accuracy: 0.9214 - val_loss: 0.0388 - val_accuracy: 0.8902\n",
            "Epoch 153/400\n",
            "121/121 [==============================] - 1s 5ms/step - loss: 0.0298 - accuracy: 0.9189 - val_loss: 0.0386 - val_accuracy: 0.8940\n",
            "Epoch 154/400\n",
            "121/121 [==============================] - 1s 5ms/step - loss: 0.0297 - accuracy: 0.9206 - val_loss: 0.0385 - val_accuracy: 0.8921\n",
            "Epoch 155/400\n",
            "121/121 [==============================] - 1s 5ms/step - loss: 0.0296 - accuracy: 0.9214 - val_loss: 0.0384 - val_accuracy: 0.8921\n",
            "Epoch 156/400\n",
            "121/121 [==============================] - 1s 5ms/step - loss: 0.0295 - accuracy: 0.9198 - val_loss: 0.0383 - val_accuracy: 0.8940\n",
            "Epoch 157/400\n",
            "121/121 [==============================] - 1s 5ms/step - loss: 0.0294 - accuracy: 0.9239 - val_loss: 0.0382 - val_accuracy: 0.8921\n",
            "Epoch 158/400\n",
            "121/121 [==============================] - 1s 5ms/step - loss: 0.0293 - accuracy: 0.9256 - val_loss: 0.0380 - val_accuracy: 0.8979\n",
            "Epoch 159/400\n",
            "121/121 [==============================] - 1s 5ms/step - loss: 0.0291 - accuracy: 0.9256 - val_loss: 0.0379 - val_accuracy: 0.8960\n",
            "Epoch 160/400\n",
            "121/121 [==============================] - 1s 5ms/step - loss: 0.0291 - accuracy: 0.9231 - val_loss: 0.0378 - val_accuracy: 0.8998\n",
            "Epoch 161/400\n",
            "121/121 [==============================] - 1s 5ms/step - loss: 0.0289 - accuracy: 0.9239 - val_loss: 0.0378 - val_accuracy: 0.8940\n",
            "Epoch 162/400\n",
            "121/121 [==============================] - 1s 5ms/step - loss: 0.0289 - accuracy: 0.9272 - val_loss: 0.0376 - val_accuracy: 0.8940\n",
            "Epoch 163/400\n",
            "121/121 [==============================] - 1s 5ms/step - loss: 0.0288 - accuracy: 0.9256 - val_loss: 0.0374 - val_accuracy: 0.8998\n",
            "Epoch 164/400\n",
            "121/121 [==============================] - 1s 5ms/step - loss: 0.0286 - accuracy: 0.9264 - val_loss: 0.0374 - val_accuracy: 0.8960\n",
            "Epoch 165/400\n",
            "121/121 [==============================] - 1s 5ms/step - loss: 0.0285 - accuracy: 0.9280 - val_loss: 0.0373 - val_accuracy: 0.8998\n",
            "Epoch 166/400\n",
            "121/121 [==============================] - 1s 5ms/step - loss: 0.0284 - accuracy: 0.9272 - val_loss: 0.0370 - val_accuracy: 0.8979\n",
            "Epoch 167/400\n",
            "121/121 [==============================] - 1s 5ms/step - loss: 0.0283 - accuracy: 0.9289 - val_loss: 0.0370 - val_accuracy: 0.9017\n",
            "Epoch 168/400\n",
            "121/121 [==============================] - 1s 5ms/step - loss: 0.0282 - accuracy: 0.9289 - val_loss: 0.0369 - val_accuracy: 0.8998\n",
            "Epoch 169/400\n",
            "121/121 [==============================] - 1s 5ms/step - loss: 0.0282 - accuracy: 0.9297 - val_loss: 0.0368 - val_accuracy: 0.9017\n",
            "Epoch 170/400\n",
            "121/121 [==============================] - 1s 5ms/step - loss: 0.0280 - accuracy: 0.9280 - val_loss: 0.0366 - val_accuracy: 0.9037\n",
            "Epoch 171/400\n",
            "121/121 [==============================] - 1s 5ms/step - loss: 0.0279 - accuracy: 0.9297 - val_loss: 0.0366 - val_accuracy: 0.9017\n",
            "Epoch 172/400\n",
            "121/121 [==============================] - 1s 5ms/step - loss: 0.0279 - accuracy: 0.9322 - val_loss: 0.0366 - val_accuracy: 0.9017\n",
            "Epoch 173/400\n",
            "121/121 [==============================] - 1s 5ms/step - loss: 0.0277 - accuracy: 0.9313 - val_loss: 0.0362 - val_accuracy: 0.9037\n",
            "Epoch 174/400\n",
            "121/121 [==============================] - 1s 5ms/step - loss: 0.0276 - accuracy: 0.9313 - val_loss: 0.0362 - val_accuracy: 0.9037\n",
            "Epoch 175/400\n",
            "121/121 [==============================] - 1s 5ms/step - loss: 0.0275 - accuracy: 0.9313 - val_loss: 0.0361 - val_accuracy: 0.9075\n",
            "Epoch 176/400\n",
            "121/121 [==============================] - 1s 5ms/step - loss: 0.0275 - accuracy: 0.9272 - val_loss: 0.0360 - val_accuracy: 0.9056\n",
            "Epoch 177/400\n",
            "121/121 [==============================] - 1s 5ms/step - loss: 0.0273 - accuracy: 0.9322 - val_loss: 0.0358 - val_accuracy: 0.9075\n",
            "Epoch 178/400\n",
            "121/121 [==============================] - 1s 5ms/step - loss: 0.0273 - accuracy: 0.9330 - val_loss: 0.0358 - val_accuracy: 0.9037\n",
            "Epoch 179/400\n",
            "121/121 [==============================] - 1s 5ms/step - loss: 0.0271 - accuracy: 0.9338 - val_loss: 0.0356 - val_accuracy: 0.9056\n",
            "Epoch 180/400\n",
            "121/121 [==============================] - 1s 5ms/step - loss: 0.0271 - accuracy: 0.9338 - val_loss: 0.0354 - val_accuracy: 0.9075\n",
            "Epoch 181/400\n",
            "121/121 [==============================] - 1s 5ms/step - loss: 0.0270 - accuracy: 0.9338 - val_loss: 0.0353 - val_accuracy: 0.9094\n",
            "Epoch 182/400\n",
            "121/121 [==============================] - 1s 5ms/step - loss: 0.0268 - accuracy: 0.9338 - val_loss: 0.0352 - val_accuracy: 0.9094\n",
            "Epoch 183/400\n",
            "121/121 [==============================] - 1s 5ms/step - loss: 0.0267 - accuracy: 0.9338 - val_loss: 0.0353 - val_accuracy: 0.9056\n",
            "Epoch 184/400\n",
            "121/121 [==============================] - 1s 5ms/step - loss: 0.0268 - accuracy: 0.9355 - val_loss: 0.0351 - val_accuracy: 0.9056\n",
            "Epoch 185/400\n",
            "121/121 [==============================] - 1s 5ms/step - loss: 0.0266 - accuracy: 0.9363 - val_loss: 0.0350 - val_accuracy: 0.9037\n",
            "Epoch 186/400\n",
            "121/121 [==============================] - 1s 5ms/step - loss: 0.0264 - accuracy: 0.9363 - val_loss: 0.0348 - val_accuracy: 0.9114\n",
            "Epoch 187/400\n",
            "121/121 [==============================] - 1s 9ms/step - loss: 0.0263 - accuracy: 0.9355 - val_loss: 0.0348 - val_accuracy: 0.9094\n",
            "Epoch 188/400\n",
            "121/121 [==============================] - 1s 9ms/step - loss: 0.0263 - accuracy: 0.9371 - val_loss: 0.0347 - val_accuracy: 0.9037\n",
            "Epoch 189/400\n",
            "121/121 [==============================] - 1s 10ms/step - loss: 0.0261 - accuracy: 0.9380 - val_loss: 0.0345 - val_accuracy: 0.9094\n",
            "Epoch 190/400\n",
            "121/121 [==============================] - 1s 10ms/step - loss: 0.0261 - accuracy: 0.9371 - val_loss: 0.0344 - val_accuracy: 0.9114\n",
            "Epoch 191/400\n",
            "121/121 [==============================] - 1s 10ms/step - loss: 0.0259 - accuracy: 0.9371 - val_loss: 0.0343 - val_accuracy: 0.9094\n",
            "Epoch 192/400\n",
            "121/121 [==============================] - 1s 9ms/step - loss: 0.0259 - accuracy: 0.9380 - val_loss: 0.0340 - val_accuracy: 0.9094\n",
            "Epoch 193/400\n",
            "121/121 [==============================] - 1s 10ms/step - loss: 0.0258 - accuracy: 0.9413 - val_loss: 0.0339 - val_accuracy: 0.9114\n",
            "Epoch 194/400\n",
            "121/121 [==============================] - 1s 11ms/step - loss: 0.0257 - accuracy: 0.9380 - val_loss: 0.0340 - val_accuracy: 0.9075\n",
            "Epoch 195/400\n",
            "121/121 [==============================] - 1s 7ms/step - loss: 0.0255 - accuracy: 0.9404 - val_loss: 0.0339 - val_accuracy: 0.9094\n",
            "Epoch 196/400\n",
            "121/121 [==============================] - 1s 5ms/step - loss: 0.0255 - accuracy: 0.9388 - val_loss: 0.0337 - val_accuracy: 0.9075\n",
            "Epoch 197/400\n",
            "121/121 [==============================] - 1s 5ms/step - loss: 0.0254 - accuracy: 0.9421 - val_loss: 0.0337 - val_accuracy: 0.9075\n",
            "Epoch 198/400\n",
            "121/121 [==============================] - 1s 5ms/step - loss: 0.0253 - accuracy: 0.9380 - val_loss: 0.0335 - val_accuracy: 0.9075\n",
            "Epoch 199/400\n",
            "121/121 [==============================] - 1s 5ms/step - loss: 0.0252 - accuracy: 0.9421 - val_loss: 0.0333 - val_accuracy: 0.9075\n",
            "Epoch 200/400\n",
            "121/121 [==============================] - 1s 5ms/step - loss: 0.0252 - accuracy: 0.9429 - val_loss: 0.0333 - val_accuracy: 0.9094\n",
            "Epoch 201/400\n",
            "121/121 [==============================] - 1s 5ms/step - loss: 0.0250 - accuracy: 0.9438 - val_loss: 0.0332 - val_accuracy: 0.9075\n",
            "Epoch 202/400\n",
            "121/121 [==============================] - 1s 5ms/step - loss: 0.0250 - accuracy: 0.9404 - val_loss: 0.0330 - val_accuracy: 0.9075\n",
            "Epoch 203/400\n",
            "121/121 [==============================] - 1s 5ms/step - loss: 0.0249 - accuracy: 0.9404 - val_loss: 0.0329 - val_accuracy: 0.9094\n",
            "Epoch 204/400\n",
            "121/121 [==============================] - 1s 5ms/step - loss: 0.0248 - accuracy: 0.9438 - val_loss: 0.0330 - val_accuracy: 0.9094\n",
            "Epoch 205/400\n",
            "121/121 [==============================] - 1s 5ms/step - loss: 0.0247 - accuracy: 0.9421 - val_loss: 0.0327 - val_accuracy: 0.9075\n",
            "Epoch 206/400\n",
            "121/121 [==============================] - 1s 5ms/step - loss: 0.0246 - accuracy: 0.9413 - val_loss: 0.0326 - val_accuracy: 0.9094\n",
            "Epoch 207/400\n",
            "121/121 [==============================] - 1s 5ms/step - loss: 0.0245 - accuracy: 0.9421 - val_loss: 0.0325 - val_accuracy: 0.9075\n",
            "Epoch 208/400\n",
            "121/121 [==============================] - 1s 5ms/step - loss: 0.0244 - accuracy: 0.9421 - val_loss: 0.0324 - val_accuracy: 0.9094\n",
            "Epoch 209/400\n",
            "121/121 [==============================] - 1s 5ms/step - loss: 0.0243 - accuracy: 0.9446 - val_loss: 0.0323 - val_accuracy: 0.9075\n",
            "Epoch 210/400\n",
            "121/121 [==============================] - 1s 5ms/step - loss: 0.0243 - accuracy: 0.9438 - val_loss: 0.0321 - val_accuracy: 0.9094\n",
            "Epoch 211/400\n",
            "121/121 [==============================] - 1s 5ms/step - loss: 0.0242 - accuracy: 0.9438 - val_loss: 0.0320 - val_accuracy: 0.9094\n",
            "Epoch 212/400\n",
            "121/121 [==============================] - 1s 5ms/step - loss: 0.0241 - accuracy: 0.9438 - val_loss: 0.0318 - val_accuracy: 0.9094\n",
            "Epoch 213/400\n",
            "121/121 [==============================] - 1s 5ms/step - loss: 0.0240 - accuracy: 0.9438 - val_loss: 0.0317 - val_accuracy: 0.9094\n",
            "Epoch 214/400\n",
            "121/121 [==============================] - 1s 8ms/step - loss: 0.0239 - accuracy: 0.9429 - val_loss: 0.0317 - val_accuracy: 0.9094\n",
            "Epoch 215/400\n",
            "121/121 [==============================] - 1s 5ms/step - loss: 0.0238 - accuracy: 0.9404 - val_loss: 0.0315 - val_accuracy: 0.9075\n",
            "Epoch 216/400\n",
            "121/121 [==============================] - 1s 5ms/step - loss: 0.0237 - accuracy: 0.9446 - val_loss: 0.0316 - val_accuracy: 0.9075\n",
            "Epoch 217/400\n",
            "121/121 [==============================] - 1s 5ms/step - loss: 0.0237 - accuracy: 0.9429 - val_loss: 0.0313 - val_accuracy: 0.9075\n",
            "Epoch 218/400\n",
            "121/121 [==============================] - 1s 5ms/step - loss: 0.0236 - accuracy: 0.9446 - val_loss: 0.0312 - val_accuracy: 0.9056\n",
            "Epoch 219/400\n",
            "121/121 [==============================] - 1s 5ms/step - loss: 0.0235 - accuracy: 0.9446 - val_loss: 0.0310 - val_accuracy: 0.9075\n",
            "Epoch 220/400\n",
            "121/121 [==============================] - 1s 5ms/step - loss: 0.0235 - accuracy: 0.9446 - val_loss: 0.0310 - val_accuracy: 0.9056\n",
            "Epoch 221/400\n",
            "121/121 [==============================] - 1s 5ms/step - loss: 0.0234 - accuracy: 0.9438 - val_loss: 0.0310 - val_accuracy: 0.9075\n",
            "Epoch 222/400\n",
            "121/121 [==============================] - 1s 5ms/step - loss: 0.0232 - accuracy: 0.9471 - val_loss: 0.0309 - val_accuracy: 0.9056\n",
            "Epoch 223/400\n",
            "121/121 [==============================] - 1s 5ms/step - loss: 0.0232 - accuracy: 0.9446 - val_loss: 0.0307 - val_accuracy: 0.9056\n",
            "Epoch 224/400\n",
            "121/121 [==============================] - 1s 5ms/step - loss: 0.0231 - accuracy: 0.9471 - val_loss: 0.0307 - val_accuracy: 0.9094\n",
            "Epoch 225/400\n",
            "121/121 [==============================] - 1s 5ms/step - loss: 0.0231 - accuracy: 0.9446 - val_loss: 0.0306 - val_accuracy: 0.9094\n",
            "Epoch 226/400\n",
            "121/121 [==============================] - 1s 5ms/step - loss: 0.0230 - accuracy: 0.9446 - val_loss: 0.0303 - val_accuracy: 0.9056\n",
            "Epoch 227/400\n",
            "121/121 [==============================] - 1s 5ms/step - loss: 0.0229 - accuracy: 0.9454 - val_loss: 0.0302 - val_accuracy: 0.9056\n",
            "Epoch 228/400\n",
            "121/121 [==============================] - 1s 5ms/step - loss: 0.0228 - accuracy: 0.9462 - val_loss: 0.0300 - val_accuracy: 0.9056\n",
            "Epoch 229/400\n",
            "121/121 [==============================] - 1s 5ms/step - loss: 0.0227 - accuracy: 0.9454 - val_loss: 0.0300 - val_accuracy: 0.9056\n",
            "Epoch 230/400\n",
            "121/121 [==============================] - 1s 5ms/step - loss: 0.0227 - accuracy: 0.9487 - val_loss: 0.0299 - val_accuracy: 0.9075\n",
            "Epoch 231/400\n",
            "121/121 [==============================] - 1s 5ms/step - loss: 0.0226 - accuracy: 0.9487 - val_loss: 0.0299 - val_accuracy: 0.9056\n",
            "Epoch 232/400\n",
            "121/121 [==============================] - 1s 5ms/step - loss: 0.0226 - accuracy: 0.9487 - val_loss: 0.0297 - val_accuracy: 0.9075\n",
            "Epoch 233/400\n",
            "121/121 [==============================] - 1s 5ms/step - loss: 0.0225 - accuracy: 0.9471 - val_loss: 0.0297 - val_accuracy: 0.9094\n",
            "Epoch 234/400\n",
            "121/121 [==============================] - 1s 5ms/step - loss: 0.0225 - accuracy: 0.9479 - val_loss: 0.0295 - val_accuracy: 0.9114\n",
            "Epoch 235/400\n",
            "121/121 [==============================] - 1s 5ms/step - loss: 0.0223 - accuracy: 0.9462 - val_loss: 0.0293 - val_accuracy: 0.9114\n",
            "Epoch 236/400\n",
            "121/121 [==============================] - 1s 5ms/step - loss: 0.0223 - accuracy: 0.9495 - val_loss: 0.0292 - val_accuracy: 0.9133\n",
            "Epoch 237/400\n",
            "121/121 [==============================] - 1s 5ms/step - loss: 0.0222 - accuracy: 0.9471 - val_loss: 0.0291 - val_accuracy: 0.9171\n",
            "Epoch 238/400\n",
            "121/121 [==============================] - 1s 5ms/step - loss: 0.0221 - accuracy: 0.9504 - val_loss: 0.0291 - val_accuracy: 0.9094\n",
            "Epoch 239/400\n",
            "121/121 [==============================] - 1s 6ms/step - loss: 0.0221 - accuracy: 0.9479 - val_loss: 0.0289 - val_accuracy: 0.9191\n",
            "Epoch 240/400\n",
            "121/121 [==============================] - 1s 6ms/step - loss: 0.0220 - accuracy: 0.9479 - val_loss: 0.0288 - val_accuracy: 0.9191\n",
            "Epoch 241/400\n",
            "121/121 [==============================] - 1s 7ms/step - loss: 0.0219 - accuracy: 0.9487 - val_loss: 0.0287 - val_accuracy: 0.9152\n",
            "Epoch 242/400\n",
            "121/121 [==============================] - 1s 5ms/step - loss: 0.0219 - accuracy: 0.9495 - val_loss: 0.0287 - val_accuracy: 0.9171\n",
            "Epoch 243/400\n",
            "121/121 [==============================] - 1s 5ms/step - loss: 0.0218 - accuracy: 0.9495 - val_loss: 0.0286 - val_accuracy: 0.9191\n",
            "Epoch 244/400\n",
            "121/121 [==============================] - 1s 5ms/step - loss: 0.0217 - accuracy: 0.9487 - val_loss: 0.0285 - val_accuracy: 0.9191\n",
            "Epoch 245/400\n",
            "121/121 [==============================] - 1s 5ms/step - loss: 0.0216 - accuracy: 0.9495 - val_loss: 0.0284 - val_accuracy: 0.9191\n",
            "Epoch 246/400\n",
            "121/121 [==============================] - 1s 5ms/step - loss: 0.0217 - accuracy: 0.9487 - val_loss: 0.0283 - val_accuracy: 0.9191\n",
            "Epoch 247/400\n",
            "121/121 [==============================] - 1s 5ms/step - loss: 0.0216 - accuracy: 0.9504 - val_loss: 0.0282 - val_accuracy: 0.9210\n",
            "Epoch 248/400\n",
            "121/121 [==============================] - 1s 5ms/step - loss: 0.0215 - accuracy: 0.9487 - val_loss: 0.0282 - val_accuracy: 0.9210\n",
            "Epoch 249/400\n",
            "121/121 [==============================] - 1s 5ms/step - loss: 0.0215 - accuracy: 0.9487 - val_loss: 0.0281 - val_accuracy: 0.9191\n",
            "Epoch 250/400\n",
            "121/121 [==============================] - 1s 5ms/step - loss: 0.0214 - accuracy: 0.9495 - val_loss: 0.0280 - val_accuracy: 0.9171\n",
            "Epoch 251/400\n",
            "121/121 [==============================] - 1s 5ms/step - loss: 0.0214 - accuracy: 0.9487 - val_loss: 0.0279 - val_accuracy: 0.9229\n",
            "Epoch 252/400\n",
            "121/121 [==============================] - 1s 5ms/step - loss: 0.0213 - accuracy: 0.9479 - val_loss: 0.0277 - val_accuracy: 0.9229\n",
            "Epoch 253/400\n",
            "121/121 [==============================] - 1s 5ms/step - loss: 0.0213 - accuracy: 0.9520 - val_loss: 0.0278 - val_accuracy: 0.9229\n",
            "Epoch 254/400\n",
            "121/121 [==============================] - 1s 5ms/step - loss: 0.0211 - accuracy: 0.9512 - val_loss: 0.0276 - val_accuracy: 0.9249\n",
            "Epoch 255/400\n",
            "121/121 [==============================] - 1s 5ms/step - loss: 0.0212 - accuracy: 0.9512 - val_loss: 0.0275 - val_accuracy: 0.9229\n",
            "Epoch 256/400\n",
            "121/121 [==============================] - 1s 5ms/step - loss: 0.0212 - accuracy: 0.9495 - val_loss: 0.0275 - val_accuracy: 0.9249\n",
            "Epoch 257/400\n",
            "121/121 [==============================] - 1s 5ms/step - loss: 0.0210 - accuracy: 0.9495 - val_loss: 0.0275 - val_accuracy: 0.9268\n",
            "Epoch 258/400\n",
            "121/121 [==============================] - 1s 5ms/step - loss: 0.0210 - accuracy: 0.9504 - val_loss: 0.0274 - val_accuracy: 0.9249\n",
            "Epoch 259/400\n",
            "121/121 [==============================] - 1s 5ms/step - loss: 0.0210 - accuracy: 0.9504 - val_loss: 0.0273 - val_accuracy: 0.9268\n",
            "Epoch 260/400\n",
            "121/121 [==============================] - 1s 5ms/step - loss: 0.0209 - accuracy: 0.9504 - val_loss: 0.0273 - val_accuracy: 0.9249\n",
            "Epoch 261/400\n",
            "121/121 [==============================] - 1s 5ms/step - loss: 0.0209 - accuracy: 0.9512 - val_loss: 0.0271 - val_accuracy: 0.9268\n",
            "Epoch 262/400\n",
            "121/121 [==============================] - 1s 5ms/step - loss: 0.0208 - accuracy: 0.9504 - val_loss: 0.0270 - val_accuracy: 0.9268\n",
            "Epoch 263/400\n",
            "121/121 [==============================] - 1s 5ms/step - loss: 0.0208 - accuracy: 0.9504 - val_loss: 0.0270 - val_accuracy: 0.9287\n",
            "Epoch 264/400\n",
            "121/121 [==============================] - 1s 6ms/step - loss: 0.0207 - accuracy: 0.9504 - val_loss: 0.0270 - val_accuracy: 0.9287\n",
            "Epoch 265/400\n",
            "121/121 [==============================] - 1s 5ms/step - loss: 0.0207 - accuracy: 0.9512 - val_loss: 0.0270 - val_accuracy: 0.9287\n",
            "Epoch 266/400\n",
            "121/121 [==============================] - 1s 5ms/step - loss: 0.0206 - accuracy: 0.9504 - val_loss: 0.0269 - val_accuracy: 0.9287\n",
            "Epoch 267/400\n",
            "121/121 [==============================] - 1s 5ms/step - loss: 0.0205 - accuracy: 0.9537 - val_loss: 0.0268 - val_accuracy: 0.9268\n",
            "Epoch 268/400\n",
            "121/121 [==============================] - 1s 5ms/step - loss: 0.0205 - accuracy: 0.9504 - val_loss: 0.0268 - val_accuracy: 0.9268\n",
            "Epoch 269/400\n",
            "121/121 [==============================] - 1s 5ms/step - loss: 0.0206 - accuracy: 0.9504 - val_loss: 0.0268 - val_accuracy: 0.9268\n",
            "Epoch 270/400\n",
            "121/121 [==============================] - 1s 6ms/step - loss: 0.0204 - accuracy: 0.9504 - val_loss: 0.0267 - val_accuracy: 0.9268\n",
            "Epoch 271/400\n",
            "121/121 [==============================] - 1s 5ms/step - loss: 0.0204 - accuracy: 0.9529 - val_loss: 0.0265 - val_accuracy: 0.9287\n",
            "Epoch 272/400\n",
            "121/121 [==============================] - 1s 5ms/step - loss: 0.0204 - accuracy: 0.9520 - val_loss: 0.0264 - val_accuracy: 0.9306\n",
            "Epoch 273/400\n",
            "121/121 [==============================] - 1s 5ms/step - loss: 0.0204 - accuracy: 0.9529 - val_loss: 0.0265 - val_accuracy: 0.9268\n",
            "Epoch 274/400\n",
            "121/121 [==============================] - 1s 5ms/step - loss: 0.0203 - accuracy: 0.9520 - val_loss: 0.0264 - val_accuracy: 0.9287\n",
            "Epoch 275/400\n",
            "121/121 [==============================] - 1s 5ms/step - loss: 0.0203 - accuracy: 0.9520 - val_loss: 0.0266 - val_accuracy: 0.9268\n",
            "Epoch 276/400\n",
            "121/121 [==============================] - 1s 5ms/step - loss: 0.0204 - accuracy: 0.9520 - val_loss: 0.0265 - val_accuracy: 0.9287\n",
            "Epoch 277/400\n",
            "121/121 [==============================] - 1s 5ms/step - loss: 0.0202 - accuracy: 0.9520 - val_loss: 0.0263 - val_accuracy: 0.9287\n",
            "Epoch 278/400\n",
            "121/121 [==============================] - 1s 5ms/step - loss: 0.0201 - accuracy: 0.9520 - val_loss: 0.0262 - val_accuracy: 0.9306\n",
            "Epoch 279/400\n",
            "121/121 [==============================] - 1s 5ms/step - loss: 0.0202 - accuracy: 0.9520 - val_loss: 0.0262 - val_accuracy: 0.9287\n",
            "Epoch 280/400\n",
            "121/121 [==============================] - 1s 5ms/step - loss: 0.0201 - accuracy: 0.9520 - val_loss: 0.0261 - val_accuracy: 0.9306\n",
            "Epoch 281/400\n",
            "121/121 [==============================] - 1s 6ms/step - loss: 0.0201 - accuracy: 0.9520 - val_loss: 0.0260 - val_accuracy: 0.9287\n",
            "Epoch 282/400\n",
            "121/121 [==============================] - 1s 5ms/step - loss: 0.0201 - accuracy: 0.9520 - val_loss: 0.0261 - val_accuracy: 0.9326\n",
            "Epoch 283/400\n",
            "121/121 [==============================] - 1s 5ms/step - loss: 0.0200 - accuracy: 0.9537 - val_loss: 0.0260 - val_accuracy: 0.9345\n",
            "Epoch 284/400\n",
            "121/121 [==============================] - 1s 5ms/step - loss: 0.0200 - accuracy: 0.9512 - val_loss: 0.0261 - val_accuracy: 0.9326\n",
            "Epoch 285/400\n",
            "121/121 [==============================] - 1s 5ms/step - loss: 0.0200 - accuracy: 0.9537 - val_loss: 0.0259 - val_accuracy: 0.9268\n",
            "Epoch 286/400\n",
            "121/121 [==============================] - 1s 5ms/step - loss: 0.0199 - accuracy: 0.9529 - val_loss: 0.0257 - val_accuracy: 0.9326\n",
            "Epoch 287/400\n",
            "121/121 [==============================] - 1s 5ms/step - loss: 0.0199 - accuracy: 0.9520 - val_loss: 0.0258 - val_accuracy: 0.9326\n",
            "Epoch 288/400\n",
            "121/121 [==============================] - 1s 5ms/step - loss: 0.0198 - accuracy: 0.9520 - val_loss: 0.0258 - val_accuracy: 0.9326\n",
            "Epoch 289/400\n",
            "121/121 [==============================] - 1s 5ms/step - loss: 0.0198 - accuracy: 0.9520 - val_loss: 0.0257 - val_accuracy: 0.9345\n",
            "Epoch 290/400\n",
            "121/121 [==============================] - 1s 5ms/step - loss: 0.0198 - accuracy: 0.9512 - val_loss: 0.0257 - val_accuracy: 0.9345\n",
            "Epoch 291/400\n",
            "121/121 [==============================] - 1s 5ms/step - loss: 0.0197 - accuracy: 0.9529 - val_loss: 0.0257 - val_accuracy: 0.9326\n",
            "Epoch 292/400\n",
            "121/121 [==============================] - 1s 5ms/step - loss: 0.0197 - accuracy: 0.9537 - val_loss: 0.0256 - val_accuracy: 0.9345\n",
            "Epoch 293/400\n",
            "121/121 [==============================] - 1s 5ms/step - loss: 0.0197 - accuracy: 0.9520 - val_loss: 0.0256 - val_accuracy: 0.9345\n",
            "Epoch 294/400\n",
            "121/121 [==============================] - 1s 5ms/step - loss: 0.0197 - accuracy: 0.9520 - val_loss: 0.0255 - val_accuracy: 0.9345\n",
            "Epoch 295/400\n",
            "121/121 [==============================] - 1s 5ms/step - loss: 0.0196 - accuracy: 0.9520 - val_loss: 0.0255 - val_accuracy: 0.9326\n",
            "Epoch 296/400\n",
            "121/121 [==============================] - 1s 5ms/step - loss: 0.0196 - accuracy: 0.9520 - val_loss: 0.0254 - val_accuracy: 0.9345\n",
            "Epoch 297/400\n",
            "121/121 [==============================] - 1s 5ms/step - loss: 0.0195 - accuracy: 0.9545 - val_loss: 0.0255 - val_accuracy: 0.9345\n",
            "Epoch 298/400\n",
            "121/121 [==============================] - 1s 5ms/step - loss: 0.0196 - accuracy: 0.9520 - val_loss: 0.0253 - val_accuracy: 0.9364\n",
            "Epoch 299/400\n",
            "121/121 [==============================] - 1s 5ms/step - loss: 0.0196 - accuracy: 0.9504 - val_loss: 0.0252 - val_accuracy: 0.9364\n",
            "Epoch 300/400\n",
            "121/121 [==============================] - 1s 5ms/step - loss: 0.0195 - accuracy: 0.9529 - val_loss: 0.0253 - val_accuracy: 0.9364\n",
            "Epoch 301/400\n",
            "121/121 [==============================] - 1s 5ms/step - loss: 0.0195 - accuracy: 0.9537 - val_loss: 0.0252 - val_accuracy: 0.9345\n",
            "Epoch 302/400\n",
            "121/121 [==============================] - 1s 5ms/step - loss: 0.0195 - accuracy: 0.9537 - val_loss: 0.0253 - val_accuracy: 0.9364\n",
            "Epoch 303/400\n",
            "121/121 [==============================] - 1s 5ms/step - loss: 0.0194 - accuracy: 0.9520 - val_loss: 0.0252 - val_accuracy: 0.9364\n",
            "Epoch 304/400\n",
            "121/121 [==============================] - 1s 5ms/step - loss: 0.0194 - accuracy: 0.9537 - val_loss: 0.0252 - val_accuracy: 0.9326\n",
            "Epoch 305/400\n",
            "121/121 [==============================] - 1s 5ms/step - loss: 0.0194 - accuracy: 0.9529 - val_loss: 0.0251 - val_accuracy: 0.9345\n",
            "Epoch 306/400\n",
            "121/121 [==============================] - 1s 5ms/step - loss: 0.0193 - accuracy: 0.9529 - val_loss: 0.0251 - val_accuracy: 0.9345\n",
            "Epoch 307/400\n",
            "121/121 [==============================] - 1s 5ms/step - loss: 0.0193 - accuracy: 0.9504 - val_loss: 0.0251 - val_accuracy: 0.9364\n",
            "Epoch 308/400\n",
            "121/121 [==============================] - 1s 5ms/step - loss: 0.0194 - accuracy: 0.9570 - val_loss: 0.0251 - val_accuracy: 0.9383\n",
            "Epoch 309/400\n",
            "121/121 [==============================] - 1s 5ms/step - loss: 0.0193 - accuracy: 0.9520 - val_loss: 0.0251 - val_accuracy: 0.9364\n",
            "Epoch 310/400\n",
            "121/121 [==============================] - 1s 5ms/step - loss: 0.0192 - accuracy: 0.9520 - val_loss: 0.0250 - val_accuracy: 0.9364\n",
            "Epoch 311/400\n",
            "121/121 [==============================] - 1s 5ms/step - loss: 0.0192 - accuracy: 0.9512 - val_loss: 0.0250 - val_accuracy: 0.9364\n",
            "Epoch 312/400\n",
            "121/121 [==============================] - 1s 5ms/step - loss: 0.0192 - accuracy: 0.9562 - val_loss: 0.0251 - val_accuracy: 0.9364\n",
            "Epoch 313/400\n",
            "121/121 [==============================] - 1s 5ms/step - loss: 0.0192 - accuracy: 0.9520 - val_loss: 0.0249 - val_accuracy: 0.9383\n",
            "Epoch 314/400\n",
            "121/121 [==============================] - 1s 5ms/step - loss: 0.0191 - accuracy: 0.9529 - val_loss: 0.0250 - val_accuracy: 0.9383\n",
            "Epoch 315/400\n",
            "121/121 [==============================] - 1s 5ms/step - loss: 0.0191 - accuracy: 0.9520 - val_loss: 0.0250 - val_accuracy: 0.9364\n",
            "Epoch 316/400\n",
            "121/121 [==============================] - 1s 5ms/step - loss: 0.0191 - accuracy: 0.9512 - val_loss: 0.0250 - val_accuracy: 0.9364\n",
            "Epoch 317/400\n",
            "121/121 [==============================] - 1s 5ms/step - loss: 0.0191 - accuracy: 0.9520 - val_loss: 0.0250 - val_accuracy: 0.9364\n",
            "Epoch 318/400\n",
            "121/121 [==============================] - 1s 5ms/step - loss: 0.0190 - accuracy: 0.9553 - val_loss: 0.0249 - val_accuracy: 0.9345\n",
            "Epoch 319/400\n",
            "121/121 [==============================] - 1s 5ms/step - loss: 0.0190 - accuracy: 0.9529 - val_loss: 0.0247 - val_accuracy: 0.9364\n",
            "Epoch 320/400\n",
            "121/121 [==============================] - 1s 5ms/step - loss: 0.0190 - accuracy: 0.9520 - val_loss: 0.0247 - val_accuracy: 0.9364\n",
            "Epoch 321/400\n",
            "121/121 [==============================] - 1s 5ms/step - loss: 0.0190 - accuracy: 0.9537 - val_loss: 0.0248 - val_accuracy: 0.9383\n",
            "Epoch 322/400\n",
            "121/121 [==============================] - 1s 5ms/step - loss: 0.0190 - accuracy: 0.9520 - val_loss: 0.0248 - val_accuracy: 0.9383\n",
            "Epoch 323/400\n",
            "121/121 [==============================] - 1s 5ms/step - loss: 0.0189 - accuracy: 0.9512 - val_loss: 0.0246 - val_accuracy: 0.9403\n",
            "Epoch 324/400\n",
            "121/121 [==============================] - 1s 6ms/step - loss: 0.0189 - accuracy: 0.9529 - val_loss: 0.0246 - val_accuracy: 0.9383\n",
            "Epoch 325/400\n",
            "121/121 [==============================] - 1s 5ms/step - loss: 0.0189 - accuracy: 0.9520 - val_loss: 0.0246 - val_accuracy: 0.9364\n",
            "Epoch 326/400\n",
            "121/121 [==============================] - 1s 5ms/step - loss: 0.0188 - accuracy: 0.9537 - val_loss: 0.0245 - val_accuracy: 0.9364\n",
            "Epoch 327/400\n",
            "121/121 [==============================] - 1s 6ms/step - loss: 0.0189 - accuracy: 0.9520 - val_loss: 0.0246 - val_accuracy: 0.9364\n",
            "Epoch 328/400\n",
            "121/121 [==============================] - 1s 5ms/step - loss: 0.0188 - accuracy: 0.9529 - val_loss: 0.0245 - val_accuracy: 0.9364\n",
            "Epoch 329/400\n",
            "121/121 [==============================] - 1s 5ms/step - loss: 0.0188 - accuracy: 0.9545 - val_loss: 0.0246 - val_accuracy: 0.9383\n",
            "Epoch 330/400\n",
            "121/121 [==============================] - 1s 5ms/step - loss: 0.0188 - accuracy: 0.9537 - val_loss: 0.0246 - val_accuracy: 0.9345\n",
            "Epoch 331/400\n",
            "121/121 [==============================] - 1s 5ms/step - loss: 0.0187 - accuracy: 0.9537 - val_loss: 0.0245 - val_accuracy: 0.9383\n",
            "Epoch 332/400\n",
            "121/121 [==============================] - 1s 5ms/step - loss: 0.0188 - accuracy: 0.9512 - val_loss: 0.0244 - val_accuracy: 0.9345\n",
            "Epoch 333/400\n",
            "121/121 [==============================] - 1s 5ms/step - loss: 0.0188 - accuracy: 0.9512 - val_loss: 0.0245 - val_accuracy: 0.9345\n",
            "Epoch 334/400\n",
            "121/121 [==============================] - 1s 6ms/step - loss: 0.0188 - accuracy: 0.9545 - val_loss: 0.0244 - val_accuracy: 0.9364\n",
            "Epoch 335/400\n",
            "121/121 [==============================] - 1s 5ms/step - loss: 0.0187 - accuracy: 0.9537 - val_loss: 0.0243 - val_accuracy: 0.9364\n",
            "Epoch 336/400\n",
            "121/121 [==============================] - 1s 5ms/step - loss: 0.0187 - accuracy: 0.9520 - val_loss: 0.0242 - val_accuracy: 0.9383\n",
            "Epoch 337/400\n",
            "121/121 [==============================] - 1s 5ms/step - loss: 0.0187 - accuracy: 0.9537 - val_loss: 0.0243 - val_accuracy: 0.9364\n",
            "Epoch 338/400\n",
            "121/121 [==============================] - 1s 6ms/step - loss: 0.0186 - accuracy: 0.9520 - val_loss: 0.0244 - val_accuracy: 0.9383\n",
            "Epoch 339/400\n",
            "121/121 [==============================] - 1s 5ms/step - loss: 0.0187 - accuracy: 0.9512 - val_loss: 0.0243 - val_accuracy: 0.9383\n",
            "Epoch 340/400\n",
            "121/121 [==============================] - 1s 5ms/step - loss: 0.0186 - accuracy: 0.9529 - val_loss: 0.0242 - val_accuracy: 0.9403\n",
            "Epoch 341/400\n",
            "121/121 [==============================] - 1s 6ms/step - loss: 0.0186 - accuracy: 0.9537 - val_loss: 0.0241 - val_accuracy: 0.9403\n",
            "Epoch 342/400\n",
            "121/121 [==============================] - 1s 5ms/step - loss: 0.0186 - accuracy: 0.9545 - val_loss: 0.0243 - val_accuracy: 0.9383\n",
            "Epoch 343/400\n",
            "121/121 [==============================] - 1s 5ms/step - loss: 0.0184 - accuracy: 0.9529 - val_loss: 0.0241 - val_accuracy: 0.9403\n",
            "Epoch 344/400\n",
            "121/121 [==============================] - 1s 5ms/step - loss: 0.0185 - accuracy: 0.9520 - val_loss: 0.0242 - val_accuracy: 0.9383\n",
            "Epoch 345/400\n",
            "121/121 [==============================] - 1s 5ms/step - loss: 0.0186 - accuracy: 0.9504 - val_loss: 0.0240 - val_accuracy: 0.9383\n",
            "Epoch 346/400\n",
            "121/121 [==============================] - 1s 5ms/step - loss: 0.0185 - accuracy: 0.9537 - val_loss: 0.0242 - val_accuracy: 0.9383\n",
            "Epoch 347/400\n",
            "121/121 [==============================] - 1s 5ms/step - loss: 0.0185 - accuracy: 0.9529 - val_loss: 0.0240 - val_accuracy: 0.9403\n",
            "Epoch 348/400\n",
            "121/121 [==============================] - 1s 5ms/step - loss: 0.0184 - accuracy: 0.9545 - val_loss: 0.0240 - val_accuracy: 0.9403\n",
            "Epoch 349/400\n",
            "121/121 [==============================] - 1s 5ms/step - loss: 0.0184 - accuracy: 0.9529 - val_loss: 0.0240 - val_accuracy: 0.9403\n",
            "Epoch 350/400\n",
            "121/121 [==============================] - 1s 5ms/step - loss: 0.0184 - accuracy: 0.9553 - val_loss: 0.0241 - val_accuracy: 0.9383\n",
            "Epoch 351/400\n",
            "121/121 [==============================] - 1s 5ms/step - loss: 0.0184 - accuracy: 0.9520 - val_loss: 0.0241 - val_accuracy: 0.9403\n",
            "Epoch 352/400\n",
            "121/121 [==============================] - 1s 5ms/step - loss: 0.0184 - accuracy: 0.9529 - val_loss: 0.0241 - val_accuracy: 0.9383\n",
            "Epoch 353/400\n",
            "121/121 [==============================] - 1s 5ms/step - loss: 0.0183 - accuracy: 0.9537 - val_loss: 0.0240 - val_accuracy: 0.9364\n",
            "Epoch 354/400\n",
            "121/121 [==============================] - 1s 5ms/step - loss: 0.0183 - accuracy: 0.9562 - val_loss: 0.0239 - val_accuracy: 0.9403\n",
            "Epoch 355/400\n",
            "121/121 [==============================] - 1s 6ms/step - loss: 0.0184 - accuracy: 0.9570 - val_loss: 0.0240 - val_accuracy: 0.9403\n",
            "Epoch 356/400\n",
            "121/121 [==============================] - 1s 6ms/step - loss: 0.0183 - accuracy: 0.9512 - val_loss: 0.0240 - val_accuracy: 0.9383\n",
            "Epoch 357/400\n",
            "121/121 [==============================] - 1s 5ms/step - loss: 0.0183 - accuracy: 0.9537 - val_loss: 0.0240 - val_accuracy: 0.9364\n",
            "Epoch 358/400\n",
            "121/121 [==============================] - 1s 5ms/step - loss: 0.0182 - accuracy: 0.9520 - val_loss: 0.0240 - val_accuracy: 0.9364\n",
            "Epoch 359/400\n",
            "121/121 [==============================] - 1s 5ms/step - loss: 0.0182 - accuracy: 0.9537 - val_loss: 0.0239 - val_accuracy: 0.9403\n",
            "Epoch 360/400\n",
            "121/121 [==============================] - 1s 5ms/step - loss: 0.0182 - accuracy: 0.9520 - val_loss: 0.0239 - val_accuracy: 0.9403\n",
            "Epoch 361/400\n",
            "121/121 [==============================] - 1s 5ms/step - loss: 0.0182 - accuracy: 0.9537 - val_loss: 0.0238 - val_accuracy: 0.9383\n",
            "Epoch 362/400\n",
            "121/121 [==============================] - 1s 5ms/step - loss: 0.0182 - accuracy: 0.9545 - val_loss: 0.0237 - val_accuracy: 0.9403\n",
            "Epoch 363/400\n",
            "121/121 [==============================] - 1s 6ms/step - loss: 0.0181 - accuracy: 0.9537 - val_loss: 0.0238 - val_accuracy: 0.9403\n",
            "Epoch 364/400\n",
            "121/121 [==============================] - 1s 5ms/step - loss: 0.0181 - accuracy: 0.9520 - val_loss: 0.0238 - val_accuracy: 0.9383\n",
            "Epoch 365/400\n",
            "121/121 [==============================] - 1s 5ms/step - loss: 0.0181 - accuracy: 0.9562 - val_loss: 0.0238 - val_accuracy: 0.9422\n",
            "Epoch 366/400\n",
            "121/121 [==============================] - 1s 5ms/step - loss: 0.0181 - accuracy: 0.9520 - val_loss: 0.0237 - val_accuracy: 0.9403\n",
            "Epoch 367/400\n",
            "121/121 [==============================] - 1s 6ms/step - loss: 0.0180 - accuracy: 0.9545 - val_loss: 0.0237 - val_accuracy: 0.9403\n",
            "Epoch 368/400\n",
            "121/121 [==============================] - 1s 5ms/step - loss: 0.0180 - accuracy: 0.9529 - val_loss: 0.0237 - val_accuracy: 0.9383\n",
            "Epoch 369/400\n",
            "121/121 [==============================] - 1s 5ms/step - loss: 0.0180 - accuracy: 0.9545 - val_loss: 0.0238 - val_accuracy: 0.9383\n",
            "Epoch 370/400\n",
            "121/121 [==============================] - 1s 5ms/step - loss: 0.0180 - accuracy: 0.9553 - val_loss: 0.0237 - val_accuracy: 0.9403\n",
            "Epoch 371/400\n",
            "121/121 [==============================] - 1s 6ms/step - loss: 0.0180 - accuracy: 0.9553 - val_loss: 0.0237 - val_accuracy: 0.9422\n",
            "Epoch 372/400\n",
            "121/121 [==============================] - 1s 5ms/step - loss: 0.0181 - accuracy: 0.9504 - val_loss: 0.0237 - val_accuracy: 0.9383\n",
            "Epoch 373/400\n",
            "121/121 [==============================] - 1s 6ms/step - loss: 0.0180 - accuracy: 0.9553 - val_loss: 0.0236 - val_accuracy: 0.9383\n",
            "Epoch 374/400\n",
            "121/121 [==============================] - 1s 5ms/step - loss: 0.0181 - accuracy: 0.9537 - val_loss: 0.0236 - val_accuracy: 0.9403\n",
            "Epoch 375/400\n",
            "121/121 [==============================] - 1s 6ms/step - loss: 0.0179 - accuracy: 0.9553 - val_loss: 0.0236 - val_accuracy: 0.9383\n",
            "Epoch 376/400\n",
            "121/121 [==============================] - 1s 5ms/step - loss: 0.0179 - accuracy: 0.9545 - val_loss: 0.0236 - val_accuracy: 0.9403\n",
            "Epoch 377/400\n",
            "121/121 [==============================] - 1s 6ms/step - loss: 0.0179 - accuracy: 0.9553 - val_loss: 0.0235 - val_accuracy: 0.9403\n",
            "Epoch 378/400\n",
            "121/121 [==============================] - 1s 6ms/step - loss: 0.0179 - accuracy: 0.9570 - val_loss: 0.0235 - val_accuracy: 0.9383\n",
            "Epoch 379/400\n",
            "121/121 [==============================] - 1s 5ms/step - loss: 0.0179 - accuracy: 0.9529 - val_loss: 0.0234 - val_accuracy: 0.9403\n",
            "Epoch 380/400\n",
            "121/121 [==============================] - 1s 5ms/step - loss: 0.0180 - accuracy: 0.9537 - val_loss: 0.0236 - val_accuracy: 0.9403\n",
            "Epoch 381/400\n",
            "121/121 [==============================] - 1s 5ms/step - loss: 0.0178 - accuracy: 0.9562 - val_loss: 0.0235 - val_accuracy: 0.9403\n",
            "Epoch 382/400\n",
            "121/121 [==============================] - 1s 5ms/step - loss: 0.0178 - accuracy: 0.9570 - val_loss: 0.0235 - val_accuracy: 0.9403\n",
            "Epoch 383/400\n",
            "121/121 [==============================] - 1s 6ms/step - loss: 0.0178 - accuracy: 0.9537 - val_loss: 0.0233 - val_accuracy: 0.9403\n",
            "Epoch 384/400\n",
            "121/121 [==============================] - 1s 6ms/step - loss: 0.0177 - accuracy: 0.9553 - val_loss: 0.0235 - val_accuracy: 0.9422\n",
            "Epoch 385/400\n",
            "121/121 [==============================] - 1s 5ms/step - loss: 0.0178 - accuracy: 0.9553 - val_loss: 0.0235 - val_accuracy: 0.9403\n",
            "Epoch 386/400\n",
            "121/121 [==============================] - 1s 6ms/step - loss: 0.0178 - accuracy: 0.9545 - val_loss: 0.0235 - val_accuracy: 0.9403\n",
            "Epoch 387/400\n",
            "121/121 [==============================] - 1s 5ms/step - loss: 0.0178 - accuracy: 0.9537 - val_loss: 0.0235 - val_accuracy: 0.9422\n",
            "Epoch 388/400\n",
            "121/121 [==============================] - 1s 6ms/step - loss: 0.0178 - accuracy: 0.9570 - val_loss: 0.0236 - val_accuracy: 0.9403\n",
            "Epoch 389/400\n",
            "121/121 [==============================] - 1s 6ms/step - loss: 0.0177 - accuracy: 0.9553 - val_loss: 0.0233 - val_accuracy: 0.9403\n",
            "Epoch 390/400\n",
            "121/121 [==============================] - 1s 5ms/step - loss: 0.0177 - accuracy: 0.9545 - val_loss: 0.0234 - val_accuracy: 0.9403\n",
            "Epoch 391/400\n",
            "121/121 [==============================] - 1s 6ms/step - loss: 0.0177 - accuracy: 0.9570 - val_loss: 0.0232 - val_accuracy: 0.9422\n",
            "Epoch 392/400\n",
            "121/121 [==============================] - 1s 6ms/step - loss: 0.0176 - accuracy: 0.9562 - val_loss: 0.0233 - val_accuracy: 0.9403\n",
            "Epoch 393/400\n",
            "121/121 [==============================] - 1s 5ms/step - loss: 0.0177 - accuracy: 0.9553 - val_loss: 0.0232 - val_accuracy: 0.9403\n",
            "Epoch 394/400\n",
            "121/121 [==============================] - 1s 5ms/step - loss: 0.0177 - accuracy: 0.9529 - val_loss: 0.0233 - val_accuracy: 0.9403\n",
            "Epoch 395/400\n",
            "121/121 [==============================] - 1s 6ms/step - loss: 0.0176 - accuracy: 0.9553 - val_loss: 0.0234 - val_accuracy: 0.9403\n",
            "Epoch 396/400\n",
            "121/121 [==============================] - 1s 5ms/step - loss: 0.0176 - accuracy: 0.9570 - val_loss: 0.0232 - val_accuracy: 0.9422\n",
            "Epoch 397/400\n",
            "121/121 [==============================] - 1s 5ms/step - loss: 0.0176 - accuracy: 0.9562 - val_loss: 0.0232 - val_accuracy: 0.9422\n",
            "Epoch 398/400\n",
            "121/121 [==============================] - 1s 6ms/step - loss: 0.0176 - accuracy: 0.9553 - val_loss: 0.0232 - val_accuracy: 0.9422\n",
            "Epoch 399/400\n",
            "121/121 [==============================] - 1s 5ms/step - loss: 0.0175 - accuracy: 0.9570 - val_loss: 0.0233 - val_accuracy: 0.9422\n",
            "Epoch 400/400\n",
            "121/121 [==============================] - 1s 5ms/step - loss: 0.0176 - accuracy: 0.9545 - val_loss: 0.0232 - val_accuracy: 0.9403\n"
          ]
        }
      ],
      "source": [
        "historyS = modelS.fit(x_train,y_train1, validation_data=(x_test,y_test1), epochs=400, batch_size=10, shuffle=True, callbacks=[tensorboard_callbackS])"
      ]
    },
    {
      "cell_type": "code",
      "execution_count": null,
      "metadata": {
        "colab": {
          "base_uri": "https://localhost:8080/"
        },
        "id": "jYDQv8xnqeZ5",
        "outputId": "669d422d-b393-4a5e-fd4a-5546e580333c"
      },
      "outputs": [
        {
          "name": "stdout",
          "output_type": "stream",
          "text": [
            "[0.023187700659036636, 0.9402697682380676]\n"
          ]
        }
      ],
      "source": [
        "scoreS = modelS.evaluate(x_test,y_test1, verbose=0)\n",
        "print(scoreS)"
      ]
    },
    {
      "cell_type": "code",
      "execution_count": null,
      "metadata": {
        "colab": {
          "base_uri": "https://localhost:8080/"
        },
        "id": "XtnsA7b9gVog",
        "outputId": "b5d7c526-572b-4888-c896-fd650a7e6ff0"
      },
      "outputs": [
        {
          "data": {
            "image/png": "[encoded data removed]",
            "text/plain": [
              "<Figure size 432x288 with 1 Axes>"
            ]
          },
          "metadata": {
            "needs_background": "light"
          },
          "output_type": "display_data"
        },
        {
          "data": {
            "image/png": "[encoded data removed]",
            "text/plain": [
              "<Figure size 432x288 with 1 Axes>"
            ]
          },
          "metadata": {
            "needs_background": "light"
          },
          "output_type": "display_data"
        }
      ],
      "source": [
        "plt.figure()\n",
        "plt.plot(historyS.history['accuracy'], label='accuracy')\n",
        "plt.plot(historyS.history['val_accuracy'], label='val_accuracy')\n",
        "plt.title('Model accuracy')\n",
        "plt.xlabel('Epochs')\n",
        "plt.ylabel('Accuracy')\n",
        "plt.legend(loc = 'lower right')\n",
        "plt.show()\n",
        "\n",
        "plt.figure()\n",
        "plt.plot(historyS.history['loss'], label='loss')\n",
        "plt.plot(historyS.history['val_loss'], label='val_loss')\n",
        "plt.title('Model loss')\n",
        "plt.xlabel('Epochs')\n",
        "plt.ylabel('Loss')\n",
        "plt.legend(loc = 'upper right')\n",
        "plt.show()"
      ]
    },
    {
      "cell_type": "code",
      "execution_count": null,
      "metadata": {
        "id": "eXdGY7XzmlrS"
      },
      "outputs": [],
      "source": [
        "outputTestS = modelS.predict(x_test)"
      ]
    },
    {
      "cell_type": "code",
      "execution_count": null,
      "metadata": {
        "id": "NcE7rutHmqz6"
      },
      "outputs": [],
      "source": [
        "cmS = confusion_matrix(y_test,np.argmax(outputTestS,axis=1))"
      ]
    },
    {
      "cell_type": "code",
      "execution_count": null,
      "metadata": {
        "colab": {
          "base_uri": "https://localhost:8080/"
        },
        "id": "x7wCnAGozyTA",
        "outputId": "2ddd42d5-ef71-4618-85b2-f84d466b8f24"
      },
      "outputs": [
        {
          "name": "stdout",
          "output_type": "stream",
          "text": [
            "[[350  11   0   0]\n",
            " [  9 105   1   2]\n",
            " [  0   4  19   2]\n",
            " [  0   2   0  14]]\n"
          ]
        }
      ],
      "source": [
        "print(cmS)"
      ]
    },
    {
      "cell_type": "code",
      "execution_count": null,
      "metadata": {
        "id": "Am3Dt0DHmy4w"
      },
      "outputs": [],
      "source": [
        "def plot_confusion_matrix(cm, num_classes,normalize=True,title='Matrix de Confusion Superficial',cmap=plt.cm.Blues):\n",
        "      \n",
        "      import itertools\n",
        "      \n",
        "      classes = ['0', '1', '2','3']\n",
        "\n",
        "      plt.figure(figsize = (7,7))\n",
        "      plt.imshow(cm, interpolation='nearest', cmap=cmap)\n",
        "      plt.title(title)\n",
        "      plt.colorbar()\n",
        "      tick_marks = np.arange(len(classes))\n",
        "      plt.xticks(tick_marks, classes, rotation=90)\n",
        "      plt.yticks(tick_marks, classes)\n",
        "      if normalize:\n",
        "          cm = cm.astype('float') / cm.sum(axis=1)[:, np.newaxis]\n",
        "          cm = np.round(cm,3)\n",
        "      thresh = cm.max() / 2.\n",
        "      for i, j in itertools.product(range(cm.shape[0]), range(cm.shape[1])):\n",
        "          plt.text(j, i, cm[i, j],\n",
        "                   horizontalalignment=\"center\",\n",
        "                   color=\"black\" if cm[i, j] > thresh else \"black\")\n",
        "      plt.tight_layout()\n",
        "      plt.ylabel('Original')\n",
        "      plt.xlabel('Predicciones')"
      ]
    },
    {
      "cell_type": "code",
      "execution_count": null,
      "metadata": {
        "colab": {
          "base_uri": "https://localhost:8080/"
        },
        "id": "m6v9SWvlzmhK",
        "outputId": "239ee2c3-f3c4-4bb7-b237-68ea15e3e13a"
      },
      "outputs": [
        {
          "data": {
            "image/png": "[encoded data removed]",
            "text/plain": [
              "<Figure size 504x504 with 2 Axes>"
            ]
          },
          "metadata": {
            "needs_background": "light"
          },
          "output_type": "display_data"
        }
      ],
      "source": [
        "plot_confusion_matrix(cmS, num_class)"
      ]
    },
    {
      "cell_type": "markdown",
      "metadata": {
        "id": "gs92N3We2G3c"
      },
      "source": [
        "##Modelo Profunda"
      ]
    },
    {
      "cell_type": "code",
      "execution_count": null,
      "metadata": {
        "id": "NTgbgPlm2G3j"
      },
      "outputs": [],
      "source": [
        "def modelP():\n",
        "  model = Sequential()\n",
        "  \n",
        "  model.add(Dense(6, input_dim = input_dim, activation = 'tanh'))\n",
        "  model.add(Dense(12, activation = 'sigmoid'))\n",
        "  model.add(Dense(18, activation = 'sigmoid'))\n",
        "  model.add(Dense(6, activation = 'sigmoid'))\n",
        "  model.add(Dense(num_class, activation = 'softmax'))\n",
        "\n",
        "  model.summary()\n",
        "\n",
        "  #Compile\n",
        "  model.compile(loss = 'mean_squared_error', optimizer = 'adam', metrics=['accuracy'])\n",
        "\n",
        "  return model"
      ]
    },
    {
      "cell_type": "code",
      "execution_count": null,
      "metadata": {
        "colab": {
          "base_uri": "https://localhost:8080/"
        },
        "id": "Xm_HvQzI2G3j",
        "outputId": "8b7e481a-0273-417d-c45e-aabce14f84a2"
      },
      "outputs": [
        {
          "name": "stdout",
          "output_type": "stream",
          "text": [
            "Model: \"sequential_1\"\n",
            "_________________________________________________________________\n",
            " Layer (type)                Output Shape              Param #   \n",
            "=================================================================\n",
            " dense_2 (Dense)             (None, 6)                 42        \n",
            "                                                                 \n",
            " dense_3 (Dense)             (None, 12)                84        \n",
            "                                                                 \n",
            " dense_4 (Dense)             (None, 18)                234       \n",
            "                                                                 \n",
            " dense_5 (Dense)             (None, 6)                 114       \n",
            "                                                                 \n",
            " dense_6 (Dense)             (None, 4)                 28        \n",
            "                                                                 \n",
            "=================================================================\n",
            "Total params: 502\n",
            "Trainable params: 502\n",
            "Non-trainable params: 0\n",
            "_________________________________________________________________\n"
          ]
        },
        {
          "data": {
            "image/jpeg": "[encoded data removed]",
            "text/plain": [
              "<IPython.core.display.Image object>"
            ]
          },
          "execution_count": 31,
          "metadata": {},
          "output_type": "execute_result"
        }
      ],
      "source": [
        "modelP=modelP()\n",
        "plot_model(modelP, to_file='modelP.jpg', show_shapes=True)"
      ]
    },
    {
      "cell_type": "code",
      "execution_count": null,
      "metadata": {
        "id": "wjG7dNap2G3j"
      },
      "outputs": [],
      "source": [
        "logdir=os.path.join(\"logs\", \"ModelProfundo\")\n",
        "tensorboard_callbackP=tf.keras.callbacks.TensorBoard(logdir,histogram_freq=1)"
      ]
    },
    {
      "cell_type": "code",
      "execution_count": null,
      "metadata": {
        "colab": {
          "base_uri": "https://localhost:8080/"
        },
        "id": "fVKqV7dy2G3k",
        "outputId": "6e32d692-c564-49a0-a303-5811b47061ae"
      },
      "outputs": [
        {
          "name": "stdout",
          "output_type": "stream",
          "text": [
            "Epoch 1/400\n",
            "121/121 [==============================] - 1s 7ms/step - loss: 0.1681 - accuracy: 0.4400 - val_loss: 0.1263 - val_accuracy: 0.6956\n",
            "Epoch 2/400\n",
            "121/121 [==============================] - 1s 6ms/step - loss: 0.1182 - accuracy: 0.7022 - val_loss: 0.1166 - val_accuracy: 0.6956\n",
            "Epoch 3/400\n",
            "121/121 [==============================] - 1s 5ms/step - loss: 0.1137 - accuracy: 0.7022 - val_loss: 0.1139 - val_accuracy: 0.6956\n",
            "Epoch 4/400\n",
            "121/121 [==============================] - 1s 6ms/step - loss: 0.1100 - accuracy: 0.7022 - val_loss: 0.1089 - val_accuracy: 0.6956\n",
            "Epoch 5/400\n",
            "121/121 [==============================] - 1s 6ms/step - loss: 0.1013 - accuracy: 0.7022 - val_loss: 0.0968 - val_accuracy: 0.6956\n",
            "Epoch 6/400\n",
            "121/121 [==============================] - 1s 5ms/step - loss: 0.0864 - accuracy: 0.7089 - val_loss: 0.0816 - val_accuracy: 0.7322\n",
            "Epoch 7/400\n",
            "121/121 [==============================] - 1s 6ms/step - loss: 0.0736 - accuracy: 0.8147 - val_loss: 0.0724 - val_accuracy: 0.8112\n",
            "Epoch 8/400\n",
            "121/121 [==============================] - 1s 6ms/step - loss: 0.0665 - accuracy: 0.8371 - val_loss: 0.0674 - val_accuracy: 0.8285\n",
            "Epoch 9/400\n",
            "121/121 [==============================] - 1s 5ms/step - loss: 0.0627 - accuracy: 0.8379 - val_loss: 0.0646 - val_accuracy: 0.8285\n",
            "Epoch 10/400\n",
            "121/121 [==============================] - 1s 6ms/step - loss: 0.0605 - accuracy: 0.8420 - val_loss: 0.0631 - val_accuracy: 0.8304\n",
            "Epoch 11/400\n",
            "121/121 [==============================] - 1s 6ms/step - loss: 0.0590 - accuracy: 0.8445 - val_loss: 0.0614 - val_accuracy: 0.8362\n",
            "Epoch 12/400\n",
            "121/121 [==============================] - 1s 6ms/step - loss: 0.0575 - accuracy: 0.8445 - val_loss: 0.0601 - val_accuracy: 0.8401\n",
            "Epoch 13/400\n",
            "121/121 [==============================] - 1s 5ms/step - loss: 0.0563 - accuracy: 0.8519 - val_loss: 0.0589 - val_accuracy: 0.8401\n",
            "Epoch 14/400\n",
            "121/121 [==============================] - 1s 6ms/step - loss: 0.0552 - accuracy: 0.8503 - val_loss: 0.0579 - val_accuracy: 0.8401\n",
            "Epoch 15/400\n",
            "121/121 [==============================] - 1s 6ms/step - loss: 0.0542 - accuracy: 0.8544 - val_loss: 0.0566 - val_accuracy: 0.8439\n",
            "Epoch 16/400\n",
            "121/121 [==============================] - 1s 5ms/step - loss: 0.0532 - accuracy: 0.8586 - val_loss: 0.0556 - val_accuracy: 0.8420\n",
            "Epoch 17/400\n",
            "121/121 [==============================] - 1s 6ms/step - loss: 0.0520 - accuracy: 0.8644 - val_loss: 0.0553 - val_accuracy: 0.8497\n",
            "Epoch 18/400\n",
            "121/121 [==============================] - 1s 6ms/step - loss: 0.0514 - accuracy: 0.8627 - val_loss: 0.0534 - val_accuracy: 0.8516\n",
            "Epoch 19/400\n",
            "121/121 [==============================] - 1s 5ms/step - loss: 0.0504 - accuracy: 0.8668 - val_loss: 0.0526 - val_accuracy: 0.8516\n",
            "Epoch 20/400\n",
            "121/121 [==============================] - 1s 6ms/step - loss: 0.0494 - accuracy: 0.8652 - val_loss: 0.0519 - val_accuracy: 0.8574\n",
            "Epoch 21/400\n",
            "121/121 [==============================] - 1s 5ms/step - loss: 0.0487 - accuracy: 0.8710 - val_loss: 0.0509 - val_accuracy: 0.8651\n",
            "Epoch 22/400\n",
            "121/121 [==============================] - 1s 5ms/step - loss: 0.0481 - accuracy: 0.8718 - val_loss: 0.0504 - val_accuracy: 0.8613\n",
            "Epoch 23/400\n",
            "121/121 [==============================] - 1s 6ms/step - loss: 0.0473 - accuracy: 0.8718 - val_loss: 0.0499 - val_accuracy: 0.8651\n",
            "Epoch 24/400\n",
            "121/121 [==============================] - 1s 6ms/step - loss: 0.0469 - accuracy: 0.8710 - val_loss: 0.0493 - val_accuracy: 0.8671\n",
            "Epoch 25/400\n",
            "121/121 [==============================] - 1s 6ms/step - loss: 0.0462 - accuracy: 0.8726 - val_loss: 0.0487 - val_accuracy: 0.8651\n",
            "Epoch 26/400\n",
            "121/121 [==============================] - 1s 5ms/step - loss: 0.0455 - accuracy: 0.8768 - val_loss: 0.0484 - val_accuracy: 0.8709\n",
            "Epoch 27/400\n",
            "121/121 [==============================] - 1s 6ms/step - loss: 0.0450 - accuracy: 0.8784 - val_loss: 0.0478 - val_accuracy: 0.8613\n",
            "Epoch 28/400\n",
            "121/121 [==============================] - 1s 6ms/step - loss: 0.0445 - accuracy: 0.8784 - val_loss: 0.0474 - val_accuracy: 0.8728\n",
            "Epoch 29/400\n",
            "121/121 [==============================] - 1s 6ms/step - loss: 0.0441 - accuracy: 0.8817 - val_loss: 0.0469 - val_accuracy: 0.8632\n",
            "Epoch 30/400\n",
            "121/121 [==============================] - 1s 5ms/step - loss: 0.0433 - accuracy: 0.8842 - val_loss: 0.0463 - val_accuracy: 0.8651\n",
            "Epoch 31/400\n",
            "121/121 [==============================] - 1s 6ms/step - loss: 0.0428 - accuracy: 0.8842 - val_loss: 0.0458 - val_accuracy: 0.8728\n",
            "Epoch 32/400\n",
            "121/121 [==============================] - 1s 6ms/step - loss: 0.0424 - accuracy: 0.8842 - val_loss: 0.0452 - val_accuracy: 0.8728\n",
            "Epoch 33/400\n",
            "121/121 [==============================] - 1s 6ms/step - loss: 0.0418 - accuracy: 0.8859 - val_loss: 0.0448 - val_accuracy: 0.8786\n",
            "Epoch 34/400\n",
            "121/121 [==============================] - 1s 6ms/step - loss: 0.0411 - accuracy: 0.8892 - val_loss: 0.0443 - val_accuracy: 0.8786\n",
            "Epoch 35/400\n",
            "121/121 [==============================] - 1s 5ms/step - loss: 0.0406 - accuracy: 0.8900 - val_loss: 0.0438 - val_accuracy: 0.8786\n",
            "Epoch 36/400\n",
            "121/121 [==============================] - 1s 5ms/step - loss: 0.0398 - accuracy: 0.8892 - val_loss: 0.0432 - val_accuracy: 0.8805\n",
            "Epoch 37/400\n",
            "121/121 [==============================] - 1s 6ms/step - loss: 0.0394 - accuracy: 0.8900 - val_loss: 0.0428 - val_accuracy: 0.8805\n",
            "Epoch 38/400\n",
            "121/121 [==============================] - 1s 5ms/step - loss: 0.0388 - accuracy: 0.8950 - val_loss: 0.0420 - val_accuracy: 0.8786\n",
            "Epoch 39/400\n",
            "121/121 [==============================] - 1s 6ms/step - loss: 0.0383 - accuracy: 0.8925 - val_loss: 0.0416 - val_accuracy: 0.8844\n",
            "Epoch 40/400\n",
            "121/121 [==============================] - 1s 6ms/step - loss: 0.0376 - accuracy: 0.8925 - val_loss: 0.0410 - val_accuracy: 0.8805\n",
            "Epoch 41/400\n",
            "121/121 [==============================] - 1s 6ms/step - loss: 0.0369 - accuracy: 0.8933 - val_loss: 0.0405 - val_accuracy: 0.8825\n",
            "Epoch 42/400\n",
            "121/121 [==============================] - 1s 5ms/step - loss: 0.0361 - accuracy: 0.8958 - val_loss: 0.0399 - val_accuracy: 0.8825\n",
            "Epoch 43/400\n",
            "121/121 [==============================] - 1s 6ms/step - loss: 0.0355 - accuracy: 0.8958 - val_loss: 0.0398 - val_accuracy: 0.8786\n",
            "Epoch 44/400\n",
            "121/121 [==============================] - 1s 6ms/step - loss: 0.0347 - accuracy: 0.8933 - val_loss: 0.0388 - val_accuracy: 0.8825\n",
            "Epoch 45/400\n",
            "121/121 [==============================] - 1s 6ms/step - loss: 0.0340 - accuracy: 0.8966 - val_loss: 0.0385 - val_accuracy: 0.8882\n",
            "Epoch 46/400\n",
            "121/121 [==============================] - 1s 6ms/step - loss: 0.0332 - accuracy: 0.8991 - val_loss: 0.0383 - val_accuracy: 0.8805\n",
            "Epoch 47/400\n",
            "121/121 [==============================] - 1s 5ms/step - loss: 0.0326 - accuracy: 0.8983 - val_loss: 0.0379 - val_accuracy: 0.8825\n",
            "Epoch 48/400\n",
            "121/121 [==============================] - 1s 6ms/step - loss: 0.0319 - accuracy: 0.8999 - val_loss: 0.0376 - val_accuracy: 0.8825\n",
            "Epoch 49/400\n",
            "121/121 [==============================] - 1s 5ms/step - loss: 0.0313 - accuracy: 0.8999 - val_loss: 0.0371 - val_accuracy: 0.8902\n",
            "Epoch 50/400\n",
            "121/121 [==============================] - 1s 6ms/step - loss: 0.0306 - accuracy: 0.9098 - val_loss: 0.0369 - val_accuracy: 0.8882\n",
            "Epoch 51/400\n",
            "121/121 [==============================] - 1s 5ms/step - loss: 0.0299 - accuracy: 0.9181 - val_loss: 0.0371 - val_accuracy: 0.8998\n",
            "Epoch 52/400\n",
            "121/121 [==============================] - 1s 5ms/step - loss: 0.0297 - accuracy: 0.9181 - val_loss: 0.0365 - val_accuracy: 0.8998\n",
            "Epoch 53/400\n",
            "121/121 [==============================] - 1s 6ms/step - loss: 0.0291 - accuracy: 0.9239 - val_loss: 0.0363 - val_accuracy: 0.8998\n",
            "Epoch 54/400\n",
            "121/121 [==============================] - 1s 6ms/step - loss: 0.0285 - accuracy: 0.9264 - val_loss: 0.0360 - val_accuracy: 0.8998\n",
            "Epoch 55/400\n",
            "121/121 [==============================] - 1s 6ms/step - loss: 0.0283 - accuracy: 0.9305 - val_loss: 0.0361 - val_accuracy: 0.9037\n",
            "Epoch 56/400\n",
            "121/121 [==============================] - 1s 6ms/step - loss: 0.0280 - accuracy: 0.9280 - val_loss: 0.0354 - val_accuracy: 0.8960\n",
            "Epoch 57/400\n",
            "121/121 [==============================] - 1s 6ms/step - loss: 0.0276 - accuracy: 0.9305 - val_loss: 0.0354 - val_accuracy: 0.8960\n",
            "Epoch 58/400\n",
            "121/121 [==============================] - 1s 5ms/step - loss: 0.0272 - accuracy: 0.9289 - val_loss: 0.0352 - val_accuracy: 0.8940\n",
            "Epoch 59/400\n",
            "121/121 [==============================] - 1s 6ms/step - loss: 0.0271 - accuracy: 0.9289 - val_loss: 0.0354 - val_accuracy: 0.8921\n",
            "Epoch 60/400\n",
            "121/121 [==============================] - 1s 6ms/step - loss: 0.0267 - accuracy: 0.9305 - val_loss: 0.0349 - val_accuracy: 0.8921\n",
            "Epoch 61/400\n",
            "121/121 [==============================] - 1s 6ms/step - loss: 0.0265 - accuracy: 0.9280 - val_loss: 0.0348 - val_accuracy: 0.8921\n",
            "Epoch 62/400\n",
            "121/121 [==============================] - 1s 5ms/step - loss: 0.0263 - accuracy: 0.9297 - val_loss: 0.0348 - val_accuracy: 0.8940\n",
            "Epoch 63/400\n",
            "121/121 [==============================] - 1s 6ms/step - loss: 0.0261 - accuracy: 0.9305 - val_loss: 0.0345 - val_accuracy: 0.8940\n",
            "Epoch 64/400\n",
            "121/121 [==============================] - 1s 5ms/step - loss: 0.0259 - accuracy: 0.9305 - val_loss: 0.0344 - val_accuracy: 0.8940\n",
            "Epoch 65/400\n",
            "121/121 [==============================] - 1s 6ms/step - loss: 0.0259 - accuracy: 0.9289 - val_loss: 0.0344 - val_accuracy: 0.8921\n",
            "Epoch 66/400\n",
            "121/121 [==============================] - 1s 5ms/step - loss: 0.0257 - accuracy: 0.9305 - val_loss: 0.0342 - val_accuracy: 0.8940\n",
            "Epoch 67/400\n",
            "121/121 [==============================] - 1s 5ms/step - loss: 0.0254 - accuracy: 0.9330 - val_loss: 0.0341 - val_accuracy: 0.8902\n",
            "Epoch 68/400\n",
            "121/121 [==============================] - 1s 6ms/step - loss: 0.0253 - accuracy: 0.9297 - val_loss: 0.0345 - val_accuracy: 0.8940\n",
            "Epoch 69/400\n",
            "121/121 [==============================] - 1s 6ms/step - loss: 0.0252 - accuracy: 0.9313 - val_loss: 0.0340 - val_accuracy: 0.8902\n",
            "Epoch 70/400\n",
            "121/121 [==============================] - 1s 6ms/step - loss: 0.0250 - accuracy: 0.9313 - val_loss: 0.0339 - val_accuracy: 0.8960\n",
            "Epoch 71/400\n",
            "121/121 [==============================] - 1s 6ms/step - loss: 0.0248 - accuracy: 0.9330 - val_loss: 0.0342 - val_accuracy: 0.8921\n",
            "Epoch 72/400\n",
            "121/121 [==============================] - 1s 5ms/step - loss: 0.0247 - accuracy: 0.9305 - val_loss: 0.0346 - val_accuracy: 0.8940\n",
            "Epoch 73/400\n",
            "121/121 [==============================] - 1s 6ms/step - loss: 0.0248 - accuracy: 0.9338 - val_loss: 0.0338 - val_accuracy: 0.8940\n",
            "Epoch 74/400\n",
            "121/121 [==============================] - 1s 6ms/step - loss: 0.0246 - accuracy: 0.9322 - val_loss: 0.0338 - val_accuracy: 0.8940\n",
            "Epoch 75/400\n",
            "121/121 [==============================] - 1s 5ms/step - loss: 0.0243 - accuracy: 0.9330 - val_loss: 0.0335 - val_accuracy: 0.8902\n",
            "Epoch 76/400\n",
            "121/121 [==============================] - 1s 6ms/step - loss: 0.0245 - accuracy: 0.9322 - val_loss: 0.0333 - val_accuracy: 0.8902\n",
            "Epoch 77/400\n",
            "121/121 [==============================] - 1s 6ms/step - loss: 0.0242 - accuracy: 0.9347 - val_loss: 0.0332 - val_accuracy: 0.8902\n",
            "Epoch 78/400\n",
            "121/121 [==============================] - 1s 6ms/step - loss: 0.0240 - accuracy: 0.9363 - val_loss: 0.0332 - val_accuracy: 0.8998\n",
            "Epoch 79/400\n",
            "121/121 [==============================] - 1s 6ms/step - loss: 0.0241 - accuracy: 0.9347 - val_loss: 0.0327 - val_accuracy: 0.8960\n",
            "Epoch 80/400\n",
            "121/121 [==============================] - 1s 6ms/step - loss: 0.0238 - accuracy: 0.9347 - val_loss: 0.0326 - val_accuracy: 0.8960\n",
            "Epoch 81/400\n",
            "121/121 [==============================] - 1s 6ms/step - loss: 0.0237 - accuracy: 0.9347 - val_loss: 0.0326 - val_accuracy: 0.8921\n",
            "Epoch 82/400\n",
            "121/121 [==============================] - 1s 6ms/step - loss: 0.0235 - accuracy: 0.9338 - val_loss: 0.0342 - val_accuracy: 0.8960\n",
            "Epoch 83/400\n",
            "121/121 [==============================] - 1s 6ms/step - loss: 0.0236 - accuracy: 0.9347 - val_loss: 0.0330 - val_accuracy: 0.8979\n",
            "Epoch 84/400\n",
            "121/121 [==============================] - 1s 6ms/step - loss: 0.0235 - accuracy: 0.9330 - val_loss: 0.0325 - val_accuracy: 0.8940\n",
            "Epoch 85/400\n",
            "121/121 [==============================] - 1s 6ms/step - loss: 0.0234 - accuracy: 0.9363 - val_loss: 0.0331 - val_accuracy: 0.8979\n",
            "Epoch 86/400\n",
            "121/121 [==============================] - 1s 6ms/step - loss: 0.0235 - accuracy: 0.9347 - val_loss: 0.0325 - val_accuracy: 0.8979\n",
            "Epoch 87/400\n",
            "121/121 [==============================] - 1s 6ms/step - loss: 0.0235 - accuracy: 0.9330 - val_loss: 0.0327 - val_accuracy: 0.8998\n",
            "Epoch 88/400\n",
            "121/121 [==============================] - 1s 6ms/step - loss: 0.0233 - accuracy: 0.9371 - val_loss: 0.0323 - val_accuracy: 0.8979\n",
            "Epoch 89/400\n",
            "121/121 [==============================] - 1s 6ms/step - loss: 0.0230 - accuracy: 0.9363 - val_loss: 0.0316 - val_accuracy: 0.8998\n",
            "Epoch 90/400\n",
            "121/121 [==============================] - 1s 6ms/step - loss: 0.0229 - accuracy: 0.9371 - val_loss: 0.0320 - val_accuracy: 0.8998\n",
            "Epoch 91/400\n",
            "121/121 [==============================] - 1s 6ms/step - loss: 0.0229 - accuracy: 0.9363 - val_loss: 0.0324 - val_accuracy: 0.8979\n",
            "Epoch 92/400\n",
            "121/121 [==============================] - 1s 6ms/step - loss: 0.0229 - accuracy: 0.9371 - val_loss: 0.0320 - val_accuracy: 0.8979\n",
            "Epoch 93/400\n",
            "121/121 [==============================] - 1s 6ms/step - loss: 0.0227 - accuracy: 0.9355 - val_loss: 0.0315 - val_accuracy: 0.9037\n",
            "Epoch 94/400\n",
            "121/121 [==============================] - 1s 6ms/step - loss: 0.0226 - accuracy: 0.9363 - val_loss: 0.0314 - val_accuracy: 0.9037\n",
            "Epoch 95/400\n",
            "121/121 [==============================] - 1s 6ms/step - loss: 0.0226 - accuracy: 0.9380 - val_loss: 0.0323 - val_accuracy: 0.8960\n",
            "Epoch 96/400\n",
            "121/121 [==============================] - 1s 6ms/step - loss: 0.0224 - accuracy: 0.9388 - val_loss: 0.0314 - val_accuracy: 0.9017\n",
            "Epoch 97/400\n",
            "121/121 [==============================] - 1s 6ms/step - loss: 0.0225 - accuracy: 0.9363 - val_loss: 0.0318 - val_accuracy: 0.8979\n",
            "Epoch 98/400\n",
            "121/121 [==============================] - 1s 6ms/step - loss: 0.0225 - accuracy: 0.9371 - val_loss: 0.0312 - val_accuracy: 0.9037\n",
            "Epoch 99/400\n",
            "121/121 [==============================] - 1s 6ms/step - loss: 0.0221 - accuracy: 0.9396 - val_loss: 0.0315 - val_accuracy: 0.8998\n",
            "Epoch 100/400\n",
            "121/121 [==============================] - 1s 6ms/step - loss: 0.0222 - accuracy: 0.9380 - val_loss: 0.0317 - val_accuracy: 0.8979\n",
            "Epoch 101/400\n",
            "121/121 [==============================] - 1s 6ms/step - loss: 0.0222 - accuracy: 0.9396 - val_loss: 0.0309 - val_accuracy: 0.9037\n",
            "Epoch 102/400\n",
            "121/121 [==============================] - 1s 6ms/step - loss: 0.0221 - accuracy: 0.9388 - val_loss: 0.0311 - val_accuracy: 0.9037\n",
            "Epoch 103/400\n",
            "121/121 [==============================] - 1s 6ms/step - loss: 0.0220 - accuracy: 0.9388 - val_loss: 0.0312 - val_accuracy: 0.8998\n",
            "Epoch 104/400\n",
            "121/121 [==============================] - 1s 6ms/step - loss: 0.0218 - accuracy: 0.9396 - val_loss: 0.0310 - val_accuracy: 0.9037\n",
            "Epoch 105/400\n",
            "121/121 [==============================] - 1s 6ms/step - loss: 0.0218 - accuracy: 0.9388 - val_loss: 0.0307 - val_accuracy: 0.9037\n",
            "Epoch 106/400\n",
            "121/121 [==============================] - 1s 5ms/step - loss: 0.0218 - accuracy: 0.9396 - val_loss: 0.0312 - val_accuracy: 0.8998\n",
            "Epoch 107/400\n",
            "121/121 [==============================] - 1s 6ms/step - loss: 0.0218 - accuracy: 0.9380 - val_loss: 0.0316 - val_accuracy: 0.8960\n",
            "Epoch 108/400\n",
            "121/121 [==============================] - 1s 6ms/step - loss: 0.0215 - accuracy: 0.9396 - val_loss: 0.0305 - val_accuracy: 0.9056\n",
            "Epoch 109/400\n",
            "121/121 [==============================] - 1s 6ms/step - loss: 0.0215 - accuracy: 0.9396 - val_loss: 0.0303 - val_accuracy: 0.9037\n",
            "Epoch 110/400\n",
            "121/121 [==============================] - 1s 6ms/step - loss: 0.0215 - accuracy: 0.9396 - val_loss: 0.0310 - val_accuracy: 0.8979\n",
            "Epoch 111/400\n",
            "121/121 [==============================] - 1s 6ms/step - loss: 0.0216 - accuracy: 0.9396 - val_loss: 0.0300 - val_accuracy: 0.9056\n",
            "Epoch 112/400\n",
            "121/121 [==============================] - 1s 6ms/step - loss: 0.0214 - accuracy: 0.9396 - val_loss: 0.0303 - val_accuracy: 0.9037\n",
            "Epoch 113/400\n",
            "121/121 [==============================] - 1s 6ms/step - loss: 0.0212 - accuracy: 0.9404 - val_loss: 0.0297 - val_accuracy: 0.9094\n",
            "Epoch 114/400\n",
            "121/121 [==============================] - 1s 6ms/step - loss: 0.0214 - accuracy: 0.9388 - val_loss: 0.0297 - val_accuracy: 0.9075\n",
            "Epoch 115/400\n",
            "121/121 [==============================] - 1s 6ms/step - loss: 0.0213 - accuracy: 0.9380 - val_loss: 0.0302 - val_accuracy: 0.9037\n",
            "Epoch 116/400\n",
            "121/121 [==============================] - 1s 6ms/step - loss: 0.0213 - accuracy: 0.9388 - val_loss: 0.0297 - val_accuracy: 0.9094\n",
            "Epoch 117/400\n",
            "121/121 [==============================] - 1s 6ms/step - loss: 0.0212 - accuracy: 0.9371 - val_loss: 0.0302 - val_accuracy: 0.9056\n",
            "Epoch 118/400\n",
            "121/121 [==============================] - 1s 6ms/step - loss: 0.0211 - accuracy: 0.9413 - val_loss: 0.0296 - val_accuracy: 0.9037\n",
            "Epoch 119/400\n",
            "121/121 [==============================] - 1s 6ms/step - loss: 0.0210 - accuracy: 0.9421 - val_loss: 0.0310 - val_accuracy: 0.8960\n",
            "Epoch 120/400\n",
            "121/121 [==============================] - 1s 5ms/step - loss: 0.0211 - accuracy: 0.9404 - val_loss: 0.0298 - val_accuracy: 0.9037\n",
            "Epoch 121/400\n",
            "121/121 [==============================] - 1s 6ms/step - loss: 0.0209 - accuracy: 0.9404 - val_loss: 0.0296 - val_accuracy: 0.9037\n",
            "Epoch 122/400\n",
            "121/121 [==============================] - 1s 5ms/step - loss: 0.0208 - accuracy: 0.9396 - val_loss: 0.0304 - val_accuracy: 0.9017\n",
            "Epoch 123/400\n",
            "121/121 [==============================] - 1s 6ms/step - loss: 0.0207 - accuracy: 0.9446 - val_loss: 0.0304 - val_accuracy: 0.8998\n",
            "Epoch 124/400\n",
            "121/121 [==============================] - 1s 6ms/step - loss: 0.0207 - accuracy: 0.9388 - val_loss: 0.0293 - val_accuracy: 0.9037\n",
            "Epoch 125/400\n",
            "121/121 [==============================] - 1s 6ms/step - loss: 0.0206 - accuracy: 0.9421 - val_loss: 0.0297 - val_accuracy: 0.9037\n",
            "Epoch 126/400\n",
            "121/121 [==============================] - 1s 6ms/step - loss: 0.0206 - accuracy: 0.9396 - val_loss: 0.0293 - val_accuracy: 0.9094\n",
            "Epoch 127/400\n",
            "121/121 [==============================] - 1s 6ms/step - loss: 0.0204 - accuracy: 0.9380 - val_loss: 0.0300 - val_accuracy: 0.9056\n",
            "Epoch 128/400\n",
            "121/121 [==============================] - 1s 6ms/step - loss: 0.0206 - accuracy: 0.9413 - val_loss: 0.0289 - val_accuracy: 0.9075\n",
            "Epoch 129/400\n",
            "121/121 [==============================] - 1s 6ms/step - loss: 0.0203 - accuracy: 0.9396 - val_loss: 0.0291 - val_accuracy: 0.9094\n",
            "Epoch 130/400\n",
            "121/121 [==============================] - 1s 6ms/step - loss: 0.0203 - accuracy: 0.9404 - val_loss: 0.0291 - val_accuracy: 0.9114\n",
            "Epoch 131/400\n",
            "121/121 [==============================] - 1s 5ms/step - loss: 0.0203 - accuracy: 0.9421 - val_loss: 0.0293 - val_accuracy: 0.9094\n",
            "Epoch 132/400\n",
            "121/121 [==============================] - 1s 6ms/step - loss: 0.0205 - accuracy: 0.9413 - val_loss: 0.0287 - val_accuracy: 0.9094\n",
            "Epoch 133/400\n",
            "121/121 [==============================] - 1s 6ms/step - loss: 0.0202 - accuracy: 0.9396 - val_loss: 0.0285 - val_accuracy: 0.9114\n",
            "Epoch 134/400\n",
            "121/121 [==============================] - 1s 6ms/step - loss: 0.0202 - accuracy: 0.9454 - val_loss: 0.0287 - val_accuracy: 0.9075\n",
            "Epoch 135/400\n",
            "121/121 [==============================] - 1s 6ms/step - loss: 0.0200 - accuracy: 0.9429 - val_loss: 0.0290 - val_accuracy: 0.9056\n",
            "Epoch 136/400\n",
            "121/121 [==============================] - 1s 6ms/step - loss: 0.0200 - accuracy: 0.9429 - val_loss: 0.0296 - val_accuracy: 0.9037\n",
            "Epoch 137/400\n",
            "121/121 [==============================] - 1s 6ms/step - loss: 0.0202 - accuracy: 0.9421 - val_loss: 0.0286 - val_accuracy: 0.9133\n",
            "Epoch 138/400\n",
            "121/121 [==============================] - 1s 5ms/step - loss: 0.0200 - accuracy: 0.9413 - val_loss: 0.0288 - val_accuracy: 0.9114\n",
            "Epoch 139/400\n",
            "121/121 [==============================] - 1s 6ms/step - loss: 0.0200 - accuracy: 0.9421 - val_loss: 0.0285 - val_accuracy: 0.9094\n",
            "Epoch 140/400\n",
            "121/121 [==============================] - 1s 6ms/step - loss: 0.0198 - accuracy: 0.9446 - val_loss: 0.0287 - val_accuracy: 0.9075\n",
            "Epoch 141/400\n",
            "121/121 [==============================] - 1s 6ms/step - loss: 0.0200 - accuracy: 0.9421 - val_loss: 0.0284 - val_accuracy: 0.9094\n",
            "Epoch 142/400\n",
            "121/121 [==============================] - 1s 6ms/step - loss: 0.0199 - accuracy: 0.9462 - val_loss: 0.0286 - val_accuracy: 0.9037\n",
            "Epoch 143/400\n",
            "121/121 [==============================] - 1s 6ms/step - loss: 0.0197 - accuracy: 0.9429 - val_loss: 0.0285 - val_accuracy: 0.9037\n",
            "Epoch 144/400\n",
            "121/121 [==============================] - 1s 6ms/step - loss: 0.0198 - accuracy: 0.9429 - val_loss: 0.0283 - val_accuracy: 0.9056\n",
            "Epoch 145/400\n",
            "121/121 [==============================] - 1s 6ms/step - loss: 0.0198 - accuracy: 0.9421 - val_loss: 0.0279 - val_accuracy: 0.9114\n",
            "Epoch 146/400\n",
            "121/121 [==============================] - 1s 6ms/step - loss: 0.0194 - accuracy: 0.9446 - val_loss: 0.0290 - val_accuracy: 0.9075\n",
            "Epoch 147/400\n",
            "121/121 [==============================] - 1s 6ms/step - loss: 0.0197 - accuracy: 0.9446 - val_loss: 0.0280 - val_accuracy: 0.9133\n",
            "Epoch 148/400\n",
            "121/121 [==============================] - 1s 6ms/step - loss: 0.0194 - accuracy: 0.9462 - val_loss: 0.0290 - val_accuracy: 0.9056\n",
            "Epoch 149/400\n",
            "121/121 [==============================] - 1s 6ms/step - loss: 0.0196 - accuracy: 0.9446 - val_loss: 0.0279 - val_accuracy: 0.9094\n",
            "Epoch 150/400\n",
            "121/121 [==============================] - 1s 6ms/step - loss: 0.0195 - accuracy: 0.9429 - val_loss: 0.0278 - val_accuracy: 0.9075\n",
            "Epoch 151/400\n",
            "121/121 [==============================] - 1s 6ms/step - loss: 0.0192 - accuracy: 0.9446 - val_loss: 0.0275 - val_accuracy: 0.9094\n",
            "Epoch 152/400\n",
            "121/121 [==============================] - 1s 6ms/step - loss: 0.0194 - accuracy: 0.9438 - val_loss: 0.0275 - val_accuracy: 0.9114\n",
            "Epoch 153/400\n",
            "121/121 [==============================] - 1s 6ms/step - loss: 0.0193 - accuracy: 0.9487 - val_loss: 0.0279 - val_accuracy: 0.9094\n",
            "Epoch 154/400\n",
            "121/121 [==============================] - 1s 6ms/step - loss: 0.0191 - accuracy: 0.9471 - val_loss: 0.0280 - val_accuracy: 0.9094\n",
            "Epoch 155/400\n",
            "121/121 [==============================] - 1s 6ms/step - loss: 0.0191 - accuracy: 0.9471 - val_loss: 0.0277 - val_accuracy: 0.9114\n",
            "Epoch 156/400\n",
            "121/121 [==============================] - 1s 6ms/step - loss: 0.0191 - accuracy: 0.9471 - val_loss: 0.0271 - val_accuracy: 0.9133\n",
            "Epoch 157/400\n",
            "121/121 [==============================] - 1s 6ms/step - loss: 0.0188 - accuracy: 0.9479 - val_loss: 0.0279 - val_accuracy: 0.9094\n",
            "Epoch 158/400\n",
            "121/121 [==============================] - 1s 6ms/step - loss: 0.0190 - accuracy: 0.9454 - val_loss: 0.0281 - val_accuracy: 0.9133\n",
            "Epoch 159/400\n",
            "121/121 [==============================] - 1s 6ms/step - loss: 0.0190 - accuracy: 0.9487 - val_loss: 0.0271 - val_accuracy: 0.9094\n",
            "Epoch 160/400\n",
            "121/121 [==============================] - 1s 6ms/step - loss: 0.0188 - accuracy: 0.9454 - val_loss: 0.0277 - val_accuracy: 0.9114\n",
            "Epoch 161/400\n",
            "121/121 [==============================] - 1s 6ms/step - loss: 0.0189 - accuracy: 0.9487 - val_loss: 0.0272 - val_accuracy: 0.9114\n",
            "Epoch 162/400\n",
            "121/121 [==============================] - 1s 6ms/step - loss: 0.0189 - accuracy: 0.9495 - val_loss: 0.0271 - val_accuracy: 0.9094\n",
            "Epoch 163/400\n",
            "121/121 [==============================] - 1s 6ms/step - loss: 0.0186 - accuracy: 0.9495 - val_loss: 0.0270 - val_accuracy: 0.9114\n",
            "Epoch 164/400\n",
            "121/121 [==============================] - 1s 6ms/step - loss: 0.0187 - accuracy: 0.9487 - val_loss: 0.0269 - val_accuracy: 0.9094\n",
            "Epoch 165/400\n",
            "121/121 [==============================] - 1s 6ms/step - loss: 0.0187 - accuracy: 0.9512 - val_loss: 0.0270 - val_accuracy: 0.9133\n",
            "Epoch 166/400\n",
            "121/121 [==============================] - 1s 6ms/step - loss: 0.0188 - accuracy: 0.9454 - val_loss: 0.0268 - val_accuracy: 0.9114\n",
            "Epoch 167/400\n",
            "121/121 [==============================] - 1s 6ms/step - loss: 0.0188 - accuracy: 0.9487 - val_loss: 0.0269 - val_accuracy: 0.9114\n",
            "Epoch 168/400\n",
            "121/121 [==============================] - 1s 6ms/step - loss: 0.0190 - accuracy: 0.9479 - val_loss: 0.0270 - val_accuracy: 0.9075\n",
            "Epoch 169/400\n",
            "121/121 [==============================] - 1s 6ms/step - loss: 0.0186 - accuracy: 0.9495 - val_loss: 0.0266 - val_accuracy: 0.9094\n",
            "Epoch 170/400\n",
            "121/121 [==============================] - 1s 6ms/step - loss: 0.0185 - accuracy: 0.9495 - val_loss: 0.0273 - val_accuracy: 0.9114\n",
            "Epoch 171/400\n",
            "121/121 [==============================] - 1s 6ms/step - loss: 0.0189 - accuracy: 0.9495 - val_loss: 0.0266 - val_accuracy: 0.9152\n",
            "Epoch 172/400\n",
            "121/121 [==============================] - 1s 6ms/step - loss: 0.0186 - accuracy: 0.9495 - val_loss: 0.0268 - val_accuracy: 0.9152\n",
            "Epoch 173/400\n",
            "121/121 [==============================] - 1s 6ms/step - loss: 0.0184 - accuracy: 0.9487 - val_loss: 0.0268 - val_accuracy: 0.9171\n",
            "Epoch 174/400\n",
            "121/121 [==============================] - 1s 6ms/step - loss: 0.0183 - accuracy: 0.9545 - val_loss: 0.0264 - val_accuracy: 0.9094\n",
            "Epoch 175/400\n",
            "121/121 [==============================] - 1s 6ms/step - loss: 0.0184 - accuracy: 0.9479 - val_loss: 0.0262 - val_accuracy: 0.9152\n",
            "Epoch 176/400\n",
            "121/121 [==============================] - 1s 6ms/step - loss: 0.0184 - accuracy: 0.9512 - val_loss: 0.0260 - val_accuracy: 0.9152\n",
            "Epoch 177/400\n",
            "121/121 [==============================] - 1s 5ms/step - loss: 0.0186 - accuracy: 0.9487 - val_loss: 0.0259 - val_accuracy: 0.9191\n",
            "Epoch 178/400\n",
            "121/121 [==============================] - 1s 6ms/step - loss: 0.0183 - accuracy: 0.9487 - val_loss: 0.0258 - val_accuracy: 0.9191\n",
            "Epoch 179/400\n",
            "121/121 [==============================] - 1s 6ms/step - loss: 0.0184 - accuracy: 0.9504 - val_loss: 0.0261 - val_accuracy: 0.9152\n",
            "Epoch 180/400\n",
            "121/121 [==============================] - 1s 6ms/step - loss: 0.0181 - accuracy: 0.9520 - val_loss: 0.0261 - val_accuracy: 0.9191\n",
            "Epoch 181/400\n",
            "121/121 [==============================] - 1s 6ms/step - loss: 0.0182 - accuracy: 0.9504 - val_loss: 0.0259 - val_accuracy: 0.9210\n",
            "Epoch 182/400\n",
            "121/121 [==============================] - 1s 5ms/step - loss: 0.0183 - accuracy: 0.9495 - val_loss: 0.0259 - val_accuracy: 0.9171\n",
            "Epoch 183/400\n",
            "121/121 [==============================] - 1s 6ms/step - loss: 0.0180 - accuracy: 0.9520 - val_loss: 0.0257 - val_accuracy: 0.9210\n",
            "Epoch 184/400\n",
            "121/121 [==============================] - 1s 6ms/step - loss: 0.0179 - accuracy: 0.9529 - val_loss: 0.0263 - val_accuracy: 0.9152\n",
            "Epoch 185/400\n",
            "121/121 [==============================] - 1s 6ms/step - loss: 0.0182 - accuracy: 0.9504 - val_loss: 0.0263 - val_accuracy: 0.9210\n",
            "Epoch 186/400\n",
            "121/121 [==============================] - 1s 6ms/step - loss: 0.0183 - accuracy: 0.9529 - val_loss: 0.0260 - val_accuracy: 0.9171\n",
            "Epoch 187/400\n",
            "121/121 [==============================] - 1s 6ms/step - loss: 0.0184 - accuracy: 0.9529 - val_loss: 0.0259 - val_accuracy: 0.9249\n",
            "Epoch 188/400\n",
            "121/121 [==============================] - 1s 6ms/step - loss: 0.0180 - accuracy: 0.9504 - val_loss: 0.0255 - val_accuracy: 0.9191\n",
            "Epoch 189/400\n",
            "121/121 [==============================] - 1s 6ms/step - loss: 0.0179 - accuracy: 0.9520 - val_loss: 0.0258 - val_accuracy: 0.9191\n",
            "Epoch 190/400\n",
            "121/121 [==============================] - 1s 6ms/step - loss: 0.0179 - accuracy: 0.9529 - val_loss: 0.0256 - val_accuracy: 0.9229\n",
            "Epoch 191/400\n",
            "121/121 [==============================] - 1s 6ms/step - loss: 0.0180 - accuracy: 0.9504 - val_loss: 0.0251 - val_accuracy: 0.9249\n",
            "Epoch 192/400\n",
            "121/121 [==============================] - 1s 6ms/step - loss: 0.0176 - accuracy: 0.9529 - val_loss: 0.0261 - val_accuracy: 0.9191\n",
            "Epoch 193/400\n",
            "121/121 [==============================] - 1s 6ms/step - loss: 0.0179 - accuracy: 0.9520 - val_loss: 0.0253 - val_accuracy: 0.9133\n",
            "Epoch 194/400\n",
            "121/121 [==============================] - 1s 6ms/step - loss: 0.0177 - accuracy: 0.9512 - val_loss: 0.0259 - val_accuracy: 0.9152\n",
            "Epoch 195/400\n",
            "121/121 [==============================] - 1s 5ms/step - loss: 0.0181 - accuracy: 0.9487 - val_loss: 0.0251 - val_accuracy: 0.9210\n",
            "Epoch 196/400\n",
            "121/121 [==============================] - 1s 5ms/step - loss: 0.0176 - accuracy: 0.9537 - val_loss: 0.0250 - val_accuracy: 0.9210\n",
            "Epoch 197/400\n",
            "121/121 [==============================] - 1s 6ms/step - loss: 0.0175 - accuracy: 0.9512 - val_loss: 0.0250 - val_accuracy: 0.9210\n",
            "Epoch 198/400\n",
            "121/121 [==============================] - 1s 6ms/step - loss: 0.0176 - accuracy: 0.9520 - val_loss: 0.0261 - val_accuracy: 0.9152\n",
            "Epoch 199/400\n",
            "121/121 [==============================] - 1s 6ms/step - loss: 0.0184 - accuracy: 0.9512 - val_loss: 0.0251 - val_accuracy: 0.9191\n",
            "Epoch 200/400\n",
            "121/121 [==============================] - 1s 6ms/step - loss: 0.0178 - accuracy: 0.9529 - val_loss: 0.0249 - val_accuracy: 0.9191\n",
            "Epoch 201/400\n",
            "121/121 [==============================] - 1s 6ms/step - loss: 0.0175 - accuracy: 0.9529 - val_loss: 0.0251 - val_accuracy: 0.9191\n",
            "Epoch 202/400\n",
            "121/121 [==============================] - 1s 6ms/step - loss: 0.0176 - accuracy: 0.9545 - val_loss: 0.0253 - val_accuracy: 0.9171\n",
            "Epoch 203/400\n",
            "121/121 [==============================] - 1s 6ms/step - loss: 0.0178 - accuracy: 0.9529 - val_loss: 0.0243 - val_accuracy: 0.9229\n",
            "Epoch 204/400\n",
            "121/121 [==============================] - 1s 6ms/step - loss: 0.0175 - accuracy: 0.9529 - val_loss: 0.0247 - val_accuracy: 0.9287\n",
            "Epoch 205/400\n",
            "121/121 [==============================] - 1s 6ms/step - loss: 0.0181 - accuracy: 0.9487 - val_loss: 0.0246 - val_accuracy: 0.9229\n",
            "Epoch 206/400\n",
            "121/121 [==============================] - 1s 6ms/step - loss: 0.0176 - accuracy: 0.9495 - val_loss: 0.0249 - val_accuracy: 0.9229\n",
            "Epoch 207/400\n",
            "121/121 [==============================] - 1s 6ms/step - loss: 0.0174 - accuracy: 0.9529 - val_loss: 0.0243 - val_accuracy: 0.9210\n",
            "Epoch 208/400\n",
            "121/121 [==============================] - 1s 6ms/step - loss: 0.0173 - accuracy: 0.9545 - val_loss: 0.0247 - val_accuracy: 0.9229\n",
            "Epoch 209/400\n",
            "121/121 [==============================] - 1s 6ms/step - loss: 0.0172 - accuracy: 0.9545 - val_loss: 0.0245 - val_accuracy: 0.9229\n",
            "Epoch 210/400\n",
            "121/121 [==============================] - 1s 6ms/step - loss: 0.0174 - accuracy: 0.9537 - val_loss: 0.0248 - val_accuracy: 0.9191\n",
            "Epoch 211/400\n",
            "121/121 [==============================] - 1s 6ms/step - loss: 0.0175 - accuracy: 0.9545 - val_loss: 0.0244 - val_accuracy: 0.9229\n",
            "Epoch 212/400\n",
            "121/121 [==============================] - 1s 6ms/step - loss: 0.0173 - accuracy: 0.9529 - val_loss: 0.0246 - val_accuracy: 0.9210\n",
            "Epoch 213/400\n",
            "121/121 [==============================] - 1s 6ms/step - loss: 0.0173 - accuracy: 0.9537 - val_loss: 0.0244 - val_accuracy: 0.9306\n",
            "Epoch 214/400\n",
            "121/121 [==============================] - 1s 6ms/step - loss: 0.0174 - accuracy: 0.9537 - val_loss: 0.0242 - val_accuracy: 0.9210\n",
            "Epoch 215/400\n",
            "121/121 [==============================] - 1s 6ms/step - loss: 0.0173 - accuracy: 0.9520 - val_loss: 0.0244 - val_accuracy: 0.9191\n",
            "Epoch 216/400\n",
            "121/121 [==============================] - 1s 6ms/step - loss: 0.0173 - accuracy: 0.9545 - val_loss: 0.0244 - val_accuracy: 0.9210\n",
            "Epoch 217/400\n",
            "121/121 [==============================] - 1s 6ms/step - loss: 0.0171 - accuracy: 0.9553 - val_loss: 0.0244 - val_accuracy: 0.9210\n",
            "Epoch 218/400\n",
            "121/121 [==============================] - 1s 6ms/step - loss: 0.0172 - accuracy: 0.9545 - val_loss: 0.0244 - val_accuracy: 0.9229\n",
            "Epoch 219/400\n",
            "121/121 [==============================] - 1s 6ms/step - loss: 0.0173 - accuracy: 0.9553 - val_loss: 0.0244 - val_accuracy: 0.9287\n",
            "Epoch 220/400\n",
            "121/121 [==============================] - 1s 6ms/step - loss: 0.0175 - accuracy: 0.9537 - val_loss: 0.0241 - val_accuracy: 0.9229\n",
            "Epoch 221/400\n",
            "121/121 [==============================] - 1s 6ms/step - loss: 0.0171 - accuracy: 0.9545 - val_loss: 0.0246 - val_accuracy: 0.9210\n",
            "Epoch 222/400\n",
            "121/121 [==============================] - 1s 6ms/step - loss: 0.0171 - accuracy: 0.9545 - val_loss: 0.0245 - val_accuracy: 0.9249\n",
            "Epoch 223/400\n",
            "121/121 [==============================] - 1s 6ms/step - loss: 0.0169 - accuracy: 0.9545 - val_loss: 0.0240 - val_accuracy: 0.9210\n",
            "Epoch 224/400\n",
            "121/121 [==============================] - 1s 6ms/step - loss: 0.0171 - accuracy: 0.9545 - val_loss: 0.0245 - val_accuracy: 0.9229\n",
            "Epoch 225/400\n",
            "121/121 [==============================] - 1s 6ms/step - loss: 0.0169 - accuracy: 0.9570 - val_loss: 0.0241 - val_accuracy: 0.9287\n",
            "Epoch 226/400\n",
            "121/121 [==============================] - 1s 6ms/step - loss: 0.0169 - accuracy: 0.9553 - val_loss: 0.0244 - val_accuracy: 0.9287\n",
            "Epoch 227/400\n",
            "121/121 [==============================] - 1s 6ms/step - loss: 0.0170 - accuracy: 0.9553 - val_loss: 0.0242 - val_accuracy: 0.9249\n",
            "Epoch 228/400\n",
            "121/121 [==============================] - 1s 6ms/step - loss: 0.0169 - accuracy: 0.9586 - val_loss: 0.0243 - val_accuracy: 0.9191\n",
            "Epoch 229/400\n",
            "121/121 [==============================] - 1s 5ms/step - loss: 0.0170 - accuracy: 0.9570 - val_loss: 0.0245 - val_accuracy: 0.9171\n",
            "Epoch 230/400\n",
            "121/121 [==============================] - 1s 6ms/step - loss: 0.0171 - accuracy: 0.9570 - val_loss: 0.0243 - val_accuracy: 0.9191\n",
            "Epoch 231/400\n",
            "121/121 [==============================] - 1s 6ms/step - loss: 0.0170 - accuracy: 0.9553 - val_loss: 0.0241 - val_accuracy: 0.9210\n",
            "Epoch 232/400\n",
            "121/121 [==============================] - 1s 6ms/step - loss: 0.0169 - accuracy: 0.9545 - val_loss: 0.0246 - val_accuracy: 0.9229\n",
            "Epoch 233/400\n",
            "121/121 [==============================] - 1s 6ms/step - loss: 0.0172 - accuracy: 0.9537 - val_loss: 0.0240 - val_accuracy: 0.9287\n",
            "Epoch 234/400\n",
            "121/121 [==============================] - 1s 6ms/step - loss: 0.0170 - accuracy: 0.9529 - val_loss: 0.0247 - val_accuracy: 0.9229\n",
            "Epoch 235/400\n",
            "121/121 [==============================] - 1s 6ms/step - loss: 0.0170 - accuracy: 0.9562 - val_loss: 0.0243 - val_accuracy: 0.9210\n",
            "Epoch 236/400\n",
            "121/121 [==============================] - 1s 6ms/step - loss: 0.0171 - accuracy: 0.9562 - val_loss: 0.0239 - val_accuracy: 0.9210\n",
            "Epoch 237/400\n",
            "121/121 [==============================] - 1s 6ms/step - loss: 0.0170 - accuracy: 0.9570 - val_loss: 0.0238 - val_accuracy: 0.9229\n",
            "Epoch 238/400\n",
            "121/121 [==============================] - 1s 6ms/step - loss: 0.0172 - accuracy: 0.9545 - val_loss: 0.0238 - val_accuracy: 0.9191\n",
            "Epoch 239/400\n",
            "121/121 [==============================] - 1s 6ms/step - loss: 0.0167 - accuracy: 0.9553 - val_loss: 0.0239 - val_accuracy: 0.9249\n",
            "Epoch 240/400\n",
            "121/121 [==============================] - 1s 6ms/step - loss: 0.0166 - accuracy: 0.9570 - val_loss: 0.0238 - val_accuracy: 0.9249\n",
            "Epoch 241/400\n",
            "121/121 [==============================] - 1s 6ms/step - loss: 0.0166 - accuracy: 0.9570 - val_loss: 0.0240 - val_accuracy: 0.9229\n",
            "Epoch 242/400\n",
            "121/121 [==============================] - 1s 6ms/step - loss: 0.0168 - accuracy: 0.9578 - val_loss: 0.0246 - val_accuracy: 0.9210\n",
            "Epoch 243/400\n",
            "121/121 [==============================] - 1s 6ms/step - loss: 0.0170 - accuracy: 0.9545 - val_loss: 0.0240 - val_accuracy: 0.9268\n",
            "Epoch 244/400\n",
            "121/121 [==============================] - 1s 6ms/step - loss: 0.0167 - accuracy: 0.9570 - val_loss: 0.0242 - val_accuracy: 0.9210\n",
            "Epoch 245/400\n",
            "121/121 [==============================] - 1s 6ms/step - loss: 0.0169 - accuracy: 0.9562 - val_loss: 0.0237 - val_accuracy: 0.9249\n",
            "Epoch 246/400\n",
            "121/121 [==============================] - 1s 6ms/step - loss: 0.0167 - accuracy: 0.9570 - val_loss: 0.0237 - val_accuracy: 0.9268\n",
            "Epoch 247/400\n",
            "121/121 [==============================] - 1s 6ms/step - loss: 0.0167 - accuracy: 0.9578 - val_loss: 0.0240 - val_accuracy: 0.9287\n",
            "Epoch 248/400\n",
            "121/121 [==============================] - 1s 6ms/step - loss: 0.0166 - accuracy: 0.9562 - val_loss: 0.0241 - val_accuracy: 0.9210\n",
            "Epoch 249/400\n",
            "121/121 [==============================] - 1s 6ms/step - loss: 0.0166 - accuracy: 0.9562 - val_loss: 0.0239 - val_accuracy: 0.9249\n",
            "Epoch 250/400\n",
            "121/121 [==============================] - 1s 6ms/step - loss: 0.0166 - accuracy: 0.9570 - val_loss: 0.0242 - val_accuracy: 0.9210\n",
            "Epoch 251/400\n",
            "121/121 [==============================] - 1s 6ms/step - loss: 0.0167 - accuracy: 0.9578 - val_loss: 0.0237 - val_accuracy: 0.9229\n",
            "Epoch 252/400\n",
            "121/121 [==============================] - 1s 6ms/step - loss: 0.0168 - accuracy: 0.9562 - val_loss: 0.0238 - val_accuracy: 0.9268\n",
            "Epoch 253/400\n",
            "121/121 [==============================] - 1s 6ms/step - loss: 0.0166 - accuracy: 0.9578 - val_loss: 0.0241 - val_accuracy: 0.9210\n",
            "Epoch 254/400\n",
            "121/121 [==============================] - 1s 6ms/step - loss: 0.0164 - accuracy: 0.9611 - val_loss: 0.0237 - val_accuracy: 0.9210\n",
            "Epoch 255/400\n",
            "121/121 [==============================] - 1s 6ms/step - loss: 0.0164 - accuracy: 0.9586 - val_loss: 0.0237 - val_accuracy: 0.9268\n",
            "Epoch 256/400\n",
            "121/121 [==============================] - 1s 6ms/step - loss: 0.0163 - accuracy: 0.9595 - val_loss: 0.0237 - val_accuracy: 0.9249\n",
            "Epoch 257/400\n",
            "121/121 [==============================] - 1s 6ms/step - loss: 0.0163 - accuracy: 0.9595 - val_loss: 0.0236 - val_accuracy: 0.9249\n",
            "Epoch 258/400\n",
            "121/121 [==============================] - 1s 6ms/step - loss: 0.0164 - accuracy: 0.9578 - val_loss: 0.0240 - val_accuracy: 0.9287\n",
            "Epoch 259/400\n",
            "121/121 [==============================] - 1s 6ms/step - loss: 0.0163 - accuracy: 0.9586 - val_loss: 0.0237 - val_accuracy: 0.9249\n",
            "Epoch 260/400\n",
            "121/121 [==============================] - 1s 6ms/step - loss: 0.0165 - accuracy: 0.9586 - val_loss: 0.0240 - val_accuracy: 0.9287\n",
            "Epoch 261/400\n",
            "121/121 [==============================] - 1s 6ms/step - loss: 0.0165 - accuracy: 0.9578 - val_loss: 0.0238 - val_accuracy: 0.9229\n",
            "Epoch 262/400\n",
            "121/121 [==============================] - 1s 6ms/step - loss: 0.0163 - accuracy: 0.9586 - val_loss: 0.0239 - val_accuracy: 0.9287\n",
            "Epoch 263/400\n",
            "121/121 [==============================] - 1s 6ms/step - loss: 0.0164 - accuracy: 0.9578 - val_loss: 0.0240 - val_accuracy: 0.9229\n",
            "Epoch 264/400\n",
            "121/121 [==============================] - 1s 6ms/step - loss: 0.0161 - accuracy: 0.9620 - val_loss: 0.0243 - val_accuracy: 0.9210\n",
            "Epoch 265/400\n",
            "121/121 [==============================] - 1s 6ms/step - loss: 0.0165 - accuracy: 0.9562 - val_loss: 0.0236 - val_accuracy: 0.9249\n",
            "Epoch 266/400\n",
            "121/121 [==============================] - 1s 6ms/step - loss: 0.0163 - accuracy: 0.9620 - val_loss: 0.0239 - val_accuracy: 0.9229\n",
            "Epoch 267/400\n",
            "121/121 [==============================] - 1s 6ms/step - loss: 0.0164 - accuracy: 0.9570 - val_loss: 0.0240 - val_accuracy: 0.9171\n",
            "Epoch 268/400\n",
            "121/121 [==============================] - 1s 6ms/step - loss: 0.0163 - accuracy: 0.9603 - val_loss: 0.0239 - val_accuracy: 0.9210\n",
            "Epoch 269/400\n",
            "121/121 [==============================] - 1s 6ms/step - loss: 0.0161 - accuracy: 0.9595 - val_loss: 0.0233 - val_accuracy: 0.9268\n",
            "Epoch 270/400\n",
            "121/121 [==============================] - 1s 6ms/step - loss: 0.0166 - accuracy: 0.9603 - val_loss: 0.0237 - val_accuracy: 0.9268\n",
            "Epoch 271/400\n",
            "121/121 [==============================] - 1s 6ms/step - loss: 0.0161 - accuracy: 0.9603 - val_loss: 0.0233 - val_accuracy: 0.9249\n",
            "Epoch 272/400\n",
            "121/121 [==============================] - 1s 6ms/step - loss: 0.0163 - accuracy: 0.9570 - val_loss: 0.0240 - val_accuracy: 0.9287\n",
            "Epoch 273/400\n",
            "121/121 [==============================] - 1s 6ms/step - loss: 0.0164 - accuracy: 0.9611 - val_loss: 0.0245 - val_accuracy: 0.9229\n",
            "Epoch 274/400\n",
            "121/121 [==============================] - 1s 6ms/step - loss: 0.0160 - accuracy: 0.9586 - val_loss: 0.0236 - val_accuracy: 0.9268\n",
            "Epoch 275/400\n",
            "121/121 [==============================] - 1s 6ms/step - loss: 0.0163 - accuracy: 0.9603 - val_loss: 0.0240 - val_accuracy: 0.9287\n",
            "Epoch 276/400\n",
            "121/121 [==============================] - 1s 6ms/step - loss: 0.0160 - accuracy: 0.9611 - val_loss: 0.0237 - val_accuracy: 0.9249\n",
            "Epoch 277/400\n",
            "121/121 [==============================] - 1s 6ms/step - loss: 0.0162 - accuracy: 0.9586 - val_loss: 0.0238 - val_accuracy: 0.9268\n",
            "Epoch 278/400\n",
            "121/121 [==============================] - 1s 6ms/step - loss: 0.0160 - accuracy: 0.9595 - val_loss: 0.0237 - val_accuracy: 0.9268\n",
            "Epoch 279/400\n",
            "121/121 [==============================] - 1s 6ms/step - loss: 0.0159 - accuracy: 0.9628 - val_loss: 0.0243 - val_accuracy: 0.9229\n",
            "Epoch 280/400\n",
            "121/121 [==============================] - 1s 6ms/step - loss: 0.0159 - accuracy: 0.9611 - val_loss: 0.0237 - val_accuracy: 0.9287\n",
            "Epoch 281/400\n",
            "121/121 [==============================] - 1s 6ms/step - loss: 0.0162 - accuracy: 0.9620 - val_loss: 0.0236 - val_accuracy: 0.9287\n",
            "Epoch 282/400\n",
            "121/121 [==============================] - 1s 6ms/step - loss: 0.0159 - accuracy: 0.9620 - val_loss: 0.0235 - val_accuracy: 0.9249\n",
            "Epoch 283/400\n",
            "121/121 [==============================] - 1s 6ms/step - loss: 0.0161 - accuracy: 0.9586 - val_loss: 0.0241 - val_accuracy: 0.9249\n",
            "Epoch 284/400\n",
            "121/121 [==============================] - 1s 6ms/step - loss: 0.0167 - accuracy: 0.9578 - val_loss: 0.0235 - val_accuracy: 0.9268\n",
            "Epoch 285/400\n",
            "121/121 [==============================] - 1s 6ms/step - loss: 0.0160 - accuracy: 0.9595 - val_loss: 0.0239 - val_accuracy: 0.9268\n",
            "Epoch 286/400\n",
            "121/121 [==============================] - 1s 6ms/step - loss: 0.0158 - accuracy: 0.9620 - val_loss: 0.0237 - val_accuracy: 0.9229\n",
            "Epoch 287/400\n",
            "121/121 [==============================] - 1s 6ms/step - loss: 0.0157 - accuracy: 0.9586 - val_loss: 0.0236 - val_accuracy: 0.9287\n",
            "Epoch 288/400\n",
            "121/121 [==============================] - 1s 6ms/step - loss: 0.0159 - accuracy: 0.9620 - val_loss: 0.0240 - val_accuracy: 0.9306\n",
            "Epoch 289/400\n",
            "121/121 [==============================] - 1s 6ms/step - loss: 0.0162 - accuracy: 0.9620 - val_loss: 0.0237 - val_accuracy: 0.9306\n",
            "Epoch 290/400\n",
            "121/121 [==============================] - 1s 6ms/step - loss: 0.0160 - accuracy: 0.9636 - val_loss: 0.0248 - val_accuracy: 0.9249\n",
            "Epoch 291/400\n",
            "121/121 [==============================] - 1s 6ms/step - loss: 0.0163 - accuracy: 0.9595 - val_loss: 0.0247 - val_accuracy: 0.9268\n",
            "Epoch 292/400\n",
            "121/121 [==============================] - 1s 6ms/step - loss: 0.0161 - accuracy: 0.9603 - val_loss: 0.0238 - val_accuracy: 0.9249\n",
            "Epoch 293/400\n",
            "121/121 [==============================] - 1s 6ms/step - loss: 0.0158 - accuracy: 0.9620 - val_loss: 0.0235 - val_accuracy: 0.9287\n",
            "Epoch 294/400\n",
            "121/121 [==============================] - 1s 6ms/step - loss: 0.0157 - accuracy: 0.9628 - val_loss: 0.0239 - val_accuracy: 0.9306\n",
            "Epoch 295/400\n",
            "121/121 [==============================] - 1s 6ms/step - loss: 0.0158 - accuracy: 0.9603 - val_loss: 0.0233 - val_accuracy: 0.9287\n",
            "Epoch 296/400\n",
            "121/121 [==============================] - 1s 6ms/step - loss: 0.0157 - accuracy: 0.9628 - val_loss: 0.0234 - val_accuracy: 0.9287\n",
            "Epoch 297/400\n",
            "121/121 [==============================] - 1s 6ms/step - loss: 0.0157 - accuracy: 0.9611 - val_loss: 0.0234 - val_accuracy: 0.9268\n",
            "Epoch 298/400\n",
            "121/121 [==============================] - 1s 6ms/step - loss: 0.0161 - accuracy: 0.9628 - val_loss: 0.0237 - val_accuracy: 0.9268\n",
            "Epoch 299/400\n",
            "121/121 [==============================] - 1s 6ms/step - loss: 0.0157 - accuracy: 0.9628 - val_loss: 0.0234 - val_accuracy: 0.9287\n",
            "Epoch 300/400\n",
            "121/121 [==============================] - 1s 6ms/step - loss: 0.0156 - accuracy: 0.9628 - val_loss: 0.0235 - val_accuracy: 0.9268\n",
            "Epoch 301/400\n",
            "121/121 [==============================] - 1s 6ms/step - loss: 0.0157 - accuracy: 0.9628 - val_loss: 0.0232 - val_accuracy: 0.9306\n",
            "Epoch 302/400\n",
            "121/121 [==============================] - 1s 6ms/step - loss: 0.0157 - accuracy: 0.9636 - val_loss: 0.0233 - val_accuracy: 0.9268\n",
            "Epoch 303/400\n",
            "121/121 [==============================] - 1s 6ms/step - loss: 0.0156 - accuracy: 0.9653 - val_loss: 0.0234 - val_accuracy: 0.9287\n",
            "Epoch 304/400\n",
            "121/121 [==============================] - 1s 6ms/step - loss: 0.0157 - accuracy: 0.9644 - val_loss: 0.0236 - val_accuracy: 0.9287\n",
            "Epoch 305/400\n",
            "121/121 [==============================] - 1s 6ms/step - loss: 0.0157 - accuracy: 0.9644 - val_loss: 0.0236 - val_accuracy: 0.9287\n",
            "Epoch 306/400\n",
            "121/121 [==============================] - 1s 6ms/step - loss: 0.0159 - accuracy: 0.9611 - val_loss: 0.0238 - val_accuracy: 0.9268\n",
            "Epoch 307/400\n",
            "121/121 [==============================] - 1s 6ms/step - loss: 0.0155 - accuracy: 0.9628 - val_loss: 0.0235 - val_accuracy: 0.9287\n",
            "Epoch 308/400\n",
            "121/121 [==============================] - 1s 6ms/step - loss: 0.0155 - accuracy: 0.9644 - val_loss: 0.0238 - val_accuracy: 0.9326\n",
            "Epoch 309/400\n",
            "121/121 [==============================] - 1s 6ms/step - loss: 0.0155 - accuracy: 0.9653 - val_loss: 0.0233 - val_accuracy: 0.9326\n",
            "Epoch 310/400\n",
            "121/121 [==============================] - 1s 6ms/step - loss: 0.0155 - accuracy: 0.9636 - val_loss: 0.0243 - val_accuracy: 0.9287\n",
            "Epoch 311/400\n",
            "121/121 [==============================] - 1s 6ms/step - loss: 0.0158 - accuracy: 0.9586 - val_loss: 0.0239 - val_accuracy: 0.9268\n",
            "Epoch 312/400\n",
            "121/121 [==============================] - 1s 6ms/step - loss: 0.0156 - accuracy: 0.9620 - val_loss: 0.0234 - val_accuracy: 0.9268\n",
            "Epoch 313/400\n",
            "121/121 [==============================] - 1s 6ms/step - loss: 0.0155 - accuracy: 0.9620 - val_loss: 0.0234 - val_accuracy: 0.9287\n",
            "Epoch 314/400\n",
            "121/121 [==============================] - 1s 6ms/step - loss: 0.0159 - accuracy: 0.9620 - val_loss: 0.0237 - val_accuracy: 0.9287\n",
            "Epoch 315/400\n",
            "121/121 [==============================] - 1s 6ms/step - loss: 0.0163 - accuracy: 0.9586 - val_loss: 0.0235 - val_accuracy: 0.9306\n",
            "Epoch 316/400\n",
            "121/121 [==============================] - 1s 6ms/step - loss: 0.0157 - accuracy: 0.9603 - val_loss: 0.0233 - val_accuracy: 0.9326\n",
            "Epoch 317/400\n",
            "121/121 [==============================] - 1s 6ms/step - loss: 0.0154 - accuracy: 0.9636 - val_loss: 0.0232 - val_accuracy: 0.9287\n",
            "Epoch 318/400\n",
            "121/121 [==============================] - 1s 6ms/step - loss: 0.0154 - accuracy: 0.9644 - val_loss: 0.0230 - val_accuracy: 0.9306\n",
            "Epoch 319/400\n",
            "121/121 [==============================] - 1s 6ms/step - loss: 0.0154 - accuracy: 0.9653 - val_loss: 0.0233 - val_accuracy: 0.9287\n",
            "Epoch 320/400\n",
            "121/121 [==============================] - 1s 6ms/step - loss: 0.0153 - accuracy: 0.9636 - val_loss: 0.0233 - val_accuracy: 0.9326\n",
            "Epoch 321/400\n",
            "121/121 [==============================] - 1s 6ms/step - loss: 0.0155 - accuracy: 0.9628 - val_loss: 0.0233 - val_accuracy: 0.9326\n",
            "Epoch 322/400\n",
            "121/121 [==============================] - 1s 6ms/step - loss: 0.0156 - accuracy: 0.9644 - val_loss: 0.0229 - val_accuracy: 0.9306\n",
            "Epoch 323/400\n",
            "121/121 [==============================] - 1s 6ms/step - loss: 0.0157 - accuracy: 0.9628 - val_loss: 0.0226 - val_accuracy: 0.9287\n",
            "Epoch 324/400\n",
            "121/121 [==============================] - 1s 6ms/step - loss: 0.0156 - accuracy: 0.9611 - val_loss: 0.0224 - val_accuracy: 0.9306\n",
            "Epoch 325/400\n",
            "121/121 [==============================] - 1s 6ms/step - loss: 0.0154 - accuracy: 0.9636 - val_loss: 0.0231 - val_accuracy: 0.9306\n",
            "Epoch 326/400\n",
            "121/121 [==============================] - 1s 6ms/step - loss: 0.0151 - accuracy: 0.9636 - val_loss: 0.0229 - val_accuracy: 0.9326\n",
            "Epoch 327/400\n",
            "121/121 [==============================] - 1s 6ms/step - loss: 0.0152 - accuracy: 0.9653 - val_loss: 0.0226 - val_accuracy: 0.9326\n",
            "Epoch 328/400\n",
            "121/121 [==============================] - 1s 6ms/step - loss: 0.0152 - accuracy: 0.9644 - val_loss: 0.0229 - val_accuracy: 0.9326\n",
            "Epoch 329/400\n",
            "121/121 [==============================] - 1s 6ms/step - loss: 0.0158 - accuracy: 0.9628 - val_loss: 0.0233 - val_accuracy: 0.9268\n",
            "Epoch 330/400\n",
            "121/121 [==============================] - 1s 6ms/step - loss: 0.0155 - accuracy: 0.9653 - val_loss: 0.0232 - val_accuracy: 0.9306\n",
            "Epoch 331/400\n",
            "121/121 [==============================] - 1s 6ms/step - loss: 0.0153 - accuracy: 0.9644 - val_loss: 0.0231 - val_accuracy: 0.9345\n",
            "Epoch 332/400\n",
            "121/121 [==============================] - 1s 6ms/step - loss: 0.0153 - accuracy: 0.9644 - val_loss: 0.0243 - val_accuracy: 0.9306\n",
            "Epoch 333/400\n",
            "121/121 [==============================] - 1s 6ms/step - loss: 0.0156 - accuracy: 0.9611 - val_loss: 0.0237 - val_accuracy: 0.9249\n",
            "Epoch 334/400\n",
            "121/121 [==============================] - 1s 6ms/step - loss: 0.0154 - accuracy: 0.9653 - val_loss: 0.0233 - val_accuracy: 0.9326\n",
            "Epoch 335/400\n",
            "121/121 [==============================] - 1s 6ms/step - loss: 0.0151 - accuracy: 0.9653 - val_loss: 0.0231 - val_accuracy: 0.9345\n",
            "Epoch 336/400\n",
            "121/121 [==============================] - 1s 6ms/step - loss: 0.0151 - accuracy: 0.9653 - val_loss: 0.0235 - val_accuracy: 0.9326\n",
            "Epoch 337/400\n",
            "121/121 [==============================] - 1s 6ms/step - loss: 0.0152 - accuracy: 0.9636 - val_loss: 0.0230 - val_accuracy: 0.9326\n",
            "Epoch 338/400\n",
            "121/121 [==============================] - 1s 6ms/step - loss: 0.0150 - accuracy: 0.9661 - val_loss: 0.0237 - val_accuracy: 0.9306\n",
            "Epoch 339/400\n",
            "121/121 [==============================] - 1s 6ms/step - loss: 0.0151 - accuracy: 0.9636 - val_loss: 0.0230 - val_accuracy: 0.9306\n",
            "Epoch 340/400\n",
            "121/121 [==============================] - 1s 6ms/step - loss: 0.0151 - accuracy: 0.9653 - val_loss: 0.0235 - val_accuracy: 0.9306\n",
            "Epoch 341/400\n",
            "121/121 [==============================] - 1s 6ms/step - loss: 0.0152 - accuracy: 0.9653 - val_loss: 0.0227 - val_accuracy: 0.9326\n",
            "Epoch 342/400\n",
            "121/121 [==============================] - 1s 6ms/step - loss: 0.0151 - accuracy: 0.9653 - val_loss: 0.0224 - val_accuracy: 0.9364\n",
            "Epoch 343/400\n",
            "121/121 [==============================] - 1s 6ms/step - loss: 0.0150 - accuracy: 0.9644 - val_loss: 0.0238 - val_accuracy: 0.9306\n",
            "Epoch 344/400\n",
            "121/121 [==============================] - 1s 6ms/step - loss: 0.0148 - accuracy: 0.9677 - val_loss: 0.0225 - val_accuracy: 0.9364\n",
            "Epoch 345/400\n",
            "121/121 [==============================] - 1s 6ms/step - loss: 0.0148 - accuracy: 0.9653 - val_loss: 0.0237 - val_accuracy: 0.9326\n",
            "Epoch 346/400\n",
            "121/121 [==============================] - 1s 6ms/step - loss: 0.0151 - accuracy: 0.9628 - val_loss: 0.0228 - val_accuracy: 0.9364\n",
            "Epoch 347/400\n",
            "121/121 [==============================] - 1s 6ms/step - loss: 0.0150 - accuracy: 0.9653 - val_loss: 0.0232 - val_accuracy: 0.9326\n",
            "Epoch 348/400\n",
            "121/121 [==============================] - 1s 6ms/step - loss: 0.0150 - accuracy: 0.9636 - val_loss: 0.0232 - val_accuracy: 0.9345\n",
            "Epoch 349/400\n",
            "121/121 [==============================] - 1s 6ms/step - loss: 0.0149 - accuracy: 0.9653 - val_loss: 0.0234 - val_accuracy: 0.9345\n",
            "Epoch 350/400\n",
            "121/121 [==============================] - 1s 6ms/step - loss: 0.0150 - accuracy: 0.9644 - val_loss: 0.0229 - val_accuracy: 0.9306\n",
            "Epoch 351/400\n",
            "121/121 [==============================] - 1s 6ms/step - loss: 0.0148 - accuracy: 0.9661 - val_loss: 0.0223 - val_accuracy: 0.9403\n",
            "Epoch 352/400\n",
            "121/121 [==============================] - 1s 6ms/step - loss: 0.0147 - accuracy: 0.9653 - val_loss: 0.0228 - val_accuracy: 0.9383\n",
            "Epoch 353/400\n",
            "121/121 [==============================] - 1s 6ms/step - loss: 0.0147 - accuracy: 0.9661 - val_loss: 0.0228 - val_accuracy: 0.9306\n",
            "Epoch 354/400\n",
            "121/121 [==============================] - 1s 6ms/step - loss: 0.0152 - accuracy: 0.9620 - val_loss: 0.0231 - val_accuracy: 0.9345\n",
            "Epoch 355/400\n",
            "121/121 [==============================] - 1s 6ms/step - loss: 0.0148 - accuracy: 0.9636 - val_loss: 0.0234 - val_accuracy: 0.9326\n",
            "Epoch 356/400\n",
            "121/121 [==============================] - 1s 6ms/step - loss: 0.0148 - accuracy: 0.9636 - val_loss: 0.0237 - val_accuracy: 0.9287\n",
            "Epoch 357/400\n",
            "121/121 [==============================] - 1s 6ms/step - loss: 0.0152 - accuracy: 0.9628 - val_loss: 0.0228 - val_accuracy: 0.9326\n",
            "Epoch 358/400\n",
            "121/121 [==============================] - 1s 6ms/step - loss: 0.0149 - accuracy: 0.9653 - val_loss: 0.0232 - val_accuracy: 0.9326\n",
            "Epoch 359/400\n",
            "121/121 [==============================] - 1s 6ms/step - loss: 0.0148 - accuracy: 0.9661 - val_loss: 0.0223 - val_accuracy: 0.9383\n",
            "Epoch 360/400\n",
            "121/121 [==============================] - 1s 6ms/step - loss: 0.0149 - accuracy: 0.9644 - val_loss: 0.0231 - val_accuracy: 0.9383\n",
            "Epoch 361/400\n",
            "121/121 [==============================] - 1s 6ms/step - loss: 0.0150 - accuracy: 0.9628 - val_loss: 0.0237 - val_accuracy: 0.9287\n",
            "Epoch 362/400\n",
            "121/121 [==============================] - 1s 6ms/step - loss: 0.0150 - accuracy: 0.9661 - val_loss: 0.0235 - val_accuracy: 0.9287\n",
            "Epoch 363/400\n",
            "121/121 [==============================] - 1s 6ms/step - loss: 0.0146 - accuracy: 0.9669 - val_loss: 0.0234 - val_accuracy: 0.9306\n",
            "Epoch 364/400\n",
            "121/121 [==============================] - 1s 6ms/step - loss: 0.0151 - accuracy: 0.9661 - val_loss: 0.0236 - val_accuracy: 0.9326\n",
            "Epoch 365/400\n",
            "121/121 [==============================] - 1s 6ms/step - loss: 0.0152 - accuracy: 0.9644 - val_loss: 0.0233 - val_accuracy: 0.9345\n",
            "Epoch 366/400\n",
            "121/121 [==============================] - 1s 6ms/step - loss: 0.0151 - accuracy: 0.9644 - val_loss: 0.0224 - val_accuracy: 0.9345\n",
            "Epoch 367/400\n",
            "121/121 [==============================] - 1s 6ms/step - loss: 0.0148 - accuracy: 0.9644 - val_loss: 0.0228 - val_accuracy: 0.9345\n",
            "Epoch 368/400\n",
            "121/121 [==============================] - 1s 6ms/step - loss: 0.0149 - accuracy: 0.9644 - val_loss: 0.0225 - val_accuracy: 0.9345\n",
            "Epoch 369/400\n",
            "121/121 [==============================] - 1s 6ms/step - loss: 0.0144 - accuracy: 0.9677 - val_loss: 0.0226 - val_accuracy: 0.9403\n",
            "Epoch 370/400\n",
            "121/121 [==============================] - 1s 6ms/step - loss: 0.0145 - accuracy: 0.9661 - val_loss: 0.0228 - val_accuracy: 0.9403\n",
            "Epoch 371/400\n",
            "121/121 [==============================] - 1s 6ms/step - loss: 0.0148 - accuracy: 0.9653 - val_loss: 0.0230 - val_accuracy: 0.9383\n",
            "Epoch 372/400\n",
            "121/121 [==============================] - 1s 6ms/step - loss: 0.0146 - accuracy: 0.9677 - val_loss: 0.0235 - val_accuracy: 0.9345\n",
            "Epoch 373/400\n",
            "121/121 [==============================] - 1s 6ms/step - loss: 0.0147 - accuracy: 0.9669 - val_loss: 0.0235 - val_accuracy: 0.9326\n",
            "Epoch 374/400\n",
            "121/121 [==============================] - 1s 6ms/step - loss: 0.0145 - accuracy: 0.9661 - val_loss: 0.0238 - val_accuracy: 0.9326\n",
            "Epoch 375/400\n",
            "121/121 [==============================] - 1s 6ms/step - loss: 0.0145 - accuracy: 0.9653 - val_loss: 0.0232 - val_accuracy: 0.9364\n",
            "Epoch 376/400\n",
            "121/121 [==============================] - 1s 6ms/step - loss: 0.0147 - accuracy: 0.9644 - val_loss: 0.0238 - val_accuracy: 0.9306\n",
            "Epoch 377/400\n",
            "121/121 [==============================] - 1s 6ms/step - loss: 0.0145 - accuracy: 0.9669 - val_loss: 0.0224 - val_accuracy: 0.9326\n",
            "Epoch 378/400\n",
            "121/121 [==============================] - 1s 6ms/step - loss: 0.0145 - accuracy: 0.9669 - val_loss: 0.0223 - val_accuracy: 0.9422\n",
            "Epoch 379/400\n",
            "121/121 [==============================] - 1s 6ms/step - loss: 0.0143 - accuracy: 0.9661 - val_loss: 0.0234 - val_accuracy: 0.9326\n",
            "Epoch 380/400\n",
            "121/121 [==============================] - 1s 6ms/step - loss: 0.0144 - accuracy: 0.9661 - val_loss: 0.0224 - val_accuracy: 0.9403\n",
            "Epoch 381/400\n",
            "121/121 [==============================] - 1s 6ms/step - loss: 0.0144 - accuracy: 0.9686 - val_loss: 0.0226 - val_accuracy: 0.9383\n",
            "Epoch 382/400\n",
            "121/121 [==============================] - 1s 6ms/step - loss: 0.0144 - accuracy: 0.9644 - val_loss: 0.0233 - val_accuracy: 0.9345\n",
            "Epoch 383/400\n",
            "121/121 [==============================] - 1s 6ms/step - loss: 0.0148 - accuracy: 0.9628 - val_loss: 0.0246 - val_accuracy: 0.9268\n",
            "Epoch 384/400\n",
            "121/121 [==============================] - 1s 6ms/step - loss: 0.0147 - accuracy: 0.9644 - val_loss: 0.0232 - val_accuracy: 0.9326\n",
            "Epoch 385/400\n",
            "121/121 [==============================] - 1s 6ms/step - loss: 0.0143 - accuracy: 0.9669 - val_loss: 0.0225 - val_accuracy: 0.9345\n",
            "Epoch 386/400\n",
            "121/121 [==============================] - 1s 6ms/step - loss: 0.0143 - accuracy: 0.9661 - val_loss: 0.0224 - val_accuracy: 0.9364\n",
            "Epoch 387/400\n",
            "121/121 [==============================] - 1s 6ms/step - loss: 0.0146 - accuracy: 0.9661 - val_loss: 0.0230 - val_accuracy: 0.9364\n",
            "Epoch 388/400\n",
            "121/121 [==============================] - 1s 6ms/step - loss: 0.0147 - accuracy: 0.9653 - val_loss: 0.0227 - val_accuracy: 0.9383\n",
            "Epoch 389/400\n",
            "121/121 [==============================] - 1s 6ms/step - loss: 0.0143 - accuracy: 0.9661 - val_loss: 0.0226 - val_accuracy: 0.9364\n",
            "Epoch 390/400\n",
            "121/121 [==============================] - 1s 6ms/step - loss: 0.0141 - accuracy: 0.9653 - val_loss: 0.0226 - val_accuracy: 0.9403\n",
            "Epoch 391/400\n",
            "121/121 [==============================] - 1s 6ms/step - loss: 0.0143 - accuracy: 0.9636 - val_loss: 0.0229 - val_accuracy: 0.9403\n",
            "Epoch 392/400\n",
            "121/121 [==============================] - 1s 6ms/step - loss: 0.0145 - accuracy: 0.9686 - val_loss: 0.0225 - val_accuracy: 0.9403\n",
            "Epoch 393/400\n",
            "121/121 [==============================] - 1s 7ms/step - loss: 0.0149 - accuracy: 0.9636 - val_loss: 0.0242 - val_accuracy: 0.9306\n",
            "Epoch 394/400\n",
            "121/121 [==============================] - 1s 6ms/step - loss: 0.0143 - accuracy: 0.9669 - val_loss: 0.0225 - val_accuracy: 0.9345\n",
            "Epoch 395/400\n",
            "121/121 [==============================] - 1s 6ms/step - loss: 0.0141 - accuracy: 0.9653 - val_loss: 0.0232 - val_accuracy: 0.9345\n",
            "Epoch 396/400\n",
            "121/121 [==============================] - 1s 6ms/step - loss: 0.0144 - accuracy: 0.9677 - val_loss: 0.0229 - val_accuracy: 0.9403\n",
            "Epoch 397/400\n",
            "121/121 [==============================] - 1s 6ms/step - loss: 0.0142 - accuracy: 0.9669 - val_loss: 0.0239 - val_accuracy: 0.9364\n",
            "Epoch 398/400\n",
            "121/121 [==============================] - 1s 6ms/step - loss: 0.0154 - accuracy: 0.9603 - val_loss: 0.0243 - val_accuracy: 0.9345\n",
            "Epoch 399/400\n",
            "121/121 [==============================] - 1s 6ms/step - loss: 0.0146 - accuracy: 0.9644 - val_loss: 0.0244 - val_accuracy: 0.9287\n",
            "Epoch 400/400\n",
            "121/121 [==============================] - 1s 6ms/step - loss: 0.0143 - accuracy: 0.9661 - val_loss: 0.0221 - val_accuracy: 0.9403\n"
          ]
        }
      ],
      "source": [
        "historyP = modelP.fit(x_train,y_train1, validation_data=(x_test,y_test1), epochs=400, batch_size=10, shuffle=True, callbacks=[tensorboard_callbackP])"
      ]
    },
    {
      "cell_type": "code",
      "execution_count": null,
      "metadata": {
        "colab": {
          "base_uri": "https://localhost:8080/"
        },
        "id": "XFSS45FY2G3k",
        "outputId": "505dde4c-54dc-4520-eef6-61ae741fa0ff"
      },
      "outputs": [
        {
          "name": "stdout",
          "output_type": "stream",
          "text": [
            "[0.023187700659036636, 0.9402697682380676]\n"
          ]
        }
      ],
      "source": [
        "score = modelS.evaluate(x_test,y_test1, verbose=0)\n",
        "print(score)"
      ]
    },
    {
      "cell_type": "code",
      "execution_count": null,
      "metadata": {
        "colab": {
          "base_uri": "https://localhost:8080/"
        },
        "id": "dBYv6ULE2G3l",
        "outputId": "8b6e7c72-365a-4442-c1f5-07d6bb4d38b2"
      },
      "outputs": [
        {
          "data": {
            "image/png": "[encoded data removed]",
            "text/plain": [
              "<Figure size 432x288 with 1 Axes>"
            ]
          },
          "metadata": {
            "needs_background": "light"
          },
          "output_type": "display_data"
        },
        {
          "data": {
            "image/png": "[encoded data removed]",
            "text/plain": [
              "<Figure size 432x288 with 1 Axes>"
            ]
          },
          "metadata": {
            "needs_background": "light"
          },
          "output_type": "display_data"
        }
      ],
      "source": [
        "plt.figure()\n",
        "plt.plot(historyP.history['accuracy'], label='accuracy')\n",
        "plt.plot(historyP.history['val_accuracy'], label='val_accuracy')\n",
        "plt.title('Model accuracy')\n",
        "plt.xlabel('Epochs')\n",
        "plt.ylabel('Accuracy')\n",
        "plt.legend(loc = 'lower right')\n",
        "plt.show()\n",
        "\n",
        "plt.figure()\n",
        "plt.plot(historyS.history['loss'], label='loss')\n",
        "plt.plot(historyS.history['val_loss'], label='val_loss')\n",
        "plt.title('Model loss')\n",
        "plt.xlabel('Epochs')\n",
        "plt.ylabel('Loss')\n",
        "plt.legend(loc = 'upper right')\n",
        "plt.show()"
      ]
    },
    {
      "cell_type": "code",
      "execution_count": null,
      "metadata": {
        "colab": {
          "base_uri": "https://localhost:8080/"
        },
        "id": "z_-cEJV02G3l",
        "outputId": "79d7ef06-1afe-4375-e0ca-54aa8960ee0f"
      },
      "outputs": [
        {
          "name": "stdout",
          "output_type": "stream",
          "text": [
            "(519, 4)\n",
            "(519,)\n",
            "1\n"
          ]
        }
      ],
      "source": [
        "outputTestP = modelP.predict(x_test)\n",
        "print(outputTestP.shape)\n",
        "print(y_test.shape)\n",
        "print(y_test[0])"
      ]
    },
    {
      "cell_type": "code",
      "execution_count": null,
      "metadata": {
        "id": "9Kgwxl3s2G3l"
      },
      "outputs": [],
      "source": [
        "cmP = confusion_matrix(y_test,np.argmax(outputTestP,axis=1))"
      ]
    },
    {
      "cell_type": "code",
      "execution_count": null,
      "metadata": {
        "colab": {
          "base_uri": "https://localhost:8080/"
        },
        "id": "hW1bXTLY2G3m",
        "outputId": "7ffc2827-6bc1-4974-9b2d-16f7122025c5"
      },
      "outputs": [
        {
          "name": "stdout",
          "output_type": "stream",
          "text": [
            "[[359   2   0   0]\n",
            " [  8 104   3   2]\n",
            " [  0   5  11   9]\n",
            " [  0   1   1  14]]\n"
          ]
        }
      ],
      "source": [
        "print(cmP)"
      ]
    },
    {
      "cell_type": "code",
      "execution_count": null,
      "metadata": {
        "id": "spuTy2Ws2G3m"
      },
      "outputs": [],
      "source": [
        "def plot_confusion_matrix(cm, num_classes,normalize=False,title='Matrix de Confusion Profunda',cmap=plt.cm.Blues):\n",
        "      \n",
        "      import itertools\n",
        "      \n",
        "      classes = ['0', '1', '2','3']\n",
        "\n",
        "      plt.figure(figsize = (7,7))\n",
        "      plt.imshow(cm, interpolation='nearest', cmap=cmap)\n",
        "      plt.title(title)\n",
        "      plt.colorbar()\n",
        "      tick_marks = np.arange(len(classes))\n",
        "      plt.xticks(tick_marks, classes, rotation=90)\n",
        "      plt.yticks(tick_marks, classes)\n",
        "      if normalize:\n",
        "          cm = cm.astype('float') / cm.sum(axis=1)[:, np.newaxis]\n",
        "          cm = np.round(cm,3)\n",
        "      thresh = cm.max() / 2.\n",
        "      for i, j in itertools.product(range(cm.shape[0]), range(cm.shape[1])):\n",
        "          plt.text(j, i, cm[i, j],\n",
        "                   horizontalalignment=\"center\",\n",
        "                   color=\"black\" if cm[i, j] > thresh else \"black\")\n",
        "      plt.tight_layout()\n",
        "      plt.ylabel('Original')\n",
        "      plt.xlabel('Predicciones')"
      ]
    },
    {
      "cell_type": "code",
      "execution_count": null,
      "metadata": {
        "colab": {
          "base_uri": "https://localhost:8080/"
        },
        "id": "QDfRY_rN2G3m",
        "outputId": "9574d3bc-790c-4986-a447-342922083368"
      },
      "outputs": [
        {
          "data": {
            "image/png": "[encoded data removed]",
            "text/plain": [
              "<Figure size 504x504 with 2 Axes>"
            ]
          },
          "metadata": {
            "needs_background": "light"
          },
          "output_type": "display_data"
        }
      ],
      "source": [
        "plot_confusion_matrix(cmP, num_class)"
      ]
    },
    {
      "cell_type": "markdown",
      "metadata": {
        "id": "8wkGV4n7EQwl"
      },
      "source": [
        "#Punto 2\n",
        "\n",
        "En el siguiente enlace se resuelve el problema\n",
        "de clasificación de imágenes definido por el data set\n",
        "Cifar10 usando una red neuronal convolucional\n",
        "https://cs.stanford.edu/people/karpathy/convnetjs/demo/cifar10.html\n",
        "\n",
        "Entrene una red neuronal\n",
        "convolucional en Tensorflow-Keras que\n",
        "resuelva este problema"
      ]
    },
    {
      "cell_type": "code",
      "execution_count": null,
      "metadata": {
        "id": "pn5YeBiI2hz0"
      },
      "outputs": [],
      "source": [
        "from keras.models import Sequential\n",
        "from keras.layers import Conv2D\n",
        "from keras.layers import MaxPooling2D\n",
        "from keras.layers import Dense\n",
        "from keras.layers import Flatten\n",
        "from tensorflow.keras.layers import Dropout\n",
        "from tensorflow.keras.utils import plot_model\n",
        "from keras.utils import np_utils\n",
        "import numpy as np\n",
        "import matplotlib.pyplot as plt\n",
        "from tensorflow.keras.optimizers import SGD"
      ]
    },
    {
      "cell_type": "markdown",
      "metadata": {
        "id": "WKQmQ88n6kX6"
      },
      "source": [
        "##Load Data"
      ]
    },
    {
      "cell_type": "code",
      "execution_count": null,
      "metadata": {
        "id": "gfFLOjVa6nVv"
      },
      "outputs": [],
      "source": [
        "from keras.datasets import cifar10\n",
        "(x_traini, y_traini), (x_testi, y_testi) = cifar10.load_data()"
      ]
    },
    {
      "cell_type": "markdown",
      "metadata": {
        "id": "nTXD-WkLyHXM"
      },
      "source": [
        "##One hot encode"
      ]
    },
    {
      "cell_type": "code",
      "execution_count": null,
      "metadata": {
        "colab": {
          "base_uri": "https://localhost:8080/"
        },
        "id": "EnHlojOUyGVH",
        "outputId": "a0105f80-d856-4098-972f-e5cab9a3629c"
      },
      "outputs": [
        {
          "name": "stdout",
          "output_type": "stream",
          "text": [
            "(32, 32, 3)\n",
            "1\n"
          ]
        }
      ],
      "source": [
        "trainY=np_utils.to_categorical(y_traini)\n",
        "testY=np_utils.to_categorical(y_testi)\n",
        "\n",
        "num_class = y_traini.shape[1]\n",
        "input_shape = x_traini.shape[1:]\n",
        "print(input_shape)\n",
        "print(num_class)"
      ]
    },
    {
      "cell_type": "code",
      "execution_count": null,
      "metadata": {
        "id": "hsBMuSbBynK1"
      },
      "outputs": [],
      "source": [
        "def prep_pixels(train, test):\n",
        "\ttrain_norm = train.astype('float32')\n",
        "\ttest_norm = test.astype('float32')\n",
        " \n",
        "\ttrain_norm = train_norm / 255.0\n",
        "\ttest_norm = test_norm / 255.0\n",
        "  \n",
        "\treturn train_norm, test_norm\n",
        "\n",
        "trainX, testX = prep_pixels(x_traini, x_testi)"
      ]
    },
    {
      "cell_type": "markdown",
      "metadata": {
        "id": "fPmp11ynmuYB"
      },
      "source": [
        "##Modelo Convolucional"
      ]
    },
    {
      "cell_type": "code",
      "execution_count": null,
      "metadata": {
        "id": "7SFarWN53J9L"
      },
      "outputs": [],
      "source": [
        "def modelcn():\n",
        "  model = Sequential()\n",
        "  model.add(Conv2D(32, (3, 3), activation='relu', kernel_initializer='he_uniform', padding='same', input_shape=(32, 32, 3)))\n",
        "  model.add(Conv2D(32, (3, 3), activation='relu', kernel_initializer='he_uniform', padding='same'))\n",
        "  model.add(MaxPooling2D((2, 2)))\n",
        "  model.add(Dropout(0.2))\n",
        "\n",
        "  model.add(Conv2D(64, (3, 3), activation='relu', kernel_initializer='he_uniform', padding='same'))\n",
        "  model.add(Conv2D(64, (3, 3), activation='relu', kernel_initializer='he_uniform', padding='same'))\n",
        "  model.add(MaxPooling2D((2, 2)))\n",
        "  model.add(Dropout(0.2))\n",
        "\n",
        "  model.add(Flatten())\n",
        "\n",
        "  model.add(Dense(128, activation='relu', kernel_initializer='he_uniform'))\n",
        "  model.add(Dropout(0.2))\n",
        "  model.add(Dense(10, activation='softmax'))\n",
        "\n",
        "  model.summary()\n",
        "\n",
        "  opt = SGD(lr=0.01, momentum=0.9)\n",
        "\n",
        "  model.compile(optimizer=opt, loss='categorical_crossentropy', metrics=['accuracy'])\n",
        "\n",
        "  return model"
      ]
    },
    {
      "cell_type": "code",
      "execution_count": null,
      "metadata": {
        "colab": {
          "base_uri": "https://localhost:8080/",
          "height": 1000
        },
        "id": "i1LLmxoQzaYw",
        "outputId": "7f4e3059-ecfa-4314-e61f-cb400ad72ca8"
      },
      "outputs": [
        {
          "name": "stdout",
          "output_type": "stream",
          "text": [
            "Model: \"sequential_2\"\n",
            "_________________________________________________________________\n",
            " Layer (type)                Output Shape              Param #   \n",
            "=================================================================\n",
            " conv2d (Conv2D)             (None, 32, 32, 32)        896       \n",
            "                                                                 \n",
            " conv2d_1 (Conv2D)           (None, 32, 32, 32)        9248      \n",
            "                                                                 \n",
            " max_pooling2d (MaxPooling2D  (None, 16, 16, 32)       0         \n",
            " )                                                               \n",
            "                                                                 \n",
            " dropout (Dropout)           (None, 16, 16, 32)        0         \n",
            "                                                                 \n",
            " conv2d_2 (Conv2D)           (None, 16, 16, 64)        18496     \n",
            "                                                                 \n",
            " conv2d_3 (Conv2D)           (None, 16, 16, 64)        36928     \n",
            "                                                                 \n",
            " max_pooling2d_1 (MaxPooling  (None, 8, 8, 64)         0         \n",
            " 2D)                                                             \n",
            "                                                                 \n",
            " dropout_1 (Dropout)         (None, 8, 8, 64)          0         \n",
            "                                                                 \n",
            " flatten (Flatten)           (None, 4096)              0         \n",
            "                                                                 \n",
            " dense_7 (Dense)             (None, 128)               524416    \n",
            "                                                                 \n",
            " dropout_2 (Dropout)         (None, 128)               0         \n",
            "                                                                 \n",
            " dense_8 (Dense)             (None, 10)                1290      \n",
            "                                                                 \n",
            "=================================================================\n",
            "Total params: 591,274\n",
            "Trainable params: 591,274\n",
            "Non-trainable params: 0\n",
            "_________________________________________________________________\n"
          ]
        },
        {
          "name": "stderr",
          "output_type": "stream",
          "text": [
            "/usr/local/lib/python3.7/dist-packages/keras/optimizer_v2/gradient_descent.py:102: UserWarning: The `lr` argument is deprecated, use `learning_rate` instead.\n",
            "  super(SGD, self).__init__(name, **kwargs)\n"
          ]
        },
        {
          "data": {
            "image/jpeg": "[encoded data removed]",
            "text/plain": [
              "<IPython.core.display.Image object>"
            ]
          },
          "execution_count": 51,
          "metadata": {},
          "output_type": "execute_result"
        }
      ],
      "source": [
        "modelcn=modelcn()\n",
        "plot_model(modelcn, to_file='modelcn.jpg', show_shapes=True)"
      ]
    },
    {
      "cell_type": "code",
      "execution_count": null,
      "metadata": {
        "colab": {
          "base_uri": "https://localhost:8080/"
        },
        "id": "KI4KYDiQ6o0g",
        "outputId": "7203d32a-80d3-4d04-b57f-39ae164c0ac0"
      },
      "outputs": [
        {
          "name": "stdout",
          "output_type": "stream",
          "text": [
            "Epoch 1/20\n",
            "782/782 [==============================] - 16s 18ms/step - loss: 1.7278 - accuracy: 0.3715 - val_loss: 1.4137 - val_accuracy: 0.4948\n",
            "Epoch 2/20\n",
            "782/782 [==============================] - 14s 17ms/step - loss: 1.2801 - accuracy: 0.5393 - val_loss: 1.1004 - val_accuracy: 0.6054\n",
            "Epoch 3/20\n",
            "782/782 [==============================] - 13s 17ms/step - loss: 1.0798 - accuracy: 0.6170 - val_loss: 0.9523 - val_accuracy: 0.6626\n",
            "Epoch 4/20\n",
            "782/782 [==============================] - 13s 17ms/step - loss: 0.9480 - accuracy: 0.6656 - val_loss: 0.8668 - val_accuracy: 0.6998\n",
            "Epoch 5/20\n",
            "782/782 [==============================] - 14s 17ms/step - loss: 0.8632 - accuracy: 0.6965 - val_loss: 0.8135 - val_accuracy: 0.7158\n",
            "Epoch 6/20\n",
            "782/782 [==============================] - 14s 18ms/step - loss: 0.7955 - accuracy: 0.7198 - val_loss: 0.8103 - val_accuracy: 0.7190\n",
            "Epoch 7/20\n",
            "782/782 [==============================] - 15s 19ms/step - loss: 0.7420 - accuracy: 0.7377 - val_loss: 0.7694 - val_accuracy: 0.7336\n",
            "Epoch 8/20\n",
            "782/782 [==============================] - 17s 21ms/step - loss: 0.6912 - accuracy: 0.7559 - val_loss: 0.7228 - val_accuracy: 0.7496\n",
            "Epoch 9/20\n",
            "782/782 [==============================] - 13s 17ms/step - loss: 0.6546 - accuracy: 0.7673 - val_loss: 0.7742 - val_accuracy: 0.7363\n",
            "Epoch 10/20\n",
            "782/782 [==============================] - 14s 18ms/step - loss: 0.6185 - accuracy: 0.7801 - val_loss: 0.7129 - val_accuracy: 0.7581\n",
            "Epoch 11/20\n",
            "782/782 [==============================] - 14s 18ms/step - loss: 0.5877 - accuracy: 0.7913 - val_loss: 0.7074 - val_accuracy: 0.7606\n",
            "Epoch 12/20\n",
            "782/782 [==============================] - 14s 18ms/step - loss: 0.5543 - accuracy: 0.8031 - val_loss: 0.7369 - val_accuracy: 0.7516\n",
            "Epoch 13/20\n",
            "782/782 [==============================] - 13s 17ms/step - loss: 0.5253 - accuracy: 0.8134 - val_loss: 0.6902 - val_accuracy: 0.7710\n",
            "Epoch 14/20\n",
            "782/782 [==============================] - 14s 18ms/step - loss: 0.5075 - accuracy: 0.8183 - val_loss: 0.7198 - val_accuracy: 0.7552\n",
            "Epoch 15/20\n",
            "782/782 [==============================] - 14s 18ms/step - loss: 0.4801 - accuracy: 0.8305 - val_loss: 0.7222 - val_accuracy: 0.7610\n",
            "Epoch 16/20\n",
            "782/782 [==============================] - 14s 17ms/step - loss: 0.4643 - accuracy: 0.8345 - val_loss: 0.7230 - val_accuracy: 0.7662\n",
            "Epoch 17/20\n",
            "782/782 [==============================] - 14s 17ms/step - loss: 0.4513 - accuracy: 0.8376 - val_loss: 0.6935 - val_accuracy: 0.7772\n",
            "Epoch 18/20\n",
            "782/782 [==============================] - 14s 18ms/step - loss: 0.4314 - accuracy: 0.8470 - val_loss: 0.7360 - val_accuracy: 0.7737\n",
            "Epoch 19/20\n",
            "782/782 [==============================] - 14s 17ms/step - loss: 0.4143 - accuracy: 0.8523 - val_loss: 0.7231 - val_accuracy: 0.7717\n",
            "Epoch 20/20\n",
            "782/782 [==============================] - 14s 18ms/step - loss: 0.3990 - accuracy: 0.8569 - val_loss: 0.7398 - val_accuracy: 0.7680\n"
          ]
        }
      ],
      "source": [
        "historycn = modelcn.fit(trainX, trainY, epochs=20, batch_size=64, validation_data=(testX, testY), shuffle=True)"
      ]
    },
    {
      "cell_type": "code",
      "execution_count": null,
      "metadata": {
        "colab": {
          "base_uri": "https://localhost:8080/"
        },
        "id": "4FzeVklq-wzZ",
        "outputId": "28b9afc6-5450-4deb-ae3e-3683f57c6244"
      },
      "outputs": [
        {
          "name": "stdout",
          "output_type": "stream",
          "text": [
            "[0.7397588491439819, 0.7680000066757202]\n"
          ]
        }
      ],
      "source": [
        "scorecn = modelcn.evaluate(testX, testY, verbose=0)\n",
        "print(scorecn)"
      ]
    },
    {
      "cell_type": "code",
      "execution_count": null,
      "metadata": {
        "colab": {
          "base_uri": "https://localhost:8080/",
          "height": 573
        },
        "id": "iL1IWaR7-_wr",
        "outputId": "effcffc2-5655-4d07-d4e7-24d090679120"
      },
      "outputs": [
        {
          "data": {
            "image/png": "[encoded data removed]",
            "text/plain": [
              "<Figure size 432x288 with 1 Axes>"
            ]
          },
          "metadata": {
            "needs_background": "light"
          },
          "output_type": "display_data"
        },
        {
          "data": {
            "image/png": "[encoded data removed]",
            "text/plain": [
              "<Figure size 432x288 with 1 Axes>"
            ]
          },
          "metadata": {
            "needs_background": "light"
          },
          "output_type": "display_data"
        }
      ],
      "source": [
        "plt.figure()\n",
        "plt.plot(historycn.history['accuracy'], label='accuracy')\n",
        "plt.plot(historycn.history['val_accuracy'], label='val_accuracy')\n",
        "plt.title('Model accuracy')\n",
        "plt.xlabel('Epochs')\n",
        "plt.ylabel('Accuracy')\n",
        "plt.legend(loc = 'lower right')\n",
        "plt.show()\n",
        "\n",
        "plt.figure()\n",
        "plt.plot(historycn.history['loss'], label='loss')\n",
        "plt.plot(historycn.history['val_loss'], label='val_loss')\n",
        "plt.title('Model loss')\n",
        "plt.xlabel('Epochs')\n",
        "plt.ylabel('Loss')\n",
        "plt.legend(loc = 'upper right')\n",
        "plt.show()"
      ]
    },
    {
      "cell_type": "code",
      "execution_count": null,
      "metadata": {
        "id": "XI8jI6mZ_GF3"
      },
      "outputs": [],
      "source": [
        "from sklearn.metrics import confusion_matrix\n",
        "\n",
        "outputTestcn = modelcn.predict(testX)"
      ]
    },
    {
      "cell_type": "code",
      "execution_count": null,
      "metadata": {
        "colab": {
          "base_uri": "https://localhost:8080/"
        },
        "id": "sHbASxJV_PRy",
        "outputId": "6c9123b0-f7bf-405c-b524-8ef1398e2689"
      },
      "outputs": [
        {
          "name": "stdout",
          "output_type": "stream",
          "text": [
            "[[819  14  31  17  21   6  16  14  42  20]\n",
            " [  9 882   4   3   2   3  13   3  22  59]\n",
            " [ 64   5 576  42 119  76  70  27  10  11]\n",
            " [ 14  12  52 491  86 188  93  39  13  12]\n",
            " [ 10   2  26  29 789  35  40  61   8   0]\n",
            " [  9   4  25 126  43 703  29  48   6   7]\n",
            " [  4   4  21  20  59  16 868   2   4   2]\n",
            " [ 12   2  22  23  52  38  10 836   3   2]\n",
            " [ 59  13  10   8   5   4   8   3 872  18]\n",
            " [ 29  62   7  11   5   3   2  15  22 844]]\n"
          ]
        }
      ],
      "source": [
        "cmcn = confusion_matrix(np.argmax(testY, axis=1),np.argmax(outputTestcn, axis=1))\n",
        "print(cmcn)"
      ]
    },
    {
      "cell_type": "code",
      "execution_count": null,
      "metadata": {
        "id": "Ism6tZaOBsVI"
      },
      "outputs": [],
      "source": [
        "def plot_confusion_matrix(cm, num_classes,normalize=False,title='Matrix de Confusion',cmap=plt.cm.Greens):\n",
        "      \n",
        "      import itertools\n",
        "      \n",
        "      classes = ['avión', 'automóvil', 'pájaro','gato', 'ciervo', 'perro','rana', 'caballo', 'embarcación','camión']\n",
        "\n",
        "      plt.figure(figsize = (7,7))\n",
        "      plt.imshow(cm, interpolation='nearest', cmap=cmap)\n",
        "      plt.title(title)\n",
        "      plt.colorbar()\n",
        "      tick_marks = np.arange(len(classes))\n",
        "      plt.xticks(tick_marks, classes, rotation=90)\n",
        "      plt.yticks(tick_marks, classes)\n",
        "      if normalize:\n",
        "          cm = cm.astype('float') / cm.sum(axis=1)[:, np.newaxis]\n",
        "          cm = np.round(cm,2)\n",
        "      thresh = cm.max() / 2.\n",
        "      for i, j in itertools.product(range(cm.shape[0]), range(cm.shape[1])):\n",
        "          plt.text(j, i, cm[i, j],\n",
        "                   horizontalalignment=\"center\",\n",
        "                   color=\"white\" if cm[i, j] > thresh else \"black\")\n",
        "      plt.tight_layout()\n",
        "      plt.ylabel('Original')\n",
        "      plt.xlabel('Predicciones')"
      ]
    },
    {
      "cell_type": "code",
      "execution_count": null,
      "metadata": {
        "colab": {
          "base_uri": "https://localhost:8080/",
          "height": 503
        },
        "id": "k5TEYMrVE_6K",
        "outputId": "6f76d4fa-c896-4ade-c977-5e69671560d2"
      },
      "outputs": [
        {
          "data": {
            "image/png": "[encoded data removed]",
            "text/plain": [
              "<Figure size 504x504 with 2 Axes>"
            ]
          },
          "metadata": {
            "needs_background": "light"
          },
          "output_type": "display_data"
        }
      ],
      "source": [
        "plot_confusion_matrix(cmcn, num_class)"
      ]
    }
  ],
  "metadata": {
    "accelerator": "GPU",
    "colab": {
      "provenance": [],
      "toc_visible": true
    },
    "kernelspec": {
      "display_name": "Python 3 (ipykernel)",
      "language": "python",
      "name": "python3"
    },
    "language_info": {
      "codemirror_mode": {
        "name": "ipython",
        "version": 3
      },
      "file_extension": ".py",
      "mimetype": "text/x-python",
      "name": "python",
      "nbconvert_exporter": "python",
      "pygments_lexer": "ipython3",
      "version": "3.9.7"
    }
  },
  "nbformat": 4,
  "nbformat_minor": 0
}