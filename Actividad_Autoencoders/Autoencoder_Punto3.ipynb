{
  "nbformat": 4,
  "nbformat_minor": 0,
  "metadata": {
    "colab": {
      "provenance": [],
      "collapsed_sections": [
        "PzqsSp0R928L",
        "rZB7N2wl9DCx",
        "0yOqzad2FQZ5",
        "qOr_SD5oNH0k",
        "3eG55g8aQ8_G"
      ]
    },
    "kernelspec": {
      "name": "python3",
      "display_name": "Python 3"
    },
    "language_info": {
      "name": "python"
    },
    "accelerator": "GPU"
  },
  "cells": [
    {
      "cell_type": "markdown",
      "source": [
        "##Imports"
      ],
      "metadata": {
        "id": "PzqsSp0R928L"
      }
    },
    {
      "cell_type": "code",
      "source": [
        "from keras.datasets import mnist \n",
        "from keras.models import Model \n",
        "from keras.layers import Input, Dense \n",
        "from keras.utils import np_utils \n",
        "\n",
        "import numpy as np\n",
        "import tensorflow as tf\n",
        "from tensorflow.keras.utils import plot_model\n",
        "import matplotlib.pyplot as plt  "
      ],
      "metadata": {
        "id": "xPQ8n3cb88S_"
      },
      "execution_count": null,
      "outputs": []
    },
    {
      "cell_type": "markdown",
      "source": [
        "## Problema.\n",
        "\n",
        "Realice una aplicación de clasificación\n",
        "utilizando Autoencoders apilados usando la base de datos MNIST"
      ],
      "metadata": {
        "id": "A1JOrnae6zp_"
      }
    },
    {
      "cell_type": "markdown",
      "source": [
        "## Dataset MNIST"
      ],
      "metadata": {
        "id": "rZB7N2wl9DCx"
      }
    },
    {
      "cell_type": "code",
      "source": [
        "# Tamaño Dataset\n",
        "num_train = 60000\n",
        "num_test = 10000\n",
        "\n",
        "height, width, depth = 28, 28, 1\n",
        "num_classes = 10    #Números del 0 al 9"
      ],
      "metadata": {
        "id": "TW5cnEmb-l7H"
      },
      "execution_count": null,
      "outputs": []
    },
    {
      "cell_type": "code",
      "source": [
        "# cargar el dataset\n",
        "(x_train, y_train), (x_test, y_test) = mnist.load_data()\n"
      ],
      "metadata": {
        "id": "5aMGY-LW9Orw",
        "colab": {
          "base_uri": "https://localhost:8080/"
        },
        "outputId": "3a892137-80ea-4099-d130-f972ceeee999"
      },
      "execution_count": null,
      "outputs": [
        {
          "output_type": "stream",
          "name": "stdout",
          "text": [
            "Downloading data from https://storage.googleapis.com/tensorflow/tf-keras-datasets/mnist.npz\n",
            "11493376/11490434 [==============================] - 0s 0us/step\n",
            "11501568/11490434 [==============================] - 0s 0us/step\n"
          ]
        }
      ]
    },
    {
      "cell_type": "code",
      "source": [
        "plt.imshow(x_train[2],'gray')\n",
        "print(y_train[2])"
      ],
      "metadata": {
        "colab": {
          "base_uri": "https://localhost:8080/"
        },
        "id": "b49Q_LQG-rSF",
        "outputId": "d41eab12-e469-4774-d884-48a6e9e854c4"
      },
      "execution_count": null,
      "outputs": [
        {
          "output_type": "stream",
          "name": "stdout",
          "text": [
            "4\n"
          ]
        },
        {
          "output_type": "display_data",
          "data": {
            "text/plain": [
              "<Figure size 432x288 with 1 Axes>"
            ],
            "image/png": "[encoded data removed]"
          },
          "metadata": {
            "needs_background": "light"
          }
        }
      ]
    },
    {
      "cell_type": "code",
      "source": [
        "# Reshape Dataset\n",
        "x_train = x_train.reshape(num_train, height * width)\n",
        "x_test = x_test.reshape(num_test, height * width)\n",
        "x_train = x_train.astype('float32') \n",
        "x_test = x_test.astype('float32')"
      ],
      "metadata": {
        "id": "dVfGyStXCYcJ"
      },
      "execution_count": null,
      "outputs": []
    },
    {
      "cell_type": "code",
      "source": [
        "# Normalizar datos\n",
        "x_train = x_train / 255\n",
        "x_test = x_test / 255"
      ],
      "metadata": {
        "id": "9YRLsZiNGXHs"
      },
      "execution_count": null,
      "outputs": []
    },
    {
      "cell_type": "markdown",
      "source": [
        "##One-Hot Encoding Clases"
      ],
      "metadata": {
        "id": "7g1-tgmv-_T3"
      }
    },
    {
      "cell_type": "code",
      "source": [
        "y_train = np_utils.to_categorical(y_train)\n",
        "y_test = np_utils.to_categorical(y_test)\n",
        "\n",
        "num_class = y_train.shape[1]\n",
        "\n",
        "print(y_train.shape)\n",
        "print(y_test.shape)\n",
        "print(num_class)"
      ],
      "metadata": {
        "colab": {
          "base_uri": "https://localhost:8080/"
        },
        "id": "0n2HW-bcH1lk",
        "outputId": "c65e3a30-d4a7-4d30-e650-dd32508267ce"
      },
      "execution_count": null,
      "outputs": [
        {
          "output_type": "stream",
          "name": "stdout",
          "text": [
            "(60000, 10)\n",
            "(10000, 10)\n",
            "10\n"
          ]
        }
      ]
    },
    {
      "cell_type": "markdown",
      "source": [
        "##Autoencoder 1"
      ],
      "metadata": {
        "id": "0yOqzad2FQZ5"
      }
    },
    {
      "cell_type": "markdown",
      "source": [
        "### Estructura AutoEncoder1"
      ],
      "metadata": {
        "id": "BiJlsP0rEjkx"
      }
    },
    {
      "cell_type": "code",
      "source": [
        "num_ls1 = height * width//2\n",
        "\n",
        "input_img1 = Input(shape=(height * width,))    #Entrada de 28x28 = 784\n",
        "\n",
        "encoded1 = Dense(num_ls1, activation='relu')(input_img1)   #Capa de 784/2 = 392\n",
        "\n",
        "out1 = Dense(height * width, activation='sigmoid')(encoded1)    #Salida de 28x28 = 784"
      ],
      "metadata": {
        "id": "jBHfD1E4FT_p"
      },
      "execution_count": null,
      "outputs": []
    },
    {
      "cell_type": "code",
      "source": [
        "autoencoder1 = Model(input_img1,out1)\n",
        "autoencoder1.compile(optimizer='adam', loss='mse', metrics=['accuracy'])\n",
        "\n",
        "autoencoder1.summary()\n",
        "plot_model(autoencoder1, to_file='autoencoder1.jpg', show_shapes=True)"
      ],
      "metadata": {
        "colab": {
          "base_uri": "https://localhost:8080/",
          "height": 572
        },
        "id": "HSE0Wl0QMNF7",
        "outputId": "079358dd-22b7-4458-f443-25ef62f2ce50"
      },
      "execution_count": null,
      "outputs": [
        {
          "output_type": "stream",
          "name": "stdout",
          "text": [
            "Model: \"model\"\n",
            "_________________________________________________________________\n",
            " Layer (type)                Output Shape              Param #   \n",
            "=================================================================\n",
            " input_1 (InputLayer)        [(None, 784)]             0         \n",
            "                                                                 \n",
            " dense (Dense)               (None, 392)               307720    \n",
            "                                                                 \n",
            " dense_1 (Dense)             (None, 784)               308112    \n",
            "                                                                 \n",
            "=================================================================\n",
            "Total params: 615,832\n",
            "Trainable params: 615,832\n",
            "Non-trainable params: 0\n",
            "_________________________________________________________________\n"
          ]
        },
        {
          "output_type": "execute_result",
          "data": {
            "text/plain": [
              "<IPython.core.display.Image object>"
            ],
            "image/jpeg": "[encoded data removed]"
          },
          "metadata": {},
          "execution_count": 9
        }
      ]
    },
    {
      "cell_type": "markdown",
      "source": [
        "### Entrenamiento AutoEncoder1"
      ],
      "metadata": {
        "id": "SERAss_TEvCI"
      }
    },
    {
      "cell_type": "code",
      "source": [
        "history1 = autoencoder1.fit(x_train, x_train, \n",
        "                            validation_data=(x_test,x_test), \n",
        "                            epochs=50, batch_size=128, shuffle=True)"
      ],
      "metadata": {
        "colab": {
          "base_uri": "https://localhost:8080/"
        },
        "id": "KQCwWmMeMUN0",
        "outputId": "92c66cf4-a90d-451c-e664-205ec15e781a"
      },
      "execution_count": null,
      "outputs": [
        {
          "output_type": "stream",
          "name": "stdout",
          "text": [
            "Epoch 1/50\n",
            "469/469 [==============================] - 5s 4ms/step - loss: 0.0246 - accuracy: 0.0117 - val_loss: 0.0073 - val_accuracy: 0.0126\n",
            "Epoch 2/50\n",
            "469/469 [==============================] - 2s 4ms/step - loss: 0.0052 - accuracy: 0.0133 - val_loss: 0.0037 - val_accuracy: 0.0126\n",
            "Epoch 3/50\n",
            "469/469 [==============================] - 2s 4ms/step - loss: 0.0032 - accuracy: 0.0141 - val_loss: 0.0027 - val_accuracy: 0.0137\n",
            "Epoch 4/50\n",
            "469/469 [==============================] - 2s 4ms/step - loss: 0.0025 - accuracy: 0.0139 - val_loss: 0.0022 - val_accuracy: 0.0129\n",
            "Epoch 5/50\n",
            "469/469 [==============================] - 2s 4ms/step - loss: 0.0021 - accuracy: 0.0143 - val_loss: 0.0019 - val_accuracy: 0.0134\n",
            "Epoch 6/50\n",
            "469/469 [==============================] - 2s 4ms/step - loss: 0.0018 - accuracy: 0.0146 - val_loss: 0.0017 - val_accuracy: 0.0155\n",
            "Epoch 7/50\n",
            "469/469 [==============================] - 2s 4ms/step - loss: 0.0016 - accuracy: 0.0162 - val_loss: 0.0015 - val_accuracy: 0.0167\n",
            "Epoch 8/50\n",
            "469/469 [==============================] - 2s 4ms/step - loss: 0.0015 - accuracy: 0.0158 - val_loss: 0.0014 - val_accuracy: 0.0150\n",
            "Epoch 9/50\n",
            "469/469 [==============================] - 2s 4ms/step - loss: 0.0014 - accuracy: 0.0166 - val_loss: 0.0013 - val_accuracy: 0.0166\n",
            "Epoch 10/50\n",
            "469/469 [==============================] - 2s 4ms/step - loss: 0.0013 - accuracy: 0.0170 - val_loss: 0.0013 - val_accuracy: 0.0163\n",
            "Epoch 11/50\n",
            "469/469 [==============================] - 2s 4ms/step - loss: 0.0012 - accuracy: 0.0171 - val_loss: 0.0012 - val_accuracy: 0.0172\n",
            "Epoch 12/50\n",
            "469/469 [==============================] - 2s 4ms/step - loss: 0.0012 - accuracy: 0.0179 - val_loss: 0.0011 - val_accuracy: 0.0189\n",
            "Epoch 13/50\n",
            "469/469 [==============================] - 2s 5ms/step - loss: 0.0011 - accuracy: 0.0185 - val_loss: 0.0011 - val_accuracy: 0.0199\n",
            "Epoch 14/50\n",
            "469/469 [==============================] - 3s 7ms/step - loss: 0.0011 - accuracy: 0.0176 - val_loss: 0.0011 - val_accuracy: 0.0183\n",
            "Epoch 15/50\n",
            "469/469 [==============================] - 2s 5ms/step - loss: 0.0010 - accuracy: 0.0188 - val_loss: 0.0010 - val_accuracy: 0.0188\n",
            "Epoch 16/50\n",
            "469/469 [==============================] - 2s 4ms/step - loss: 9.9428e-04 - accuracy: 0.0185 - val_loss: 9.8087e-04 - val_accuracy: 0.0173\n",
            "Epoch 17/50\n",
            "469/469 [==============================] - 2s 4ms/step - loss: 9.7219e-04 - accuracy: 0.0189 - val_loss: 9.7041e-04 - val_accuracy: 0.0190\n",
            "Epoch 18/50\n",
            "469/469 [==============================] - 2s 4ms/step - loss: 9.4550e-04 - accuracy: 0.0193 - val_loss: 9.4062e-04 - val_accuracy: 0.0186\n",
            "Epoch 19/50\n",
            "469/469 [==============================] - 2s 4ms/step - loss: 9.2450e-04 - accuracy: 0.0196 - val_loss: 9.1760e-04 - val_accuracy: 0.0207\n",
            "Epoch 20/50\n",
            "469/469 [==============================] - 2s 4ms/step - loss: 9.0275e-04 - accuracy: 0.0192 - val_loss: 9.1523e-04 - val_accuracy: 0.0201\n",
            "Epoch 21/50\n",
            "469/469 [==============================] - 2s 4ms/step - loss: 8.9139e-04 - accuracy: 0.0193 - val_loss: 8.9250e-04 - val_accuracy: 0.0193\n",
            "Epoch 22/50\n",
            "469/469 [==============================] - 2s 4ms/step - loss: 8.7642e-04 - accuracy: 0.0205 - val_loss: 8.8122e-04 - val_accuracy: 0.0199\n",
            "Epoch 23/50\n",
            "469/469 [==============================] - 2s 4ms/step - loss: 8.6136e-04 - accuracy: 0.0209 - val_loss: 8.6338e-04 - val_accuracy: 0.0203\n",
            "Epoch 24/50\n",
            "469/469 [==============================] - 2s 5ms/step - loss: 8.3814e-04 - accuracy: 0.0204 - val_loss: 8.5729e-04 - val_accuracy: 0.0232\n",
            "Epoch 25/50\n",
            "469/469 [==============================] - 2s 4ms/step - loss: 8.1888e-04 - accuracy: 0.0209 - val_loss: 8.3854e-04 - val_accuracy: 0.0204\n",
            "Epoch 26/50\n",
            "469/469 [==============================] - 2s 4ms/step - loss: 8.1147e-04 - accuracy: 0.0210 - val_loss: 8.1732e-04 - val_accuracy: 0.0219\n",
            "Epoch 27/50\n",
            "469/469 [==============================] - 2s 4ms/step - loss: 7.9934e-04 - accuracy: 0.0215 - val_loss: 8.2246e-04 - val_accuracy: 0.0209\n",
            "Epoch 28/50\n",
            "469/469 [==============================] - 2s 5ms/step - loss: 7.8703e-04 - accuracy: 0.0219 - val_loss: 8.0807e-04 - val_accuracy: 0.0204\n",
            "Epoch 29/50\n",
            "469/469 [==============================] - 2s 5ms/step - loss: 7.7362e-04 - accuracy: 0.0219 - val_loss: 7.6668e-04 - val_accuracy: 0.0209\n",
            "Epoch 30/50\n",
            "469/469 [==============================] - 2s 4ms/step - loss: 7.4598e-04 - accuracy: 0.0229 - val_loss: 7.6307e-04 - val_accuracy: 0.0217\n",
            "Epoch 31/50\n",
            "469/469 [==============================] - 2s 4ms/step - loss: 7.3985e-04 - accuracy: 0.0233 - val_loss: 7.5993e-04 - val_accuracy: 0.0230\n",
            "Epoch 32/50\n",
            "469/469 [==============================] - 2s 4ms/step - loss: 7.3337e-04 - accuracy: 0.0228 - val_loss: 7.5445e-04 - val_accuracy: 0.0202\n",
            "Epoch 33/50\n",
            "469/469 [==============================] - 2s 4ms/step - loss: 7.2841e-04 - accuracy: 0.0225 - val_loss: 7.4263e-04 - val_accuracy: 0.0218\n",
            "Epoch 34/50\n",
            "469/469 [==============================] - 2s 4ms/step - loss: 7.2235e-04 - accuracy: 0.0235 - val_loss: 7.3121e-04 - val_accuracy: 0.0237\n",
            "Epoch 35/50\n",
            "469/469 [==============================] - 2s 4ms/step - loss: 7.1551e-04 - accuracy: 0.0233 - val_loss: 7.3577e-04 - val_accuracy: 0.0197\n",
            "Epoch 36/50\n",
            "469/469 [==============================] - 2s 4ms/step - loss: 7.0752e-04 - accuracy: 0.0233 - val_loss: 7.4338e-04 - val_accuracy: 0.0228\n",
            "Epoch 37/50\n",
            "469/469 [==============================] - 2s 4ms/step - loss: 7.0408e-04 - accuracy: 0.0228 - val_loss: 7.3717e-04 - val_accuracy: 0.0217\n",
            "Epoch 38/50\n",
            "469/469 [==============================] - 2s 4ms/step - loss: 7.0010e-04 - accuracy: 0.0233 - val_loss: 7.1985e-04 - val_accuracy: 0.0226\n",
            "Epoch 39/50\n",
            "469/469 [==============================] - 2s 4ms/step - loss: 6.8516e-04 - accuracy: 0.0235 - val_loss: 7.0448e-04 - val_accuracy: 0.0196\n",
            "Epoch 40/50\n",
            "469/469 [==============================] - 2s 4ms/step - loss: 6.7234e-04 - accuracy: 0.0240 - val_loss: 7.0152e-04 - val_accuracy: 0.0226\n",
            "Epoch 41/50\n",
            "469/469 [==============================] - 2s 4ms/step - loss: 6.6911e-04 - accuracy: 0.0239 - val_loss: 6.9299e-04 - val_accuracy: 0.0222\n",
            "Epoch 42/50\n",
            "469/469 [==============================] - 2s 4ms/step - loss: 6.6474e-04 - accuracy: 0.0239 - val_loss: 6.9621e-04 - val_accuracy: 0.0217\n",
            "Epoch 43/50\n",
            "469/469 [==============================] - 2s 4ms/step - loss: 6.6283e-04 - accuracy: 0.0238 - val_loss: 7.0151e-04 - val_accuracy: 0.0223\n",
            "Epoch 44/50\n",
            "469/469 [==============================] - 2s 4ms/step - loss: 6.5821e-04 - accuracy: 0.0233 - val_loss: 6.8737e-04 - val_accuracy: 0.0234\n",
            "Epoch 45/50\n",
            "469/469 [==============================] - 2s 5ms/step - loss: 6.5064e-04 - accuracy: 0.0231 - val_loss: 6.7967e-04 - val_accuracy: 0.0197\n",
            "Epoch 46/50\n",
            "469/469 [==============================] - 2s 5ms/step - loss: 6.4772e-04 - accuracy: 0.0239 - val_loss: 6.7478e-04 - val_accuracy: 0.0239\n",
            "Epoch 47/50\n",
            "469/469 [==============================] - 2s 4ms/step - loss: 6.4566e-04 - accuracy: 0.0237 - val_loss: 6.8475e-04 - val_accuracy: 0.0237\n",
            "Epoch 48/50\n",
            "469/469 [==============================] - 2s 4ms/step - loss: 6.4298e-04 - accuracy: 0.0241 - val_loss: 6.7337e-04 - val_accuracy: 0.0240\n",
            "Epoch 49/50\n",
            "469/469 [==============================] - 2s 4ms/step - loss: 6.3361e-04 - accuracy: 0.0247 - val_loss: 6.9093e-04 - val_accuracy: 0.0208\n",
            "Epoch 50/50\n",
            "469/469 [==============================] - 2s 4ms/step - loss: 6.2282e-04 - accuracy: 0.0244 - val_loss: 6.5410e-04 - val_accuracy: 0.0245\n"
          ]
        }
      ]
    },
    {
      "cell_type": "code",
      "source": [
        "encoder1 = Model(input_img1, encoded1)\n",
        "ls_coder1_train = encoder1.predict(x_train)\n",
        "ls_coder1_test = encoder1.predict(x_test)"
      ],
      "metadata": {
        "id": "R6o0e5myA6wl"
      },
      "execution_count": null,
      "outputs": []
    },
    {
      "cell_type": "markdown",
      "source": [
        "### Visualización Pérdida AutoEncoder3"
      ],
      "metadata": {
        "id": "IsFfjlyOLj6E"
      }
    },
    {
      "cell_type": "code",
      "source": [
        "plt.plot(history1.history['loss']), plt.plot(history1.history['val_loss']), plt.title('Modelo de Pérdida AutoEncoder 1'), plt.xlabel('epoch'), plt.ylabel('loss'), plt.legend(['train','test'], loc = 'upper right')\n",
        "plt.show()"
      ],
      "metadata": {
        "colab": {
          "base_uri": "https://localhost:8080/",
          "height": 295
        },
        "id": "sT-XX5YKA9_c",
        "outputId": "dd9f3df5-4205-4cbf-f905-f997506b82b7"
      },
      "execution_count": null,
      "outputs": [
        {
          "output_type": "display_data",
          "data": {
            "text/plain": [
              "<Figure size 432x288 with 1 Axes>"
            ],
            "image/png": "[encoded data removed]"
          },
          "metadata": {
            "needs_background": "light"
          }
        }
      ]
    },
    {
      "cell_type": "markdown",
      "source": [
        "##Autoencoder 2"
      ],
      "metadata": {
        "id": "qOr_SD5oNH0k"
      }
    },
    {
      "cell_type": "markdown",
      "source": [
        "### Estructura AutoEncoder2"
      ],
      "metadata": {
        "id": "dHbrepFFElxq"
      }
    },
    {
      "cell_type": "code",
      "source": [
        "num_ls2 = height * width//8\n",
        "\n",
        "input_img2 = Input(shape=(height * width//2,))    #Capa de 784/2 = 392\n",
        "\n",
        "encoded2 = Dense(num_ls2, activation='relu')(input_img2)   #Capa de 784/8 = 98\n",
        "\n",
        "out2 = Dense(height * width//2, activation='sigmoid')(encoded2)    #Salida de 784/2 = 392"
      ],
      "metadata": {
        "id": "kKujqRdhNH0k"
      },
      "execution_count": null,
      "outputs": []
    },
    {
      "cell_type": "code",
      "source": [
        "autoencoder2 = Model(input_img2, out2)\n",
        "autoencoder2.compile(optimizer='adam', loss='mse', metrics=['accuracy'])\n",
        "\n",
        "autoencoder2.summary()\n",
        "plot_model(autoencoder2, to_file='autoencoder2.jpg', show_shapes=True)"
      ],
      "metadata": {
        "colab": {
          "base_uri": "https://localhost:8080/",
          "height": 572
        },
        "outputId": "78e4379a-5f1b-43cc-f32e-9fbfc06cecf8",
        "id": "mCnNEEpuNH0l"
      },
      "execution_count": null,
      "outputs": [
        {
          "output_type": "stream",
          "name": "stdout",
          "text": [
            "Model: \"model_2\"\n",
            "_________________________________________________________________\n",
            " Layer (type)                Output Shape              Param #   \n",
            "=================================================================\n",
            " input_2 (InputLayer)        [(None, 392)]             0         \n",
            "                                                                 \n",
            " dense_2 (Dense)             (None, 98)                38514     \n",
            "                                                                 \n",
            " dense_3 (Dense)             (None, 392)               38808     \n",
            "                                                                 \n",
            "=================================================================\n",
            "Total params: 77,322\n",
            "Trainable params: 77,322\n",
            "Non-trainable params: 0\n",
            "_________________________________________________________________\n"
          ]
        },
        {
          "output_type": "execute_result",
          "data": {
            "text/plain": [
              "<IPython.core.display.Image object>"
            ],
            "image/jpeg": "[encoded data removed]"
          },
          "metadata": {},
          "execution_count": 15
        }
      ]
    },
    {
      "cell_type": "markdown",
      "source": [
        "### Entrenamiento AutoEncoder2"
      ],
      "metadata": {
        "id": "k9fLzdT7Exo1"
      }
    },
    {
      "cell_type": "code",
      "source": [
        "history2 = autoencoder2.fit(ls_coder1_train, ls_coder1_train, validation_data=(ls_coder1_test, ls_coder1_test), \n",
        "                            epochs=250, batch_size=128, shuffle=True)"
      ],
      "metadata": {
        "colab": {
          "base_uri": "https://localhost:8080/"
        },
        "outputId": "e6611eac-3c17-4d34-eee2-7e50fbe42d25",
        "id": "IvlIEiPLNH0l"
      },
      "execution_count": null,
      "outputs": [
        {
          "output_type": "stream",
          "name": "stdout",
          "text": [
            "Epoch 1/250\n",
            "469/469 [==============================] - 2s 3ms/step - loss: 1.0312 - accuracy: 0.0611 - val_loss: 1.0543 - val_accuracy: 0.0596\n",
            "Epoch 2/250\n",
            "469/469 [==============================] - 1s 3ms/step - loss: 1.0305 - accuracy: 0.0624 - val_loss: 1.0537 - val_accuracy: 0.0594\n",
            "Epoch 3/250\n",
            "469/469 [==============================] - 1s 3ms/step - loss: 1.0300 - accuracy: 0.0631 - val_loss: 1.0533 - val_accuracy: 0.0601\n",
            "Epoch 4/250\n",
            "469/469 [==============================] - 1s 3ms/step - loss: 1.0296 - accuracy: 0.0637 - val_loss: 1.0530 - val_accuracy: 0.0605\n",
            "Epoch 5/250\n",
            "469/469 [==============================] - 1s 3ms/step - loss: 1.0293 - accuracy: 0.0642 - val_loss: 1.0529 - val_accuracy: 0.0617\n",
            "Epoch 6/250\n",
            "469/469 [==============================] - 2s 4ms/step - loss: 1.0291 - accuracy: 0.0641 - val_loss: 1.0527 - val_accuracy: 0.0600\n",
            "Epoch 7/250\n",
            "469/469 [==============================] - 2s 3ms/step - loss: 1.0289 - accuracy: 0.0644 - val_loss: 1.0524 - val_accuracy: 0.0601\n",
            "Epoch 8/250\n",
            "469/469 [==============================] - 1s 3ms/step - loss: 1.0287 - accuracy: 0.0644 - val_loss: 1.0524 - val_accuracy: 0.0608\n",
            "Epoch 9/250\n",
            "469/469 [==============================] - 2s 3ms/step - loss: 1.0286 - accuracy: 0.0645 - val_loss: 1.0522 - val_accuracy: 0.0608\n",
            "Epoch 10/250\n",
            "469/469 [==============================] - 1s 3ms/step - loss: 1.0284 - accuracy: 0.0642 - val_loss: 1.0521 - val_accuracy: 0.0607\n",
            "Epoch 11/250\n",
            "469/469 [==============================] - 1s 3ms/step - loss: 1.0283 - accuracy: 0.0642 - val_loss: 1.0520 - val_accuracy: 0.0609\n",
            "Epoch 12/250\n",
            "469/469 [==============================] - 2s 3ms/step - loss: 1.0282 - accuracy: 0.0643 - val_loss: 1.0519 - val_accuracy: 0.0605\n",
            "Epoch 13/250\n",
            "469/469 [==============================] - 1s 3ms/step - loss: 1.0281 - accuracy: 0.0641 - val_loss: 1.0519 - val_accuracy: 0.0598\n",
            "Epoch 14/250\n",
            "469/469 [==============================] - 1s 3ms/step - loss: 1.0280 - accuracy: 0.0640 - val_loss: 1.0517 - val_accuracy: 0.0604\n",
            "Epoch 15/250\n",
            "469/469 [==============================] - 1s 3ms/step - loss: 1.0280 - accuracy: 0.0635 - val_loss: 1.0517 - val_accuracy: 0.0591\n",
            "Epoch 16/250\n",
            "469/469 [==============================] - 1s 3ms/step - loss: 1.0279 - accuracy: 0.0637 - val_loss: 1.0516 - val_accuracy: 0.0610\n",
            "Epoch 17/250\n",
            "469/469 [==============================] - 2s 4ms/step - loss: 1.0278 - accuracy: 0.0634 - val_loss: 1.0517 - val_accuracy: 0.0600\n",
            "Epoch 18/250\n",
            "469/469 [==============================] - 2s 5ms/step - loss: 1.0278 - accuracy: 0.0632 - val_loss: 1.0515 - val_accuracy: 0.0617\n",
            "Epoch 19/250\n",
            "469/469 [==============================] - 1s 3ms/step - loss: 1.0277 - accuracy: 0.0638 - val_loss: 1.0515 - val_accuracy: 0.0633\n",
            "Epoch 20/250\n",
            "469/469 [==============================] - 1s 3ms/step - loss: 1.0276 - accuracy: 0.0638 - val_loss: 1.0514 - val_accuracy: 0.0626\n",
            "Epoch 21/250\n",
            "469/469 [==============================] - 1s 3ms/step - loss: 1.0275 - accuracy: 0.0640 - val_loss: 1.0514 - val_accuracy: 0.0626\n",
            "Epoch 22/250\n",
            "469/469 [==============================] - 1s 3ms/step - loss: 1.0275 - accuracy: 0.0638 - val_loss: 1.0513 - val_accuracy: 0.0614\n",
            "Epoch 23/250\n",
            "469/469 [==============================] - 1s 3ms/step - loss: 1.0274 - accuracy: 0.0638 - val_loss: 1.0513 - val_accuracy: 0.0615\n",
            "Epoch 24/250\n",
            "469/469 [==============================] - 1s 3ms/step - loss: 1.0274 - accuracy: 0.0639 - val_loss: 1.0512 - val_accuracy: 0.0626\n",
            "Epoch 25/250\n",
            "469/469 [==============================] - 2s 3ms/step - loss: 1.0273 - accuracy: 0.0631 - val_loss: 1.0512 - val_accuracy: 0.0644\n",
            "Epoch 26/250\n",
            "469/469 [==============================] - 2s 3ms/step - loss: 1.0273 - accuracy: 0.0631 - val_loss: 1.0511 - val_accuracy: 0.0631\n",
            "Epoch 27/250\n",
            "469/469 [==============================] - 1s 3ms/step - loss: 1.0273 - accuracy: 0.0636 - val_loss: 1.0511 - val_accuracy: 0.0639\n",
            "Epoch 28/250\n",
            "469/469 [==============================] - 2s 4ms/step - loss: 1.0272 - accuracy: 0.0636 - val_loss: 1.0511 - val_accuracy: 0.0631\n",
            "Epoch 29/250\n",
            "469/469 [==============================] - 1s 3ms/step - loss: 1.0272 - accuracy: 0.0639 - val_loss: 1.0511 - val_accuracy: 0.0640\n",
            "Epoch 30/250\n",
            "469/469 [==============================] - 2s 3ms/step - loss: 1.0272 - accuracy: 0.0635 - val_loss: 1.0510 - val_accuracy: 0.0629\n",
            "Epoch 31/250\n",
            "469/469 [==============================] - 2s 3ms/step - loss: 1.0271 - accuracy: 0.0638 - val_loss: 1.0509 - val_accuracy: 0.0633\n",
            "Epoch 32/250\n",
            "469/469 [==============================] - 1s 3ms/step - loss: 1.0271 - accuracy: 0.0638 - val_loss: 1.0509 - val_accuracy: 0.0630\n",
            "Epoch 33/250\n",
            "469/469 [==============================] - 2s 3ms/step - loss: 1.0271 - accuracy: 0.0640 - val_loss: 1.0509 - val_accuracy: 0.0623\n",
            "Epoch 34/250\n",
            "469/469 [==============================] - 1s 3ms/step - loss: 1.0270 - accuracy: 0.0637 - val_loss: 1.0509 - val_accuracy: 0.0631\n",
            "Epoch 35/250\n",
            "469/469 [==============================] - 2s 3ms/step - loss: 1.0270 - accuracy: 0.0638 - val_loss: 1.0509 - val_accuracy: 0.0625\n",
            "Epoch 36/250\n",
            "469/469 [==============================] - 1s 3ms/step - loss: 1.0270 - accuracy: 0.0638 - val_loss: 1.0509 - val_accuracy: 0.0627\n",
            "Epoch 37/250\n",
            "469/469 [==============================] - 1s 3ms/step - loss: 1.0270 - accuracy: 0.0642 - val_loss: 1.0509 - val_accuracy: 0.0631\n",
            "Epoch 38/250\n",
            "469/469 [==============================] - 1s 3ms/step - loss: 1.0269 - accuracy: 0.0643 - val_loss: 1.0509 - val_accuracy: 0.0633\n",
            "Epoch 39/250\n",
            "469/469 [==============================] - 1s 3ms/step - loss: 1.0269 - accuracy: 0.0642 - val_loss: 1.0507 - val_accuracy: 0.0629\n",
            "Epoch 40/250\n",
            "469/469 [==============================] - 1s 3ms/step - loss: 1.0269 - accuracy: 0.0647 - val_loss: 1.0508 - val_accuracy: 0.0638\n",
            "Epoch 41/250\n",
            "469/469 [==============================] - 2s 3ms/step - loss: 1.0269 - accuracy: 0.0645 - val_loss: 1.0508 - val_accuracy: 0.0644\n",
            "Epoch 42/250\n",
            "469/469 [==============================] - 2s 3ms/step - loss: 1.0269 - accuracy: 0.0643 - val_loss: 1.0508 - val_accuracy: 0.0637\n",
            "Epoch 43/250\n",
            "469/469 [==============================] - 2s 3ms/step - loss: 1.0268 - accuracy: 0.0645 - val_loss: 1.0507 - val_accuracy: 0.0644\n",
            "Epoch 44/250\n",
            "469/469 [==============================] - 2s 4ms/step - loss: 1.0268 - accuracy: 0.0645 - val_loss: 1.0507 - val_accuracy: 0.0617\n",
            "Epoch 45/250\n",
            "469/469 [==============================] - 1s 3ms/step - loss: 1.0268 - accuracy: 0.0645 - val_loss: 1.0506 - val_accuracy: 0.0638\n",
            "Epoch 46/250\n",
            "469/469 [==============================] - 1s 3ms/step - loss: 1.0268 - accuracy: 0.0648 - val_loss: 1.0507 - val_accuracy: 0.0645\n",
            "Epoch 47/250\n",
            "469/469 [==============================] - 1s 3ms/step - loss: 1.0268 - accuracy: 0.0647 - val_loss: 1.0507 - val_accuracy: 0.0639\n",
            "Epoch 48/250\n",
            "469/469 [==============================] - 2s 3ms/step - loss: 1.0268 - accuracy: 0.0647 - val_loss: 1.0507 - val_accuracy: 0.0635\n",
            "Epoch 49/250\n",
            "469/469 [==============================] - 1s 3ms/step - loss: 1.0268 - accuracy: 0.0650 - val_loss: 1.0507 - val_accuracy: 0.0640\n",
            "Epoch 50/250\n",
            "469/469 [==============================] - 2s 4ms/step - loss: 1.0268 - accuracy: 0.0651 - val_loss: 1.0507 - val_accuracy: 0.0632\n",
            "Epoch 51/250\n",
            "469/469 [==============================] - 1s 3ms/step - loss: 1.0267 - accuracy: 0.0650 - val_loss: 1.0507 - val_accuracy: 0.0637\n",
            "Epoch 52/250\n",
            "469/469 [==============================] - 2s 4ms/step - loss: 1.0267 - accuracy: 0.0649 - val_loss: 1.0506 - val_accuracy: 0.0623\n",
            "Epoch 53/250\n",
            "469/469 [==============================] - 1s 3ms/step - loss: 1.0267 - accuracy: 0.0650 - val_loss: 1.0506 - val_accuracy: 0.0637\n",
            "Epoch 54/250\n",
            "469/469 [==============================] - 1s 3ms/step - loss: 1.0267 - accuracy: 0.0650 - val_loss: 1.0506 - val_accuracy: 0.0652\n",
            "Epoch 55/250\n",
            "469/469 [==============================] - 1s 3ms/step - loss: 1.0266 - accuracy: 0.0651 - val_loss: 1.0506 - val_accuracy: 0.0647\n",
            "Epoch 56/250\n",
            "469/469 [==============================] - 1s 3ms/step - loss: 1.0266 - accuracy: 0.0650 - val_loss: 1.0504 - val_accuracy: 0.0644\n",
            "Epoch 57/250\n",
            "469/469 [==============================] - 1s 3ms/step - loss: 1.0266 - accuracy: 0.0648 - val_loss: 1.0505 - val_accuracy: 0.0653\n",
            "Epoch 58/250\n",
            "469/469 [==============================] - 2s 4ms/step - loss: 1.0265 - accuracy: 0.0652 - val_loss: 1.0505 - val_accuracy: 0.0634\n",
            "Epoch 59/250\n",
            "469/469 [==============================] - 1s 3ms/step - loss: 1.0265 - accuracy: 0.0650 - val_loss: 1.0505 - val_accuracy: 0.0639\n",
            "Epoch 60/250\n",
            "469/469 [==============================] - 1s 3ms/step - loss: 1.0265 - accuracy: 0.0652 - val_loss: 1.0504 - val_accuracy: 0.0630\n",
            "Epoch 61/250\n",
            "469/469 [==============================] - 1s 3ms/step - loss: 1.0265 - accuracy: 0.0652 - val_loss: 1.0504 - val_accuracy: 0.0647\n",
            "Epoch 62/250\n",
            "469/469 [==============================] - 1s 3ms/step - loss: 1.0265 - accuracy: 0.0653 - val_loss: 1.0503 - val_accuracy: 0.0642\n",
            "Epoch 63/250\n",
            "469/469 [==============================] - 1s 3ms/step - loss: 1.0265 - accuracy: 0.0652 - val_loss: 1.0503 - val_accuracy: 0.0631\n",
            "Epoch 64/250\n",
            "469/469 [==============================] - 1s 3ms/step - loss: 1.0264 - accuracy: 0.0650 - val_loss: 1.0504 - val_accuracy: 0.0641\n",
            "Epoch 65/250\n",
            "469/469 [==============================] - 1s 3ms/step - loss: 1.0264 - accuracy: 0.0649 - val_loss: 1.0504 - val_accuracy: 0.0651\n",
            "Epoch 66/250\n",
            "469/469 [==============================] - 1s 3ms/step - loss: 1.0264 - accuracy: 0.0650 - val_loss: 1.0503 - val_accuracy: 0.0639\n",
            "Epoch 67/250\n",
            "469/469 [==============================] - 2s 3ms/step - loss: 1.0264 - accuracy: 0.0653 - val_loss: 1.0504 - val_accuracy: 0.0634\n",
            "Epoch 68/250\n",
            "469/469 [==============================] - 1s 3ms/step - loss: 1.0264 - accuracy: 0.0653 - val_loss: 1.0504 - val_accuracy: 0.0655\n",
            "Epoch 69/250\n",
            "469/469 [==============================] - 1s 3ms/step - loss: 1.0264 - accuracy: 0.0651 - val_loss: 1.0503 - val_accuracy: 0.0627\n",
            "Epoch 70/250\n",
            "469/469 [==============================] - 1s 3ms/step - loss: 1.0264 - accuracy: 0.0653 - val_loss: 1.0503 - val_accuracy: 0.0629\n",
            "Epoch 71/250\n",
            "469/469 [==============================] - 1s 3ms/step - loss: 1.0264 - accuracy: 0.0652 - val_loss: 1.0503 - val_accuracy: 0.0642\n",
            "Epoch 72/250\n",
            "469/469 [==============================] - 1s 3ms/step - loss: 1.0264 - accuracy: 0.0652 - val_loss: 1.0503 - val_accuracy: 0.0640\n",
            "Epoch 73/250\n",
            "469/469 [==============================] - 1s 3ms/step - loss: 1.0264 - accuracy: 0.0650 - val_loss: 1.0502 - val_accuracy: 0.0633\n",
            "Epoch 74/250\n",
            "469/469 [==============================] - 1s 3ms/step - loss: 1.0263 - accuracy: 0.0652 - val_loss: 1.0504 - val_accuracy: 0.0644\n",
            "Epoch 75/250\n",
            "469/469 [==============================] - 1s 3ms/step - loss: 1.0263 - accuracy: 0.0650 - val_loss: 1.0503 - val_accuracy: 0.0656\n",
            "Epoch 76/250\n",
            "469/469 [==============================] - 2s 4ms/step - loss: 1.0263 - accuracy: 0.0652 - val_loss: 1.0503 - val_accuracy: 0.0627\n",
            "Epoch 77/250\n",
            "469/469 [==============================] - 2s 4ms/step - loss: 1.0263 - accuracy: 0.0652 - val_loss: 1.0502 - val_accuracy: 0.0639\n",
            "Epoch 78/250\n",
            "469/469 [==============================] - 1s 3ms/step - loss: 1.0263 - accuracy: 0.0652 - val_loss: 1.0503 - val_accuracy: 0.0643\n",
            "Epoch 79/250\n",
            "469/469 [==============================] - 1s 3ms/step - loss: 1.0263 - accuracy: 0.0650 - val_loss: 1.0503 - val_accuracy: 0.0639\n",
            "Epoch 80/250\n",
            "469/469 [==============================] - 1s 3ms/step - loss: 1.0263 - accuracy: 0.0651 - val_loss: 1.0503 - val_accuracy: 0.0627\n",
            "Epoch 81/250\n",
            "469/469 [==============================] - 1s 3ms/step - loss: 1.0263 - accuracy: 0.0654 - val_loss: 1.0503 - val_accuracy: 0.0637\n",
            "Epoch 82/250\n",
            "469/469 [==============================] - 1s 3ms/step - loss: 1.0263 - accuracy: 0.0650 - val_loss: 1.0503 - val_accuracy: 0.0632\n",
            "Epoch 83/250\n",
            "469/469 [==============================] - 1s 3ms/step - loss: 1.0263 - accuracy: 0.0652 - val_loss: 1.0503 - val_accuracy: 0.0627\n",
            "Epoch 84/250\n",
            "469/469 [==============================] - 2s 3ms/step - loss: 1.0263 - accuracy: 0.0651 - val_loss: 1.0503 - val_accuracy: 0.0647\n",
            "Epoch 85/250\n",
            "469/469 [==============================] - 1s 3ms/step - loss: 1.0263 - accuracy: 0.0650 - val_loss: 1.0503 - val_accuracy: 0.0654\n",
            "Epoch 86/250\n",
            "469/469 [==============================] - 1s 3ms/step - loss: 1.0263 - accuracy: 0.0650 - val_loss: 1.0503 - val_accuracy: 0.0631\n",
            "Epoch 87/250\n",
            "469/469 [==============================] - 1s 3ms/step - loss: 1.0263 - accuracy: 0.0646 - val_loss: 1.0502 - val_accuracy: 0.0648\n",
            "Epoch 88/250\n",
            "469/469 [==============================] - 1s 3ms/step - loss: 1.0263 - accuracy: 0.0652 - val_loss: 1.0501 - val_accuracy: 0.0624\n",
            "Epoch 89/250\n",
            "469/469 [==============================] - 2s 4ms/step - loss: 1.0263 - accuracy: 0.0649 - val_loss: 1.0502 - val_accuracy: 0.0630\n",
            "Epoch 90/250\n",
            "469/469 [==============================] - 2s 3ms/step - loss: 1.0263 - accuracy: 0.0650 - val_loss: 1.0503 - val_accuracy: 0.0639\n",
            "Epoch 91/250\n",
            "469/469 [==============================] - 2s 4ms/step - loss: 1.0262 - accuracy: 0.0649 - val_loss: 1.0502 - val_accuracy: 0.0647\n",
            "Epoch 92/250\n",
            "469/469 [==============================] - 2s 3ms/step - loss: 1.0262 - accuracy: 0.0652 - val_loss: 1.0502 - val_accuracy: 0.0619\n",
            "Epoch 93/250\n",
            "469/469 [==============================] - 1s 3ms/step - loss: 1.0262 - accuracy: 0.0647 - val_loss: 1.0502 - val_accuracy: 0.0637\n",
            "Epoch 94/250\n",
            "469/469 [==============================] - 1s 3ms/step - loss: 1.0262 - accuracy: 0.0650 - val_loss: 1.0502 - val_accuracy: 0.0635\n",
            "Epoch 95/250\n",
            "469/469 [==============================] - 1s 3ms/step - loss: 1.0262 - accuracy: 0.0652 - val_loss: 1.0502 - val_accuracy: 0.0639\n",
            "Epoch 96/250\n",
            "469/469 [==============================] - 1s 3ms/step - loss: 1.0262 - accuracy: 0.0650 - val_loss: 1.0502 - val_accuracy: 0.0633\n",
            "Epoch 97/250\n",
            "469/469 [==============================] - 1s 3ms/step - loss: 1.0262 - accuracy: 0.0649 - val_loss: 1.0501 - val_accuracy: 0.0627\n",
            "Epoch 98/250\n",
            "469/469 [==============================] - 2s 4ms/step - loss: 1.0262 - accuracy: 0.0650 - val_loss: 1.0502 - val_accuracy: 0.0630\n",
            "Epoch 99/250\n",
            "469/469 [==============================] - 1s 3ms/step - loss: 1.0262 - accuracy: 0.0652 - val_loss: 1.0502 - val_accuracy: 0.0635\n",
            "Epoch 100/250\n",
            "469/469 [==============================] - 2s 3ms/step - loss: 1.0262 - accuracy: 0.0651 - val_loss: 1.0502 - val_accuracy: 0.0633\n",
            "Epoch 101/250\n",
            "469/469 [==============================] - 2s 3ms/step - loss: 1.0262 - accuracy: 0.0650 - val_loss: 1.0502 - val_accuracy: 0.0623\n",
            "Epoch 102/250\n",
            "469/469 [==============================] - 2s 4ms/step - loss: 1.0262 - accuracy: 0.0649 - val_loss: 1.0501 - val_accuracy: 0.0636\n",
            "Epoch 103/250\n",
            "469/469 [==============================] - 2s 3ms/step - loss: 1.0262 - accuracy: 0.0652 - val_loss: 1.0501 - val_accuracy: 0.0625\n",
            "Epoch 104/250\n",
            "469/469 [==============================] - 2s 3ms/step - loss: 1.0262 - accuracy: 0.0651 - val_loss: 1.0501 - val_accuracy: 0.0626\n",
            "Epoch 105/250\n",
            "469/469 [==============================] - 2s 4ms/step - loss: 1.0262 - accuracy: 0.0652 - val_loss: 1.0502 - val_accuracy: 0.0639\n",
            "Epoch 106/250\n",
            "469/469 [==============================] - 2s 3ms/step - loss: 1.0262 - accuracy: 0.0649 - val_loss: 1.0501 - val_accuracy: 0.0636\n",
            "Epoch 107/250\n",
            "469/469 [==============================] - 2s 3ms/step - loss: 1.0262 - accuracy: 0.0650 - val_loss: 1.0501 - val_accuracy: 0.0643\n",
            "Epoch 108/250\n",
            "469/469 [==============================] - 2s 3ms/step - loss: 1.0262 - accuracy: 0.0651 - val_loss: 1.0502 - val_accuracy: 0.0631\n",
            "Epoch 109/250\n",
            "469/469 [==============================] - 2s 3ms/step - loss: 1.0262 - accuracy: 0.0652 - val_loss: 1.0502 - val_accuracy: 0.0628\n",
            "Epoch 110/250\n",
            "469/469 [==============================] - 2s 3ms/step - loss: 1.0262 - accuracy: 0.0652 - val_loss: 1.0501 - val_accuracy: 0.0647\n",
            "Epoch 111/250\n",
            "469/469 [==============================] - 2s 4ms/step - loss: 1.0262 - accuracy: 0.0651 - val_loss: 1.0501 - val_accuracy: 0.0627\n",
            "Epoch 112/250\n",
            "469/469 [==============================] - 2s 3ms/step - loss: 1.0262 - accuracy: 0.0651 - val_loss: 1.0501 - val_accuracy: 0.0631\n",
            "Epoch 113/250\n",
            "469/469 [==============================] - 2s 3ms/step - loss: 1.0261 - accuracy: 0.0653 - val_loss: 1.0502 - val_accuracy: 0.0635\n",
            "Epoch 114/250\n",
            "469/469 [==============================] - 2s 3ms/step - loss: 1.0261 - accuracy: 0.0653 - val_loss: 1.0501 - val_accuracy: 0.0640\n",
            "Epoch 115/250\n",
            "469/469 [==============================] - 2s 3ms/step - loss: 1.0261 - accuracy: 0.0653 - val_loss: 1.0501 - val_accuracy: 0.0633\n",
            "Epoch 116/250\n",
            "469/469 [==============================] - 2s 4ms/step - loss: 1.0261 - accuracy: 0.0654 - val_loss: 1.0501 - val_accuracy: 0.0625\n",
            "Epoch 117/250\n",
            "469/469 [==============================] - 2s 3ms/step - loss: 1.0261 - accuracy: 0.0651 - val_loss: 1.0501 - val_accuracy: 0.0628\n",
            "Epoch 118/250\n",
            "469/469 [==============================] - 2s 3ms/step - loss: 1.0261 - accuracy: 0.0651 - val_loss: 1.0501 - val_accuracy: 0.0635\n",
            "Epoch 119/250\n",
            "469/469 [==============================] - 1s 3ms/step - loss: 1.0261 - accuracy: 0.0655 - val_loss: 1.0501 - val_accuracy: 0.0630\n",
            "Epoch 120/250\n",
            "469/469 [==============================] - 1s 3ms/step - loss: 1.0261 - accuracy: 0.0651 - val_loss: 1.0502 - val_accuracy: 0.0601\n",
            "Epoch 121/250\n",
            "469/469 [==============================] - 1s 3ms/step - loss: 1.0261 - accuracy: 0.0651 - val_loss: 1.0501 - val_accuracy: 0.0634\n",
            "Epoch 122/250\n",
            "469/469 [==============================] - 1s 3ms/step - loss: 1.0261 - accuracy: 0.0651 - val_loss: 1.0500 - val_accuracy: 0.0655\n",
            "Epoch 123/250\n",
            "469/469 [==============================] - 1s 3ms/step - loss: 1.0261 - accuracy: 0.0653 - val_loss: 1.0501 - val_accuracy: 0.0626\n",
            "Epoch 124/250\n",
            "469/469 [==============================] - 2s 3ms/step - loss: 1.0261 - accuracy: 0.0656 - val_loss: 1.0501 - val_accuracy: 0.0610\n",
            "Epoch 125/250\n",
            "469/469 [==============================] - 1s 3ms/step - loss: 1.0261 - accuracy: 0.0652 - val_loss: 1.0501 - val_accuracy: 0.0623\n",
            "Epoch 126/250\n",
            "469/469 [==============================] - 1s 3ms/step - loss: 1.0261 - accuracy: 0.0656 - val_loss: 1.0502 - val_accuracy: 0.0641\n",
            "Epoch 127/250\n",
            "469/469 [==============================] - 2s 4ms/step - loss: 1.0261 - accuracy: 0.0652 - val_loss: 1.0501 - val_accuracy: 0.0631\n",
            "Epoch 128/250\n",
            "469/469 [==============================] - 2s 3ms/step - loss: 1.0261 - accuracy: 0.0654 - val_loss: 1.0501 - val_accuracy: 0.0629\n",
            "Epoch 129/250\n",
            "469/469 [==============================] - 2s 4ms/step - loss: 1.0261 - accuracy: 0.0654 - val_loss: 1.0501 - val_accuracy: 0.0651\n",
            "Epoch 130/250\n",
            "469/469 [==============================] - 2s 3ms/step - loss: 1.0261 - accuracy: 0.0654 - val_loss: 1.0501 - val_accuracy: 0.0629\n",
            "Epoch 131/250\n",
            "469/469 [==============================] - 2s 3ms/step - loss: 1.0261 - accuracy: 0.0653 - val_loss: 1.0501 - val_accuracy: 0.0639\n",
            "Epoch 132/250\n",
            "469/469 [==============================] - 1s 3ms/step - loss: 1.0261 - accuracy: 0.0654 - val_loss: 1.0500 - val_accuracy: 0.0618\n",
            "Epoch 133/250\n",
            "469/469 [==============================] - 2s 3ms/step - loss: 1.0261 - accuracy: 0.0655 - val_loss: 1.0500 - val_accuracy: 0.0632\n",
            "Epoch 134/250\n",
            "469/469 [==============================] - 2s 3ms/step - loss: 1.0261 - accuracy: 0.0654 - val_loss: 1.0501 - val_accuracy: 0.0631\n",
            "Epoch 135/250\n",
            "469/469 [==============================] - 1s 3ms/step - loss: 1.0261 - accuracy: 0.0657 - val_loss: 1.0500 - val_accuracy: 0.0619\n",
            "Epoch 136/250\n",
            "469/469 [==============================] - 2s 3ms/step - loss: 1.0261 - accuracy: 0.0653 - val_loss: 1.0501 - val_accuracy: 0.0631\n",
            "Epoch 137/250\n",
            "469/469 [==============================] - 1s 3ms/step - loss: 1.0261 - accuracy: 0.0654 - val_loss: 1.0501 - val_accuracy: 0.0634\n",
            "Epoch 138/250\n",
            "469/469 [==============================] - 1s 3ms/step - loss: 1.0261 - accuracy: 0.0653 - val_loss: 1.0501 - val_accuracy: 0.0635\n",
            "Epoch 139/250\n",
            "469/469 [==============================] - 1s 3ms/step - loss: 1.0261 - accuracy: 0.0656 - val_loss: 1.0500 - val_accuracy: 0.0647\n",
            "Epoch 140/250\n",
            "469/469 [==============================] - 1s 3ms/step - loss: 1.0261 - accuracy: 0.0655 - val_loss: 1.0500 - val_accuracy: 0.0640\n",
            "Epoch 141/250\n",
            "469/469 [==============================] - 2s 3ms/step - loss: 1.0261 - accuracy: 0.0657 - val_loss: 1.0500 - val_accuracy: 0.0635\n",
            "Epoch 142/250\n",
            "469/469 [==============================] - 2s 3ms/step - loss: 1.0261 - accuracy: 0.0658 - val_loss: 1.0501 - val_accuracy: 0.0632\n",
            "Epoch 143/250\n",
            "469/469 [==============================] - 2s 3ms/step - loss: 1.0261 - accuracy: 0.0654 - val_loss: 1.0501 - val_accuracy: 0.0650\n",
            "Epoch 144/250\n",
            "469/469 [==============================] - 2s 4ms/step - loss: 1.0261 - accuracy: 0.0656 - val_loss: 1.0501 - val_accuracy: 0.0649\n",
            "Epoch 145/250\n",
            "469/469 [==============================] - 2s 3ms/step - loss: 1.0261 - accuracy: 0.0656 - val_loss: 1.0500 - val_accuracy: 0.0646\n",
            "Epoch 146/250\n",
            "469/469 [==============================] - 2s 4ms/step - loss: 1.0261 - accuracy: 0.0657 - val_loss: 1.0500 - val_accuracy: 0.0644\n",
            "Epoch 147/250\n",
            "469/469 [==============================] - 1s 3ms/step - loss: 1.0261 - accuracy: 0.0655 - val_loss: 1.0500 - val_accuracy: 0.0631\n",
            "Epoch 148/250\n",
            "469/469 [==============================] - 2s 3ms/step - loss: 1.0261 - accuracy: 0.0657 - val_loss: 1.0501 - val_accuracy: 0.0620\n",
            "Epoch 149/250\n",
            "469/469 [==============================] - 2s 3ms/step - loss: 1.0261 - accuracy: 0.0654 - val_loss: 1.0501 - val_accuracy: 0.0634\n",
            "Epoch 150/250\n",
            "469/469 [==============================] - 2s 3ms/step - loss: 1.0261 - accuracy: 0.0655 - val_loss: 1.0500 - val_accuracy: 0.0621\n",
            "Epoch 151/250\n",
            "469/469 [==============================] - 2s 3ms/step - loss: 1.0261 - accuracy: 0.0655 - val_loss: 1.0501 - val_accuracy: 0.0640\n",
            "Epoch 152/250\n",
            "469/469 [==============================] - 2s 3ms/step - loss: 1.0260 - accuracy: 0.0655 - val_loss: 1.0500 - val_accuracy: 0.0642\n",
            "Epoch 153/250\n",
            "469/469 [==============================] - 2s 3ms/step - loss: 1.0260 - accuracy: 0.0655 - val_loss: 1.0500 - val_accuracy: 0.0642\n",
            "Epoch 154/250\n",
            "469/469 [==============================] - 2s 3ms/step - loss: 1.0260 - accuracy: 0.0654 - val_loss: 1.0501 - val_accuracy: 0.0627\n",
            "Epoch 155/250\n",
            "469/469 [==============================] - 1s 3ms/step - loss: 1.0260 - accuracy: 0.0654 - val_loss: 1.0500 - val_accuracy: 0.0638\n",
            "Epoch 156/250\n",
            "469/469 [==============================] - 2s 3ms/step - loss: 1.0260 - accuracy: 0.0657 - val_loss: 1.0500 - val_accuracy: 0.0640\n",
            "Epoch 157/250\n",
            "469/469 [==============================] - 1s 3ms/step - loss: 1.0260 - accuracy: 0.0656 - val_loss: 1.0500 - val_accuracy: 0.0639\n",
            "Epoch 158/250\n",
            "469/469 [==============================] - 2s 3ms/step - loss: 1.0260 - accuracy: 0.0655 - val_loss: 1.0501 - val_accuracy: 0.0644\n",
            "Epoch 159/250\n",
            "469/469 [==============================] - 1s 3ms/step - loss: 1.0260 - accuracy: 0.0657 - val_loss: 1.0500 - val_accuracy: 0.0640\n",
            "Epoch 160/250\n",
            "469/469 [==============================] - 1s 3ms/step - loss: 1.0260 - accuracy: 0.0656 - val_loss: 1.0500 - val_accuracy: 0.0630\n",
            "Epoch 161/250\n",
            "469/469 [==============================] - 2s 3ms/step - loss: 1.0260 - accuracy: 0.0658 - val_loss: 1.0500 - val_accuracy: 0.0643\n",
            "Epoch 162/250\n",
            "469/469 [==============================] - 2s 3ms/step - loss: 1.0260 - accuracy: 0.0658 - val_loss: 1.0500 - val_accuracy: 0.0631\n",
            "Epoch 163/250\n",
            "469/469 [==============================] - 2s 4ms/step - loss: 1.0260 - accuracy: 0.0658 - val_loss: 1.0501 - val_accuracy: 0.0630\n",
            "Epoch 164/250\n",
            "469/469 [==============================] - 2s 3ms/step - loss: 1.0260 - accuracy: 0.0656 - val_loss: 1.0500 - val_accuracy: 0.0644\n",
            "Epoch 165/250\n",
            "469/469 [==============================] - 1s 3ms/step - loss: 1.0260 - accuracy: 0.0657 - val_loss: 1.0500 - val_accuracy: 0.0624\n",
            "Epoch 166/250\n",
            "469/469 [==============================] - 2s 3ms/step - loss: 1.0260 - accuracy: 0.0655 - val_loss: 1.0500 - val_accuracy: 0.0608\n",
            "Epoch 167/250\n",
            "469/469 [==============================] - 1s 3ms/step - loss: 1.0260 - accuracy: 0.0657 - val_loss: 1.0500 - val_accuracy: 0.0630\n",
            "Epoch 168/250\n",
            "469/469 [==============================] - 1s 3ms/step - loss: 1.0260 - accuracy: 0.0657 - val_loss: 1.0501 - val_accuracy: 0.0618\n",
            "Epoch 169/250\n",
            "469/469 [==============================] - 1s 3ms/step - loss: 1.0260 - accuracy: 0.0657 - val_loss: 1.0500 - val_accuracy: 0.0638\n",
            "Epoch 170/250\n",
            "469/469 [==============================] - 2s 3ms/step - loss: 1.0260 - accuracy: 0.0654 - val_loss: 1.0500 - val_accuracy: 0.0641\n",
            "Epoch 171/250\n",
            "469/469 [==============================] - 2s 3ms/step - loss: 1.0260 - accuracy: 0.0657 - val_loss: 1.0500 - val_accuracy: 0.0633\n",
            "Epoch 172/250\n",
            "469/469 [==============================] - 1s 3ms/step - loss: 1.0260 - accuracy: 0.0656 - val_loss: 1.0500 - val_accuracy: 0.0655\n",
            "Epoch 173/250\n",
            "469/469 [==============================] - 2s 4ms/step - loss: 1.0259 - accuracy: 0.0658 - val_loss: 1.0500 - val_accuracy: 0.0634\n",
            "Epoch 174/250\n",
            "469/469 [==============================] - 1s 3ms/step - loss: 1.0259 - accuracy: 0.0657 - val_loss: 1.0499 - val_accuracy: 0.0648\n",
            "Epoch 175/250\n",
            "469/469 [==============================] - 1s 3ms/step - loss: 1.0259 - accuracy: 0.0656 - val_loss: 1.0499 - val_accuracy: 0.0644\n",
            "Epoch 176/250\n",
            "469/469 [==============================] - 1s 3ms/step - loss: 1.0259 - accuracy: 0.0659 - val_loss: 1.0498 - val_accuracy: 0.0643\n",
            "Epoch 177/250\n",
            "469/469 [==============================] - 2s 3ms/step - loss: 1.0259 - accuracy: 0.0654 - val_loss: 1.0499 - val_accuracy: 0.0646\n",
            "Epoch 178/250\n",
            "469/469 [==============================] - 1s 3ms/step - loss: 1.0259 - accuracy: 0.0656 - val_loss: 1.0499 - val_accuracy: 0.0648\n",
            "Epoch 179/250\n",
            "469/469 [==============================] - 1s 3ms/step - loss: 1.0259 - accuracy: 0.0658 - val_loss: 1.0498 - val_accuracy: 0.0638\n",
            "Epoch 180/250\n",
            "469/469 [==============================] - 2s 3ms/step - loss: 1.0259 - accuracy: 0.0655 - val_loss: 1.0499 - val_accuracy: 0.0638\n",
            "Epoch 181/250\n",
            "469/469 [==============================] - 1s 3ms/step - loss: 1.0258 - accuracy: 0.0659 - val_loss: 1.0498 - val_accuracy: 0.0655\n",
            "Epoch 182/250\n",
            "469/469 [==============================] - 2s 3ms/step - loss: 1.0258 - accuracy: 0.0655 - val_loss: 1.0499 - val_accuracy: 0.0619\n",
            "Epoch 183/250\n",
            "469/469 [==============================] - 2s 3ms/step - loss: 1.0258 - accuracy: 0.0655 - val_loss: 1.0498 - val_accuracy: 0.0637\n",
            "Epoch 184/250\n",
            "469/469 [==============================] - 2s 3ms/step - loss: 1.0258 - accuracy: 0.0657 - val_loss: 1.0499 - val_accuracy: 0.0641\n",
            "Epoch 185/250\n",
            "469/469 [==============================] - 2s 3ms/step - loss: 1.0258 - accuracy: 0.0657 - val_loss: 1.0499 - val_accuracy: 0.0635\n",
            "Epoch 186/250\n",
            "469/469 [==============================] - 2s 3ms/step - loss: 1.0258 - accuracy: 0.0655 - val_loss: 1.0498 - val_accuracy: 0.0647\n",
            "Epoch 187/250\n",
            "469/469 [==============================] - 1s 3ms/step - loss: 1.0258 - accuracy: 0.0657 - val_loss: 1.0498 - val_accuracy: 0.0629\n",
            "Epoch 188/250\n",
            "469/469 [==============================] - 2s 3ms/step - loss: 1.0258 - accuracy: 0.0659 - val_loss: 1.0498 - val_accuracy: 0.0646\n",
            "Epoch 189/250\n",
            "469/469 [==============================] - 2s 4ms/step - loss: 1.0258 - accuracy: 0.0657 - val_loss: 1.0498 - val_accuracy: 0.0636\n",
            "Epoch 190/250\n",
            "469/469 [==============================] - 2s 3ms/step - loss: 1.0258 - accuracy: 0.0652 - val_loss: 1.0498 - val_accuracy: 0.0629\n",
            "Epoch 191/250\n",
            "469/469 [==============================] - 2s 3ms/step - loss: 1.0258 - accuracy: 0.0654 - val_loss: 1.0498 - val_accuracy: 0.0632\n",
            "Epoch 192/250\n",
            "469/469 [==============================] - 1s 3ms/step - loss: 1.0258 - accuracy: 0.0654 - val_loss: 1.0498 - val_accuracy: 0.0639\n",
            "Epoch 193/250\n",
            "469/469 [==============================] - 1s 3ms/step - loss: 1.0258 - accuracy: 0.0656 - val_loss: 1.0498 - val_accuracy: 0.0636\n",
            "Epoch 194/250\n",
            "469/469 [==============================] - 1s 3ms/step - loss: 1.0258 - accuracy: 0.0654 - val_loss: 1.0498 - val_accuracy: 0.0635\n",
            "Epoch 195/250\n",
            "469/469 [==============================] - 1s 3ms/step - loss: 1.0258 - accuracy: 0.0656 - val_loss: 1.0497 - val_accuracy: 0.0640\n",
            "Epoch 196/250\n",
            "469/469 [==============================] - 1s 3ms/step - loss: 1.0258 - accuracy: 0.0655 - val_loss: 1.0498 - val_accuracy: 0.0644\n",
            "Epoch 197/250\n",
            "469/469 [==============================] - 1s 3ms/step - loss: 1.0258 - accuracy: 0.0657 - val_loss: 1.0498 - val_accuracy: 0.0642\n",
            "Epoch 198/250\n",
            "469/469 [==============================] - 2s 4ms/step - loss: 1.0258 - accuracy: 0.0658 - val_loss: 1.0498 - val_accuracy: 0.0641\n",
            "Epoch 199/250\n",
            "469/469 [==============================] - 1s 3ms/step - loss: 1.0257 - accuracy: 0.0657 - val_loss: 1.0498 - val_accuracy: 0.0647\n",
            "Epoch 200/250\n",
            "469/469 [==============================] - 1s 3ms/step - loss: 1.0258 - accuracy: 0.0654 - val_loss: 1.0497 - val_accuracy: 0.0635\n",
            "Epoch 201/250\n",
            "469/469 [==============================] - 1s 3ms/step - loss: 1.0257 - accuracy: 0.0655 - val_loss: 1.0497 - val_accuracy: 0.0613\n",
            "Epoch 202/250\n",
            "469/469 [==============================] - 1s 3ms/step - loss: 1.0257 - accuracy: 0.0655 - val_loss: 1.0497 - val_accuracy: 0.0638\n",
            "Epoch 203/250\n",
            "469/469 [==============================] - 2s 3ms/step - loss: 1.0257 - accuracy: 0.0658 - val_loss: 1.0498 - val_accuracy: 0.0644\n",
            "Epoch 204/250\n",
            "469/469 [==============================] - 2s 3ms/step - loss: 1.0257 - accuracy: 0.0658 - val_loss: 1.0498 - val_accuracy: 0.0630\n",
            "Epoch 205/250\n",
            "469/469 [==============================] - 2s 3ms/step - loss: 1.0257 - accuracy: 0.0656 - val_loss: 1.0497 - val_accuracy: 0.0629\n",
            "Epoch 206/250\n",
            "469/469 [==============================] - 2s 3ms/step - loss: 1.0257 - accuracy: 0.0654 - val_loss: 1.0497 - val_accuracy: 0.0631\n",
            "Epoch 207/250\n",
            "469/469 [==============================] - 2s 3ms/step - loss: 1.0257 - accuracy: 0.0655 - val_loss: 1.0498 - val_accuracy: 0.0626\n",
            "Epoch 208/250\n",
            "469/469 [==============================] - 1s 3ms/step - loss: 1.0257 - accuracy: 0.0659 - val_loss: 1.0497 - val_accuracy: 0.0638\n",
            "Epoch 209/250\n",
            "469/469 [==============================] - 2s 3ms/step - loss: 1.0257 - accuracy: 0.0658 - val_loss: 1.0497 - val_accuracy: 0.0653\n",
            "Epoch 210/250\n",
            "469/469 [==============================] - 2s 3ms/step - loss: 1.0257 - accuracy: 0.0654 - val_loss: 1.0497 - val_accuracy: 0.0618\n",
            "Epoch 211/250\n",
            "469/469 [==============================] - 2s 3ms/step - loss: 1.0257 - accuracy: 0.0659 - val_loss: 1.0497 - val_accuracy: 0.0631\n",
            "Epoch 212/250\n",
            "469/469 [==============================] - 2s 3ms/step - loss: 1.0257 - accuracy: 0.0657 - val_loss: 1.0497 - val_accuracy: 0.0637\n",
            "Epoch 213/250\n",
            "469/469 [==============================] - 2s 3ms/step - loss: 1.0257 - accuracy: 0.0658 - val_loss: 1.0497 - val_accuracy: 0.0610\n",
            "Epoch 214/250\n",
            "469/469 [==============================] - 1s 3ms/step - loss: 1.0257 - accuracy: 0.0659 - val_loss: 1.0498 - val_accuracy: 0.0641\n",
            "Epoch 215/250\n",
            "469/469 [==============================] - 2s 3ms/step - loss: 1.0257 - accuracy: 0.0658 - val_loss: 1.0497 - val_accuracy: 0.0639\n",
            "Epoch 216/250\n",
            "469/469 [==============================] - 1s 3ms/step - loss: 1.0257 - accuracy: 0.0656 - val_loss: 1.0496 - val_accuracy: 0.0640\n",
            "Epoch 217/250\n",
            "469/469 [==============================] - 2s 3ms/step - loss: 1.0257 - accuracy: 0.0657 - val_loss: 1.0498 - val_accuracy: 0.0623\n",
            "Epoch 218/250\n",
            "469/469 [==============================] - 2s 3ms/step - loss: 1.0257 - accuracy: 0.0659 - val_loss: 1.0497 - val_accuracy: 0.0644\n",
            "Epoch 219/250\n",
            "469/469 [==============================] - 1s 3ms/step - loss: 1.0257 - accuracy: 0.0656 - val_loss: 1.0497 - val_accuracy: 0.0650\n",
            "Epoch 220/250\n",
            "469/469 [==============================] - 1s 3ms/step - loss: 1.0257 - accuracy: 0.0657 - val_loss: 1.0497 - val_accuracy: 0.0640\n",
            "Epoch 221/250\n",
            "469/469 [==============================] - 1s 3ms/step - loss: 1.0257 - accuracy: 0.0656 - val_loss: 1.0497 - val_accuracy: 0.0642\n",
            "Epoch 222/250\n",
            "469/469 [==============================] - 1s 3ms/step - loss: 1.0257 - accuracy: 0.0655 - val_loss: 1.0498 - val_accuracy: 0.0639\n",
            "Epoch 223/250\n",
            "469/469 [==============================] - 1s 3ms/step - loss: 1.0257 - accuracy: 0.0657 - val_loss: 1.0497 - val_accuracy: 0.0647\n",
            "Epoch 224/250\n",
            "469/469 [==============================] - 2s 3ms/step - loss: 1.0257 - accuracy: 0.0658 - val_loss: 1.0497 - val_accuracy: 0.0641\n",
            "Epoch 225/250\n",
            "469/469 [==============================] - 1s 3ms/step - loss: 1.0257 - accuracy: 0.0656 - val_loss: 1.0496 - val_accuracy: 0.0646\n",
            "Epoch 226/250\n",
            "469/469 [==============================] - 1s 3ms/step - loss: 1.0257 - accuracy: 0.0656 - val_loss: 1.0497 - val_accuracy: 0.0645\n",
            "Epoch 227/250\n",
            "469/469 [==============================] - 1s 3ms/step - loss: 1.0257 - accuracy: 0.0657 - val_loss: 1.0496 - val_accuracy: 0.0638\n",
            "Epoch 228/250\n",
            "469/469 [==============================] - 1s 3ms/step - loss: 1.0256 - accuracy: 0.0661 - val_loss: 1.0497 - val_accuracy: 0.0637\n",
            "Epoch 229/250\n",
            "469/469 [==============================] - 1s 3ms/step - loss: 1.0257 - accuracy: 0.0660 - val_loss: 1.0497 - val_accuracy: 0.0642\n",
            "Epoch 230/250\n",
            "469/469 [==============================] - 2s 4ms/step - loss: 1.0257 - accuracy: 0.0661 - val_loss: 1.0496 - val_accuracy: 0.0651\n",
            "Epoch 231/250\n",
            "469/469 [==============================] - 2s 3ms/step - loss: 1.0256 - accuracy: 0.0659 - val_loss: 1.0496 - val_accuracy: 0.0648\n",
            "Epoch 232/250\n",
            "469/469 [==============================] - 2s 3ms/step - loss: 1.0257 - accuracy: 0.0658 - val_loss: 1.0497 - val_accuracy: 0.0632\n",
            "Epoch 233/250\n",
            "469/469 [==============================] - 2s 4ms/step - loss: 1.0256 - accuracy: 0.0657 - val_loss: 1.0496 - val_accuracy: 0.0646\n",
            "Epoch 234/250\n",
            "469/469 [==============================] - 2s 3ms/step - loss: 1.0256 - accuracy: 0.0660 - val_loss: 1.0496 - val_accuracy: 0.0655\n",
            "Epoch 235/250\n",
            "469/469 [==============================] - 2s 4ms/step - loss: 1.0257 - accuracy: 0.0660 - val_loss: 1.0496 - val_accuracy: 0.0648\n",
            "Epoch 236/250\n",
            "469/469 [==============================] - 2s 3ms/step - loss: 1.0256 - accuracy: 0.0659 - val_loss: 1.0497 - val_accuracy: 0.0643\n",
            "Epoch 237/250\n",
            "469/469 [==============================] - 2s 3ms/step - loss: 1.0256 - accuracy: 0.0658 - val_loss: 1.0496 - val_accuracy: 0.0631\n",
            "Epoch 238/250\n",
            "469/469 [==============================] - 1s 3ms/step - loss: 1.0256 - accuracy: 0.0659 - val_loss: 1.0496 - val_accuracy: 0.0636\n",
            "Epoch 239/250\n",
            "469/469 [==============================] - 1s 3ms/step - loss: 1.0256 - accuracy: 0.0657 - val_loss: 1.0496 - val_accuracy: 0.0651\n",
            "Epoch 240/250\n",
            "469/469 [==============================] - 1s 3ms/step - loss: 1.0257 - accuracy: 0.0658 - val_loss: 1.0497 - val_accuracy: 0.0648\n",
            "Epoch 241/250\n",
            "469/469 [==============================] - 2s 4ms/step - loss: 1.0256 - accuracy: 0.0656 - val_loss: 1.0497 - val_accuracy: 0.0639\n",
            "Epoch 242/250\n",
            "469/469 [==============================] - 1s 3ms/step - loss: 1.0256 - accuracy: 0.0662 - val_loss: 1.0497 - val_accuracy: 0.0646\n",
            "Epoch 243/250\n",
            "469/469 [==============================] - 2s 3ms/step - loss: 1.0256 - accuracy: 0.0663 - val_loss: 1.0497 - val_accuracy: 0.0630\n",
            "Epoch 244/250\n",
            "469/469 [==============================] - 2s 4ms/step - loss: 1.0256 - accuracy: 0.0660 - val_loss: 1.0496 - val_accuracy: 0.0644\n",
            "Epoch 245/250\n",
            "469/469 [==============================] - 1s 3ms/step - loss: 1.0256 - accuracy: 0.0659 - val_loss: 1.0496 - val_accuracy: 0.0651\n",
            "Epoch 246/250\n",
            "469/469 [==============================] - 1s 3ms/step - loss: 1.0256 - accuracy: 0.0659 - val_loss: 1.0496 - val_accuracy: 0.0643\n",
            "Epoch 247/250\n",
            "469/469 [==============================] - 2s 3ms/step - loss: 1.0256 - accuracy: 0.0658 - val_loss: 1.0496 - val_accuracy: 0.0644\n",
            "Epoch 248/250\n",
            "469/469 [==============================] - 1s 3ms/step - loss: 1.0256 - accuracy: 0.0663 - val_loss: 1.0496 - val_accuracy: 0.0641\n",
            "Epoch 249/250\n",
            "469/469 [==============================] - 2s 3ms/step - loss: 1.0256 - accuracy: 0.0658 - val_loss: 1.0496 - val_accuracy: 0.0649\n",
            "Epoch 250/250\n",
            "469/469 [==============================] - 2s 4ms/step - loss: 1.0256 - accuracy: 0.0658 - val_loss: 1.0496 - val_accuracy: 0.0653\n"
          ]
        }
      ]
    },
    {
      "cell_type": "code",
      "source": [
        "encoder2 = Model(input_img2,encoded2)\n",
        "ls_coder2_train = encoder2.predict(ls_coder1_train)\n",
        "ls_coder2_test = encoder2.predict(ls_coder1_test)"
      ],
      "metadata": {
        "id": "UUXY6t67DCWX"
      },
      "execution_count": null,
      "outputs": []
    },
    {
      "cell_type": "code",
      "source": [
        "plt.plot(history2.history['loss']), plt.plot(history2.history['val_loss']), plt.title('Modelo de Pérdida AutoEncoder 2'), plt.xlabel('epoch'), plt.ylabel('loss'), plt.legend(['train','test'], loc = 'upper right')\n",
        "plt.show()"
      ],
      "metadata": {
        "colab": {
          "base_uri": "https://localhost:8080/",
          "height": 295
        },
        "id": "l14aiOfHDCNt",
        "outputId": "123ac636-54e5-44da-8eef-b758ef1a3e82"
      },
      "execution_count": null,
      "outputs": [
        {
          "output_type": "display_data",
          "data": {
            "text/plain": [
              "<Figure size 432x288 with 1 Axes>"
            ],
            "image/png": "[encoded data removed]"
          },
          "metadata": {
            "needs_background": "light"
          }
        }
      ]
    },
    {
      "cell_type": "markdown",
      "source": [
        "##Capa Clasificadora"
      ],
      "metadata": {
        "id": "JtSoO3ClWazo"
      }
    },
    {
      "cell_type": "markdown",
      "source": [
        "### Estructura Etapa Clasificadora"
      ],
      "metadata": {
        "id": "lAJ3zBZ8L3rg"
      }
    },
    {
      "cell_type": "code",
      "source": [
        "input_imgc = Input(shape=(98))\n",
        "\n",
        "class_layer = Dense(num_classes, activation='softmax')(input_imgc)   "
      ],
      "metadata": {
        "id": "iRtKj2Y8J7Kb"
      },
      "execution_count": null,
      "outputs": []
    },
    {
      "cell_type": "code",
      "source": [
        "class_model = Model(input_imgc, class_layer)   #Modelo completo del clasificador\n",
        "\n",
        "class_model.compile(optimizer='adam', loss='mse', metrics=['accuracy'])"
      ],
      "metadata": {
        "id": "k3Md-wayKQpw"
      },
      "execution_count": null,
      "outputs": []
    },
    {
      "cell_type": "code",
      "source": [
        "class_model.summary()\n",
        "plot_model(class_model, to_file='Clasificador.png', show_shapes=True)"
      ],
      "metadata": {
        "colab": {
          "base_uri": "https://localhost:8080/",
          "height": 427
        },
        "id": "48DrqSmwRgO5",
        "outputId": "5ac3dbe1-bb50-4cb8-a37e-c6ebdf270c99"
      },
      "execution_count": null,
      "outputs": [
        {
          "output_type": "stream",
          "name": "stdout",
          "text": [
            "Model: \"model_4\"\n",
            "_________________________________________________________________\n",
            " Layer (type)                Output Shape              Param #   \n",
            "=================================================================\n",
            " input_3 (InputLayer)        [(None, 98)]              0         \n",
            "                                                                 \n",
            " dense_4 (Dense)             (None, 10)                990       \n",
            "                                                                 \n",
            "=================================================================\n",
            "Total params: 990\n",
            "Trainable params: 990\n",
            "Non-trainable params: 0\n",
            "_________________________________________________________________\n"
          ]
        },
        {
          "output_type": "execute_result",
          "data": {
            "text/plain": [
              "<IPython.core.display.Image object>"
            ],
            "image/png": "[encoded data removed]"
          },
          "metadata": {},
          "execution_count": 22
        }
      ]
    },
    {
      "cell_type": "markdown",
      "source": [
        "###Entrenamiento Etapa Clasificadora"
      ],
      "metadata": {
        "id": "XbuNuIk_KxMy"
      }
    },
    {
      "cell_type": "code",
      "source": [
        "historyc = class_model.fit(ls_coder2_train, y_train,\n",
        "      epochs = 200,\n",
        "      batch_size = 128,\n",
        "      shuffle = True,\n",
        "      validation_data = (ls_coder2_test, y_test))"
      ],
      "metadata": {
        "colab": {
          "base_uri": "https://localhost:8080/"
        },
        "id": "-rRAarFhKkMG",
        "outputId": "65ccc6a6-4f82-4fed-8d58-fcec9741e088"
      },
      "execution_count": null,
      "outputs": [
        {
          "output_type": "stream",
          "name": "stdout",
          "text": [
            "Epoch 1/200\n",
            "469/469 [==============================] - 2s 3ms/step - loss: 0.0799 - accuracy: 0.4251 - val_loss: 0.0488 - val_accuracy: 0.6521\n",
            "Epoch 2/200\n",
            "469/469 [==============================] - 1s 3ms/step - loss: 0.0363 - accuracy: 0.7427 - val_loss: 0.0255 - val_accuracy: 0.8233\n",
            "Epoch 3/200\n",
            "469/469 [==============================] - 1s 3ms/step - loss: 0.0241 - accuracy: 0.8365 - val_loss: 0.0210 - val_accuracy: 0.8580\n",
            "Epoch 4/200\n",
            "469/469 [==============================] - 1s 3ms/step - loss: 0.0212 - accuracy: 0.8572 - val_loss: 0.0191 - val_accuracy: 0.8711\n",
            "Epoch 5/200\n",
            "469/469 [==============================] - 1s 3ms/step - loss: 0.0200 - accuracy: 0.8666 - val_loss: 0.0183 - val_accuracy: 0.8786\n",
            "Epoch 6/200\n",
            "469/469 [==============================] - 1s 3ms/step - loss: 0.0193 - accuracy: 0.8715 - val_loss: 0.0179 - val_accuracy: 0.8821\n",
            "Epoch 7/200\n",
            "469/469 [==============================] - 1s 3ms/step - loss: 0.0189 - accuracy: 0.8736 - val_loss: 0.0181 - val_accuracy: 0.8808\n",
            "Epoch 8/200\n",
            "469/469 [==============================] - 1s 3ms/step - loss: 0.0186 - accuracy: 0.8765 - val_loss: 0.0176 - val_accuracy: 0.8829\n",
            "Epoch 9/200\n",
            "469/469 [==============================] - 1s 3ms/step - loss: 0.0184 - accuracy: 0.8762 - val_loss: 0.0176 - val_accuracy: 0.8845\n",
            "Epoch 10/200\n",
            "469/469 [==============================] - 1s 3ms/step - loss: 0.0183 - accuracy: 0.8781 - val_loss: 0.0173 - val_accuracy: 0.8861\n",
            "Epoch 11/200\n",
            "469/469 [==============================] - 1s 3ms/step - loss: 0.0182 - accuracy: 0.8791 - val_loss: 0.0170 - val_accuracy: 0.8872\n",
            "Epoch 12/200\n",
            "469/469 [==============================] - 1s 3ms/step - loss: 0.0181 - accuracy: 0.8801 - val_loss: 0.0169 - val_accuracy: 0.8885\n",
            "Epoch 13/200\n",
            "469/469 [==============================] - 1s 3ms/step - loss: 0.0181 - accuracy: 0.8798 - val_loss: 0.0170 - val_accuracy: 0.8869\n",
            "Epoch 14/200\n",
            "469/469 [==============================] - 1s 3ms/step - loss: 0.0179 - accuracy: 0.8809 - val_loss: 0.0173 - val_accuracy: 0.8832\n",
            "Epoch 15/200\n",
            "469/469 [==============================] - 1s 3ms/step - loss: 0.0179 - accuracy: 0.8805 - val_loss: 0.0167 - val_accuracy: 0.8893\n",
            "Epoch 16/200\n",
            "469/469 [==============================] - 1s 3ms/step - loss: 0.0179 - accuracy: 0.8817 - val_loss: 0.0171 - val_accuracy: 0.8864\n",
            "Epoch 17/200\n",
            "469/469 [==============================] - 1s 3ms/step - loss: 0.0179 - accuracy: 0.8810 - val_loss: 0.0174 - val_accuracy: 0.8830\n",
            "Epoch 18/200\n",
            "469/469 [==============================] - 1s 3ms/step - loss: 0.0178 - accuracy: 0.8820 - val_loss: 0.0171 - val_accuracy: 0.8880\n",
            "Epoch 19/200\n",
            "469/469 [==============================] - 1s 3ms/step - loss: 0.0178 - accuracy: 0.8826 - val_loss: 0.0170 - val_accuracy: 0.8853\n",
            "Epoch 20/200\n",
            "469/469 [==============================] - 1s 3ms/step - loss: 0.0177 - accuracy: 0.8823 - val_loss: 0.0169 - val_accuracy: 0.8881\n",
            "Epoch 21/200\n",
            "469/469 [==============================] - 1s 3ms/step - loss: 0.0177 - accuracy: 0.8838 - val_loss: 0.0166 - val_accuracy: 0.8877\n",
            "Epoch 22/200\n",
            "469/469 [==============================] - 1s 3ms/step - loss: 0.0177 - accuracy: 0.8839 - val_loss: 0.0166 - val_accuracy: 0.8895\n",
            "Epoch 23/200\n",
            "469/469 [==============================] - 1s 3ms/step - loss: 0.0177 - accuracy: 0.8829 - val_loss: 0.0167 - val_accuracy: 0.8898\n",
            "Epoch 24/200\n",
            "469/469 [==============================] - 1s 3ms/step - loss: 0.0177 - accuracy: 0.8828 - val_loss: 0.0165 - val_accuracy: 0.8902\n",
            "Epoch 25/200\n",
            "469/469 [==============================] - 1s 3ms/step - loss: 0.0176 - accuracy: 0.8832 - val_loss: 0.0167 - val_accuracy: 0.8877\n",
            "Epoch 26/200\n",
            "469/469 [==============================] - 1s 3ms/step - loss: 0.0176 - accuracy: 0.8827 - val_loss: 0.0171 - val_accuracy: 0.8849\n",
            "Epoch 27/200\n",
            "469/469 [==============================] - 1s 3ms/step - loss: 0.0177 - accuracy: 0.8830 - val_loss: 0.0166 - val_accuracy: 0.8887\n",
            "Epoch 28/200\n",
            "469/469 [==============================] - 1s 3ms/step - loss: 0.0176 - accuracy: 0.8837 - val_loss: 0.0168 - val_accuracy: 0.8883\n",
            "Epoch 29/200\n",
            "469/469 [==============================] - 1s 3ms/step - loss: 0.0176 - accuracy: 0.8833 - val_loss: 0.0166 - val_accuracy: 0.8904\n",
            "Epoch 30/200\n",
            "469/469 [==============================] - 1s 3ms/step - loss: 0.0176 - accuracy: 0.8830 - val_loss: 0.0167 - val_accuracy: 0.8890\n",
            "Epoch 31/200\n",
            "469/469 [==============================] - 1s 3ms/step - loss: 0.0176 - accuracy: 0.8835 - val_loss: 0.0165 - val_accuracy: 0.8905\n",
            "Epoch 32/200\n",
            "469/469 [==============================] - 1s 3ms/step - loss: 0.0176 - accuracy: 0.8838 - val_loss: 0.0173 - val_accuracy: 0.8860\n",
            "Epoch 33/200\n",
            "469/469 [==============================] - 1s 3ms/step - loss: 0.0176 - accuracy: 0.8839 - val_loss: 0.0166 - val_accuracy: 0.8903\n",
            "Epoch 34/200\n",
            "469/469 [==============================] - 1s 3ms/step - loss: 0.0176 - accuracy: 0.8835 - val_loss: 0.0171 - val_accuracy: 0.8870\n",
            "Epoch 35/200\n",
            "469/469 [==============================] - 1s 3ms/step - loss: 0.0176 - accuracy: 0.8840 - val_loss: 0.0166 - val_accuracy: 0.8886\n",
            "Epoch 36/200\n",
            "469/469 [==============================] - 1s 3ms/step - loss: 0.0175 - accuracy: 0.8841 - val_loss: 0.0165 - val_accuracy: 0.8902\n",
            "Epoch 37/200\n",
            "469/469 [==============================] - 1s 3ms/step - loss: 0.0175 - accuracy: 0.8843 - val_loss: 0.0172 - val_accuracy: 0.8852\n",
            "Epoch 38/200\n",
            "469/469 [==============================] - 1s 3ms/step - loss: 0.0175 - accuracy: 0.8842 - val_loss: 0.0164 - val_accuracy: 0.8904\n",
            "Epoch 39/200\n",
            "469/469 [==============================] - 1s 3ms/step - loss: 0.0175 - accuracy: 0.8847 - val_loss: 0.0165 - val_accuracy: 0.8905\n",
            "Epoch 40/200\n",
            "469/469 [==============================] - 1s 3ms/step - loss: 0.0175 - accuracy: 0.8851 - val_loss: 0.0167 - val_accuracy: 0.8887\n",
            "Epoch 41/200\n",
            "469/469 [==============================] - 1s 3ms/step - loss: 0.0175 - accuracy: 0.8842 - val_loss: 0.0166 - val_accuracy: 0.8888\n",
            "Epoch 42/200\n",
            "469/469 [==============================] - 1s 3ms/step - loss: 0.0175 - accuracy: 0.8840 - val_loss: 0.0169 - val_accuracy: 0.8890\n",
            "Epoch 43/200\n",
            "469/469 [==============================] - 1s 3ms/step - loss: 0.0175 - accuracy: 0.8850 - val_loss: 0.0166 - val_accuracy: 0.8892\n",
            "Epoch 44/200\n",
            "469/469 [==============================] - 1s 3ms/step - loss: 0.0175 - accuracy: 0.8841 - val_loss: 0.0165 - val_accuracy: 0.8890\n",
            "Epoch 45/200\n",
            "469/469 [==============================] - 1s 3ms/step - loss: 0.0175 - accuracy: 0.8845 - val_loss: 0.0167 - val_accuracy: 0.8894\n",
            "Epoch 46/200\n",
            "469/469 [==============================] - 1s 3ms/step - loss: 0.0174 - accuracy: 0.8851 - val_loss: 0.0164 - val_accuracy: 0.8912\n",
            "Epoch 47/200\n",
            "469/469 [==============================] - 1s 3ms/step - loss: 0.0174 - accuracy: 0.8857 - val_loss: 0.0165 - val_accuracy: 0.8903\n",
            "Epoch 48/200\n",
            "469/469 [==============================] - 1s 3ms/step - loss: 0.0174 - accuracy: 0.8846 - val_loss: 0.0165 - val_accuracy: 0.8910\n",
            "Epoch 49/200\n",
            "469/469 [==============================] - 1s 3ms/step - loss: 0.0175 - accuracy: 0.8853 - val_loss: 0.0168 - val_accuracy: 0.8885\n",
            "Epoch 50/200\n",
            "469/469 [==============================] - 1s 3ms/step - loss: 0.0174 - accuracy: 0.8846 - val_loss: 0.0167 - val_accuracy: 0.8884\n",
            "Epoch 51/200\n",
            "469/469 [==============================] - 1s 3ms/step - loss: 0.0174 - accuracy: 0.8855 - val_loss: 0.0168 - val_accuracy: 0.8865\n",
            "Epoch 52/200\n",
            "469/469 [==============================] - 1s 3ms/step - loss: 0.0175 - accuracy: 0.8852 - val_loss: 0.0169 - val_accuracy: 0.8865\n",
            "Epoch 53/200\n",
            "469/469 [==============================] - 1s 3ms/step - loss: 0.0175 - accuracy: 0.8849 - val_loss: 0.0166 - val_accuracy: 0.8893\n",
            "Epoch 54/200\n",
            "469/469 [==============================] - 1s 3ms/step - loss: 0.0175 - accuracy: 0.8845 - val_loss: 0.0168 - val_accuracy: 0.8878\n",
            "Epoch 55/200\n",
            "469/469 [==============================] - 1s 3ms/step - loss: 0.0174 - accuracy: 0.8853 - val_loss: 0.0166 - val_accuracy: 0.8905\n",
            "Epoch 56/200\n",
            "469/469 [==============================] - 1s 3ms/step - loss: 0.0175 - accuracy: 0.8845 - val_loss: 0.0167 - val_accuracy: 0.8889\n",
            "Epoch 57/200\n",
            "469/469 [==============================] - 1s 3ms/step - loss: 0.0174 - accuracy: 0.8858 - val_loss: 0.0165 - val_accuracy: 0.8917\n",
            "Epoch 58/200\n",
            "469/469 [==============================] - 1s 3ms/step - loss: 0.0175 - accuracy: 0.8844 - val_loss: 0.0166 - val_accuracy: 0.8910\n",
            "Epoch 59/200\n",
            "469/469 [==============================] - 1s 3ms/step - loss: 0.0175 - accuracy: 0.8851 - val_loss: 0.0168 - val_accuracy: 0.8887\n",
            "Epoch 60/200\n",
            "469/469 [==============================] - 1s 3ms/step - loss: 0.0175 - accuracy: 0.8854 - val_loss: 0.0167 - val_accuracy: 0.8887\n",
            "Epoch 61/200\n",
            "469/469 [==============================] - 1s 3ms/step - loss: 0.0175 - accuracy: 0.8846 - val_loss: 0.0165 - val_accuracy: 0.8916\n",
            "Epoch 62/200\n",
            "469/469 [==============================] - 1s 3ms/step - loss: 0.0174 - accuracy: 0.8850 - val_loss: 0.0165 - val_accuracy: 0.8907\n",
            "Epoch 63/200\n",
            "469/469 [==============================] - 1s 3ms/step - loss: 0.0175 - accuracy: 0.8848 - val_loss: 0.0164 - val_accuracy: 0.8912\n",
            "Epoch 64/200\n",
            "469/469 [==============================] - 1s 3ms/step - loss: 0.0175 - accuracy: 0.8852 - val_loss: 0.0164 - val_accuracy: 0.8913\n",
            "Epoch 65/200\n",
            "469/469 [==============================] - 1s 3ms/step - loss: 0.0175 - accuracy: 0.8841 - val_loss: 0.0165 - val_accuracy: 0.8902\n",
            "Epoch 66/200\n",
            "469/469 [==============================] - 1s 3ms/step - loss: 0.0175 - accuracy: 0.8851 - val_loss: 0.0169 - val_accuracy: 0.8876\n",
            "Epoch 67/200\n",
            "469/469 [==============================] - 1s 3ms/step - loss: 0.0174 - accuracy: 0.8851 - val_loss: 0.0165 - val_accuracy: 0.8894\n",
            "Epoch 68/200\n",
            "469/469 [==============================] - 1s 3ms/step - loss: 0.0174 - accuracy: 0.8856 - val_loss: 0.0166 - val_accuracy: 0.8904\n",
            "Epoch 69/200\n",
            "469/469 [==============================] - 1s 3ms/step - loss: 0.0174 - accuracy: 0.8850 - val_loss: 0.0175 - val_accuracy: 0.8831\n",
            "Epoch 70/200\n",
            "469/469 [==============================] - 1s 3ms/step - loss: 0.0174 - accuracy: 0.8860 - val_loss: 0.0167 - val_accuracy: 0.8900\n",
            "Epoch 71/200\n",
            "469/469 [==============================] - 1s 3ms/step - loss: 0.0174 - accuracy: 0.8857 - val_loss: 0.0167 - val_accuracy: 0.8887\n",
            "Epoch 72/200\n",
            "469/469 [==============================] - 1s 3ms/step - loss: 0.0174 - accuracy: 0.8857 - val_loss: 0.0165 - val_accuracy: 0.8901\n",
            "Epoch 73/200\n",
            "469/469 [==============================] - 1s 3ms/step - loss: 0.0174 - accuracy: 0.8847 - val_loss: 0.0165 - val_accuracy: 0.8907\n",
            "Epoch 74/200\n",
            "469/469 [==============================] - 1s 3ms/step - loss: 0.0174 - accuracy: 0.8857 - val_loss: 0.0165 - val_accuracy: 0.8904\n",
            "Epoch 75/200\n",
            "469/469 [==============================] - 1s 3ms/step - loss: 0.0174 - accuracy: 0.8853 - val_loss: 0.0165 - val_accuracy: 0.8900\n",
            "Epoch 76/200\n",
            "469/469 [==============================] - 1s 3ms/step - loss: 0.0174 - accuracy: 0.8854 - val_loss: 0.0168 - val_accuracy: 0.8882\n",
            "Epoch 77/200\n",
            "469/469 [==============================] - 1s 3ms/step - loss: 0.0175 - accuracy: 0.8850 - val_loss: 0.0166 - val_accuracy: 0.8903\n",
            "Epoch 78/200\n",
            "469/469 [==============================] - 1s 3ms/step - loss: 0.0174 - accuracy: 0.8855 - val_loss: 0.0166 - val_accuracy: 0.8900\n",
            "Epoch 79/200\n",
            "469/469 [==============================] - 1s 3ms/step - loss: 0.0174 - accuracy: 0.8856 - val_loss: 0.0169 - val_accuracy: 0.8895\n",
            "Epoch 80/200\n",
            "469/469 [==============================] - 1s 3ms/step - loss: 0.0175 - accuracy: 0.8852 - val_loss: 0.0173 - val_accuracy: 0.8846\n",
            "Epoch 81/200\n",
            "469/469 [==============================] - 1s 3ms/step - loss: 0.0174 - accuracy: 0.8857 - val_loss: 0.0166 - val_accuracy: 0.8893\n",
            "Epoch 82/200\n",
            "469/469 [==============================] - 1s 3ms/step - loss: 0.0174 - accuracy: 0.8857 - val_loss: 0.0165 - val_accuracy: 0.8905\n",
            "Epoch 83/200\n",
            "469/469 [==============================] - 1s 3ms/step - loss: 0.0174 - accuracy: 0.8860 - val_loss: 0.0167 - val_accuracy: 0.8909\n",
            "Epoch 84/200\n",
            "469/469 [==============================] - 1s 3ms/step - loss: 0.0174 - accuracy: 0.8852 - val_loss: 0.0166 - val_accuracy: 0.8906\n",
            "Epoch 85/200\n",
            "469/469 [==============================] - 1s 3ms/step - loss: 0.0175 - accuracy: 0.8850 - val_loss: 0.0164 - val_accuracy: 0.8912\n",
            "Epoch 86/200\n",
            "469/469 [==============================] - 1s 3ms/step - loss: 0.0174 - accuracy: 0.8861 - val_loss: 0.0166 - val_accuracy: 0.8907\n",
            "Epoch 87/200\n",
            "469/469 [==============================] - 1s 3ms/step - loss: 0.0175 - accuracy: 0.8853 - val_loss: 0.0165 - val_accuracy: 0.8916\n",
            "Epoch 88/200\n",
            "469/469 [==============================] - 1s 3ms/step - loss: 0.0174 - accuracy: 0.8854 - val_loss: 0.0168 - val_accuracy: 0.8903\n",
            "Epoch 89/200\n",
            "469/469 [==============================] - 1s 3ms/step - loss: 0.0174 - accuracy: 0.8863 - val_loss: 0.0169 - val_accuracy: 0.8892\n",
            "Epoch 90/200\n",
            "469/469 [==============================] - 1s 3ms/step - loss: 0.0174 - accuracy: 0.8856 - val_loss: 0.0172 - val_accuracy: 0.8868\n",
            "Epoch 91/200\n",
            "469/469 [==============================] - 1s 3ms/step - loss: 0.0174 - accuracy: 0.8863 - val_loss: 0.0168 - val_accuracy: 0.8876\n",
            "Epoch 92/200\n",
            "469/469 [==============================] - 1s 3ms/step - loss: 0.0175 - accuracy: 0.8853 - val_loss: 0.0171 - val_accuracy: 0.8873\n",
            "Epoch 93/200\n",
            "469/469 [==============================] - 1s 3ms/step - loss: 0.0175 - accuracy: 0.8855 - val_loss: 0.0167 - val_accuracy: 0.8897\n",
            "Epoch 94/200\n",
            "469/469 [==============================] - 1s 3ms/step - loss: 0.0174 - accuracy: 0.8860 - val_loss: 0.0166 - val_accuracy: 0.8900\n",
            "Epoch 95/200\n",
            "469/469 [==============================] - 1s 3ms/step - loss: 0.0174 - accuracy: 0.8849 - val_loss: 0.0168 - val_accuracy: 0.8881\n",
            "Epoch 96/200\n",
            "469/469 [==============================] - 1s 3ms/step - loss: 0.0175 - accuracy: 0.8848 - val_loss: 0.0164 - val_accuracy: 0.8906\n",
            "Epoch 97/200\n",
            "469/469 [==============================] - 1s 3ms/step - loss: 0.0174 - accuracy: 0.8858 - val_loss: 0.0171 - val_accuracy: 0.8879\n",
            "Epoch 98/200\n",
            "469/469 [==============================] - 1s 3ms/step - loss: 0.0174 - accuracy: 0.8858 - val_loss: 0.0168 - val_accuracy: 0.8888\n",
            "Epoch 99/200\n",
            "469/469 [==============================] - 1s 3ms/step - loss: 0.0174 - accuracy: 0.8856 - val_loss: 0.0165 - val_accuracy: 0.8897\n",
            "Epoch 100/200\n",
            "469/469 [==============================] - 1s 3ms/step - loss: 0.0174 - accuracy: 0.8856 - val_loss: 0.0167 - val_accuracy: 0.8915\n",
            "Epoch 101/200\n",
            "469/469 [==============================] - 1s 3ms/step - loss: 0.0174 - accuracy: 0.8860 - val_loss: 0.0166 - val_accuracy: 0.8903\n",
            "Epoch 102/200\n",
            "469/469 [==============================] - 1s 3ms/step - loss: 0.0174 - accuracy: 0.8853 - val_loss: 0.0167 - val_accuracy: 0.8900\n",
            "Epoch 103/200\n",
            "469/469 [==============================] - 1s 3ms/step - loss: 0.0174 - accuracy: 0.8853 - val_loss: 0.0167 - val_accuracy: 0.8890\n",
            "Epoch 104/200\n",
            "469/469 [==============================] - 1s 3ms/step - loss: 0.0174 - accuracy: 0.8855 - val_loss: 0.0165 - val_accuracy: 0.8897\n",
            "Epoch 105/200\n",
            "469/469 [==============================] - 1s 3ms/step - loss: 0.0174 - accuracy: 0.8860 - val_loss: 0.0168 - val_accuracy: 0.8880\n",
            "Epoch 106/200\n",
            "469/469 [==============================] - 1s 3ms/step - loss: 0.0175 - accuracy: 0.8849 - val_loss: 0.0168 - val_accuracy: 0.8865\n",
            "Epoch 107/200\n",
            "469/469 [==============================] - 1s 3ms/step - loss: 0.0174 - accuracy: 0.8857 - val_loss: 0.0167 - val_accuracy: 0.8886\n",
            "Epoch 108/200\n",
            "469/469 [==============================] - 1s 3ms/step - loss: 0.0174 - accuracy: 0.8860 - val_loss: 0.0169 - val_accuracy: 0.8885\n",
            "Epoch 109/200\n",
            "469/469 [==============================] - 1s 3ms/step - loss: 0.0175 - accuracy: 0.8855 - val_loss: 0.0166 - val_accuracy: 0.8904\n",
            "Epoch 110/200\n",
            "469/469 [==============================] - 1s 3ms/step - loss: 0.0174 - accuracy: 0.8855 - val_loss: 0.0171 - val_accuracy: 0.8879\n",
            "Epoch 111/200\n",
            "469/469 [==============================] - 1s 3ms/step - loss: 0.0174 - accuracy: 0.8856 - val_loss: 0.0169 - val_accuracy: 0.8881\n",
            "Epoch 112/200\n",
            "469/469 [==============================] - 1s 3ms/step - loss: 0.0174 - accuracy: 0.8853 - val_loss: 0.0170 - val_accuracy: 0.8867\n",
            "Epoch 113/200\n",
            "469/469 [==============================] - 1s 3ms/step - loss: 0.0175 - accuracy: 0.8853 - val_loss: 0.0165 - val_accuracy: 0.8913\n",
            "Epoch 114/200\n",
            "469/469 [==============================] - 1s 3ms/step - loss: 0.0174 - accuracy: 0.8858 - val_loss: 0.0165 - val_accuracy: 0.8900\n",
            "Epoch 115/200\n",
            "469/469 [==============================] - 1s 3ms/step - loss: 0.0174 - accuracy: 0.8857 - val_loss: 0.0171 - val_accuracy: 0.8862\n",
            "Epoch 116/200\n",
            "469/469 [==============================] - 1s 3ms/step - loss: 0.0174 - accuracy: 0.8862 - val_loss: 0.0167 - val_accuracy: 0.8891\n",
            "Epoch 117/200\n",
            "469/469 [==============================] - 1s 3ms/step - loss: 0.0174 - accuracy: 0.8853 - val_loss: 0.0177 - val_accuracy: 0.8833\n",
            "Epoch 118/200\n",
            "469/469 [==============================] - 1s 3ms/step - loss: 0.0175 - accuracy: 0.8853 - val_loss: 0.0166 - val_accuracy: 0.8891\n",
            "Epoch 119/200\n",
            "469/469 [==============================] - 1s 3ms/step - loss: 0.0174 - accuracy: 0.8853 - val_loss: 0.0167 - val_accuracy: 0.8908\n",
            "Epoch 120/200\n",
            "469/469 [==============================] - 1s 3ms/step - loss: 0.0174 - accuracy: 0.8863 - val_loss: 0.0167 - val_accuracy: 0.8886\n",
            "Epoch 121/200\n",
            "469/469 [==============================] - 1s 3ms/step - loss: 0.0174 - accuracy: 0.8855 - val_loss: 0.0168 - val_accuracy: 0.8895\n",
            "Epoch 122/200\n",
            "469/469 [==============================] - 1s 3ms/step - loss: 0.0174 - accuracy: 0.8863 - val_loss: 0.0169 - val_accuracy: 0.8871\n",
            "Epoch 123/200\n",
            "469/469 [==============================] - 1s 3ms/step - loss: 0.0174 - accuracy: 0.8858 - val_loss: 0.0166 - val_accuracy: 0.8900\n",
            "Epoch 124/200\n",
            "469/469 [==============================] - 1s 3ms/step - loss: 0.0174 - accuracy: 0.8860 - val_loss: 0.0165 - val_accuracy: 0.8913\n",
            "Epoch 125/200\n",
            "469/469 [==============================] - 1s 3ms/step - loss: 0.0174 - accuracy: 0.8858 - val_loss: 0.0168 - val_accuracy: 0.8900\n",
            "Epoch 126/200\n",
            "469/469 [==============================] - 1s 3ms/step - loss: 0.0174 - accuracy: 0.8862 - val_loss: 0.0168 - val_accuracy: 0.8883\n",
            "Epoch 127/200\n",
            "469/469 [==============================] - 1s 3ms/step - loss: 0.0175 - accuracy: 0.8844 - val_loss: 0.0165 - val_accuracy: 0.8912\n",
            "Epoch 128/200\n",
            "469/469 [==============================] - 1s 3ms/step - loss: 0.0174 - accuracy: 0.8857 - val_loss: 0.0166 - val_accuracy: 0.8904\n",
            "Epoch 129/200\n",
            "469/469 [==============================] - 1s 3ms/step - loss: 0.0174 - accuracy: 0.8848 - val_loss: 0.0170 - val_accuracy: 0.8866\n",
            "Epoch 130/200\n",
            "469/469 [==============================] - 1s 3ms/step - loss: 0.0175 - accuracy: 0.8850 - val_loss: 0.0171 - val_accuracy: 0.8862\n",
            "Epoch 131/200\n",
            "469/469 [==============================] - 1s 3ms/step - loss: 0.0174 - accuracy: 0.8862 - val_loss: 0.0168 - val_accuracy: 0.8890\n",
            "Epoch 132/200\n",
            "469/469 [==============================] - 1s 3ms/step - loss: 0.0173 - accuracy: 0.8863 - val_loss: 0.0166 - val_accuracy: 0.8920\n",
            "Epoch 133/200\n",
            "469/469 [==============================] - 1s 3ms/step - loss: 0.0174 - accuracy: 0.8867 - val_loss: 0.0168 - val_accuracy: 0.8898\n",
            "Epoch 134/200\n",
            "469/469 [==============================] - 1s 3ms/step - loss: 0.0174 - accuracy: 0.8854 - val_loss: 0.0166 - val_accuracy: 0.8911\n",
            "Epoch 135/200\n",
            "469/469 [==============================] - 1s 3ms/step - loss: 0.0174 - accuracy: 0.8861 - val_loss: 0.0164 - val_accuracy: 0.8914\n",
            "Epoch 136/200\n",
            "469/469 [==============================] - 1s 3ms/step - loss: 0.0174 - accuracy: 0.8856 - val_loss: 0.0171 - val_accuracy: 0.8878\n",
            "Epoch 137/200\n",
            "469/469 [==============================] - 1s 3ms/step - loss: 0.0174 - accuracy: 0.8857 - val_loss: 0.0169 - val_accuracy: 0.8892\n",
            "Epoch 138/200\n",
            "469/469 [==============================] - 1s 3ms/step - loss: 0.0174 - accuracy: 0.8859 - val_loss: 0.0168 - val_accuracy: 0.8892\n",
            "Epoch 139/200\n",
            "469/469 [==============================] - 1s 3ms/step - loss: 0.0174 - accuracy: 0.8865 - val_loss: 0.0164 - val_accuracy: 0.8915\n",
            "Epoch 140/200\n",
            "469/469 [==============================] - 1s 3ms/step - loss: 0.0174 - accuracy: 0.8861 - val_loss: 0.0167 - val_accuracy: 0.8898\n",
            "Epoch 141/200\n",
            "469/469 [==============================] - 1s 3ms/step - loss: 0.0174 - accuracy: 0.8862 - val_loss: 0.0172 - val_accuracy: 0.8857\n",
            "Epoch 142/200\n",
            "469/469 [==============================] - 1s 3ms/step - loss: 0.0174 - accuracy: 0.8857 - val_loss: 0.0165 - val_accuracy: 0.8898\n",
            "Epoch 143/200\n",
            "469/469 [==============================] - 1s 3ms/step - loss: 0.0174 - accuracy: 0.8853 - val_loss: 0.0166 - val_accuracy: 0.8913\n",
            "Epoch 144/200\n",
            "469/469 [==============================] - 1s 3ms/step - loss: 0.0175 - accuracy: 0.8851 - val_loss: 0.0167 - val_accuracy: 0.8890\n",
            "Epoch 145/200\n",
            "469/469 [==============================] - 1s 3ms/step - loss: 0.0174 - accuracy: 0.8863 - val_loss: 0.0166 - val_accuracy: 0.8908\n",
            "Epoch 146/200\n",
            "469/469 [==============================] - 1s 3ms/step - loss: 0.0174 - accuracy: 0.8852 - val_loss: 0.0168 - val_accuracy: 0.8898\n",
            "Epoch 147/200\n",
            "469/469 [==============================] - 1s 3ms/step - loss: 0.0174 - accuracy: 0.8855 - val_loss: 0.0166 - val_accuracy: 0.8902\n",
            "Epoch 148/200\n",
            "469/469 [==============================] - 1s 3ms/step - loss: 0.0174 - accuracy: 0.8857 - val_loss: 0.0168 - val_accuracy: 0.8897\n",
            "Epoch 149/200\n",
            "469/469 [==============================] - 1s 3ms/step - loss: 0.0174 - accuracy: 0.8850 - val_loss: 0.0170 - val_accuracy: 0.8869\n",
            "Epoch 150/200\n",
            "469/469 [==============================] - 1s 3ms/step - loss: 0.0174 - accuracy: 0.8855 - val_loss: 0.0169 - val_accuracy: 0.8890\n",
            "Epoch 151/200\n",
            "469/469 [==============================] - 1s 3ms/step - loss: 0.0174 - accuracy: 0.8864 - val_loss: 0.0168 - val_accuracy: 0.8887\n",
            "Epoch 152/200\n",
            "469/469 [==============================] - 1s 3ms/step - loss: 0.0175 - accuracy: 0.8855 - val_loss: 0.0170 - val_accuracy: 0.8877\n",
            "Epoch 153/200\n",
            "469/469 [==============================] - 1s 3ms/step - loss: 0.0174 - accuracy: 0.8857 - val_loss: 0.0166 - val_accuracy: 0.8917\n",
            "Epoch 154/200\n",
            "469/469 [==============================] - 1s 3ms/step - loss: 0.0175 - accuracy: 0.8856 - val_loss: 0.0167 - val_accuracy: 0.8894\n",
            "Epoch 155/200\n",
            "469/469 [==============================] - 1s 3ms/step - loss: 0.0174 - accuracy: 0.8870 - val_loss: 0.0164 - val_accuracy: 0.8924\n",
            "Epoch 156/200\n",
            "469/469 [==============================] - 1s 3ms/step - loss: 0.0174 - accuracy: 0.8869 - val_loss: 0.0165 - val_accuracy: 0.8902\n",
            "Epoch 157/200\n",
            "469/469 [==============================] - 1s 3ms/step - loss: 0.0174 - accuracy: 0.8851 - val_loss: 0.0168 - val_accuracy: 0.8889\n",
            "Epoch 158/200\n",
            "469/469 [==============================] - 1s 3ms/step - loss: 0.0175 - accuracy: 0.8847 - val_loss: 0.0167 - val_accuracy: 0.8915\n",
            "Epoch 159/200\n",
            "469/469 [==============================] - 1s 3ms/step - loss: 0.0174 - accuracy: 0.8866 - val_loss: 0.0165 - val_accuracy: 0.8920\n",
            "Epoch 160/200\n",
            "469/469 [==============================] - 1s 3ms/step - loss: 0.0174 - accuracy: 0.8858 - val_loss: 0.0165 - val_accuracy: 0.8923\n",
            "Epoch 161/200\n",
            "469/469 [==============================] - 1s 3ms/step - loss: 0.0174 - accuracy: 0.8859 - val_loss: 0.0169 - val_accuracy: 0.8892\n",
            "Epoch 162/200\n",
            "469/469 [==============================] - 1s 3ms/step - loss: 0.0175 - accuracy: 0.8859 - val_loss: 0.0167 - val_accuracy: 0.8905\n",
            "Epoch 163/200\n",
            "469/469 [==============================] - 1s 3ms/step - loss: 0.0175 - accuracy: 0.8854 - val_loss: 0.0166 - val_accuracy: 0.8909\n",
            "Epoch 164/200\n",
            "469/469 [==============================] - 1s 3ms/step - loss: 0.0174 - accuracy: 0.8860 - val_loss: 0.0169 - val_accuracy: 0.8884\n",
            "Epoch 165/200\n",
            "469/469 [==============================] - 1s 3ms/step - loss: 0.0174 - accuracy: 0.8859 - val_loss: 0.0165 - val_accuracy: 0.8908\n",
            "Epoch 166/200\n",
            "469/469 [==============================] - 1s 3ms/step - loss: 0.0174 - accuracy: 0.8855 - val_loss: 0.0168 - val_accuracy: 0.8889\n",
            "Epoch 167/200\n",
            "469/469 [==============================] - 1s 3ms/step - loss: 0.0174 - accuracy: 0.8856 - val_loss: 0.0166 - val_accuracy: 0.8905\n",
            "Epoch 168/200\n",
            "469/469 [==============================] - 1s 3ms/step - loss: 0.0174 - accuracy: 0.8857 - val_loss: 0.0167 - val_accuracy: 0.8912\n",
            "Epoch 169/200\n",
            "469/469 [==============================] - 1s 3ms/step - loss: 0.0174 - accuracy: 0.8859 - val_loss: 0.0165 - val_accuracy: 0.8898\n",
            "Epoch 170/200\n",
            "469/469 [==============================] - 1s 3ms/step - loss: 0.0174 - accuracy: 0.8860 - val_loss: 0.0166 - val_accuracy: 0.8909\n",
            "Epoch 171/200\n",
            "469/469 [==============================] - 1s 3ms/step - loss: 0.0174 - accuracy: 0.8861 - val_loss: 0.0169 - val_accuracy: 0.8893\n",
            "Epoch 172/200\n",
            "469/469 [==============================] - 1s 3ms/step - loss: 0.0174 - accuracy: 0.8868 - val_loss: 0.0167 - val_accuracy: 0.8894\n",
            "Epoch 173/200\n",
            "469/469 [==============================] - 1s 3ms/step - loss: 0.0174 - accuracy: 0.8858 - val_loss: 0.0171 - val_accuracy: 0.8886\n",
            "Epoch 174/200\n",
            "469/469 [==============================] - 1s 3ms/step - loss: 0.0175 - accuracy: 0.8853 - val_loss: 0.0166 - val_accuracy: 0.8899\n",
            "Epoch 175/200\n",
            "469/469 [==============================] - 1s 3ms/step - loss: 0.0174 - accuracy: 0.8868 - val_loss: 0.0170 - val_accuracy: 0.8872\n",
            "Epoch 176/200\n",
            "469/469 [==============================] - 1s 3ms/step - loss: 0.0174 - accuracy: 0.8857 - val_loss: 0.0169 - val_accuracy: 0.8893\n",
            "Epoch 177/200\n",
            "469/469 [==============================] - 1s 3ms/step - loss: 0.0174 - accuracy: 0.8853 - val_loss: 0.0167 - val_accuracy: 0.8903\n",
            "Epoch 178/200\n",
            "469/469 [==============================] - 1s 3ms/step - loss: 0.0174 - accuracy: 0.8850 - val_loss: 0.0169 - val_accuracy: 0.8883\n",
            "Epoch 179/200\n",
            "469/469 [==============================] - 1s 3ms/step - loss: 0.0174 - accuracy: 0.8864 - val_loss: 0.0166 - val_accuracy: 0.8908\n",
            "Epoch 180/200\n",
            "469/469 [==============================] - 1s 3ms/step - loss: 0.0174 - accuracy: 0.8866 - val_loss: 0.0169 - val_accuracy: 0.8884\n",
            "Epoch 181/200\n",
            "469/469 [==============================] - 1s 3ms/step - loss: 0.0174 - accuracy: 0.8858 - val_loss: 0.0166 - val_accuracy: 0.8897\n",
            "Epoch 182/200\n",
            "469/469 [==============================] - 1s 3ms/step - loss: 0.0174 - accuracy: 0.8855 - val_loss: 0.0167 - val_accuracy: 0.8904\n",
            "Epoch 183/200\n",
            "469/469 [==============================] - 1s 3ms/step - loss: 0.0174 - accuracy: 0.8859 - val_loss: 0.0168 - val_accuracy: 0.8898\n",
            "Epoch 184/200\n",
            "469/469 [==============================] - 1s 3ms/step - loss: 0.0174 - accuracy: 0.8855 - val_loss: 0.0166 - val_accuracy: 0.8909\n",
            "Epoch 185/200\n",
            "469/469 [==============================] - 1s 3ms/step - loss: 0.0174 - accuracy: 0.8862 - val_loss: 0.0165 - val_accuracy: 0.8909\n",
            "Epoch 186/200\n",
            "469/469 [==============================] - 1s 3ms/step - loss: 0.0174 - accuracy: 0.8853 - val_loss: 0.0166 - val_accuracy: 0.8906\n",
            "Epoch 187/200\n",
            "469/469 [==============================] - 1s 3ms/step - loss: 0.0174 - accuracy: 0.8857 - val_loss: 0.0165 - val_accuracy: 0.8914\n",
            "Epoch 188/200\n",
            "469/469 [==============================] - 1s 3ms/step - loss: 0.0174 - accuracy: 0.8867 - val_loss: 0.0165 - val_accuracy: 0.8926\n",
            "Epoch 189/200\n",
            "469/469 [==============================] - 1s 3ms/step - loss: 0.0174 - accuracy: 0.8867 - val_loss: 0.0166 - val_accuracy: 0.8914\n",
            "Epoch 190/200\n",
            "469/469 [==============================] - 1s 3ms/step - loss: 0.0174 - accuracy: 0.8854 - val_loss: 0.0170 - val_accuracy: 0.8878\n",
            "Epoch 191/200\n",
            "469/469 [==============================] - 1s 3ms/step - loss: 0.0174 - accuracy: 0.8856 - val_loss: 0.0165 - val_accuracy: 0.8921\n",
            "Epoch 192/200\n",
            "469/469 [==============================] - 1s 3ms/step - loss: 0.0174 - accuracy: 0.8859 - val_loss: 0.0166 - val_accuracy: 0.8895\n",
            "Epoch 193/200\n",
            "469/469 [==============================] - 1s 3ms/step - loss: 0.0174 - accuracy: 0.8866 - val_loss: 0.0169 - val_accuracy: 0.8894\n",
            "Epoch 194/200\n",
            "469/469 [==============================] - 1s 3ms/step - loss: 0.0175 - accuracy: 0.8853 - val_loss: 0.0168 - val_accuracy: 0.8891\n",
            "Epoch 195/200\n",
            "469/469 [==============================] - 1s 3ms/step - loss: 0.0174 - accuracy: 0.8860 - val_loss: 0.0169 - val_accuracy: 0.8900\n",
            "Epoch 196/200\n",
            "469/469 [==============================] - 1s 3ms/step - loss: 0.0174 - accuracy: 0.8863 - val_loss: 0.0169 - val_accuracy: 0.8900\n",
            "Epoch 197/200\n",
            "469/469 [==============================] - 1s 3ms/step - loss: 0.0175 - accuracy: 0.8860 - val_loss: 0.0169 - val_accuracy: 0.8869\n",
            "Epoch 198/200\n",
            "469/469 [==============================] - 1s 3ms/step - loss: 0.0175 - accuracy: 0.8852 - val_loss: 0.0165 - val_accuracy: 0.8910\n",
            "Epoch 199/200\n",
            "469/469 [==============================] - 1s 3ms/step - loss: 0.0174 - accuracy: 0.8858 - val_loss: 0.0165 - val_accuracy: 0.8928\n",
            "Epoch 200/200\n",
            "469/469 [==============================] - 1s 3ms/step - loss: 0.0174 - accuracy: 0.8861 - val_loss: 0.0168 - val_accuracy: 0.8881\n"
          ]
        }
      ]
    },
    {
      "cell_type": "markdown",
      "source": [
        "### Visualización Pérdida Etapa Clasificadora"
      ],
      "metadata": {
        "id": "ZwLIUHEEL8FS"
      }
    },
    {
      "cell_type": "code",
      "source": [
        "plt.plot(historyc.history['loss']), plt.plot(historyc.history['val_loss']), plt.title('Modelo de Pérdida Clasificador'), plt.xlabel('epoch'), plt.ylabel('loss'), plt.legend(['train','test'], loc = 'upper right')\n",
        "plt.show()"
      ],
      "metadata": {
        "colab": {
          "base_uri": "https://localhost:8080/",
          "height": 295
        },
        "id": "tWxQNx4PMCMK",
        "outputId": "d3d1780e-71e6-4e7d-d955-d8d656530a8c"
      },
      "execution_count": null,
      "outputs": [
        {
          "output_type": "display_data",
          "data": {
            "text/plain": [
              "<Figure size 432x288 with 1 Axes>"
            ],
            "image/png": "[encoded data removed]"
          },
          "metadata": {
            "needs_background": "light"
          }
        }
      ]
    },
    {
      "cell_type": "markdown",
      "source": [
        "##Modelo Final"
      ],
      "metadata": {
        "id": "rB0pnFr5MGxh"
      }
    },
    {
      "cell_type": "markdown",
      "source": [
        "###Estructura Modelo final"
      ],
      "metadata": {
        "id": "JzMiMbtxMIRT"
      }
    },
    {
      "cell_type": "code",
      "source": [
        "final_input = Input(shape=(784,))    #Capa de 784\n",
        "\n",
        "latent_space1 = encoder1.layers[1](final_input)\n",
        "latent_space2 = encoder2.layers[1](latent_space1)\n",
        "\n",
        "final_output = class_model.layers[1](latent_space2)"
      ],
      "metadata": {
        "id": "TKhLu9L3MLtQ"
      },
      "execution_count": null,
      "outputs": []
    },
    {
      "cell_type": "code",
      "source": [
        "final_class_model = Model(final_input, final_output)   #Modelo completo del Clasificador\n",
        "\n",
        "Classifications = final_class_model.predict(x_test)"
      ],
      "metadata": {
        "id": "NFkMbRpcM22C"
      },
      "execution_count": null,
      "outputs": []
    },
    {
      "cell_type": "markdown",
      "source": [
        "##Matriz de Confusión"
      ],
      "metadata": {
        "id": "YrqJzwd6M7TR"
      }
    },
    {
      "cell_type": "code",
      "source": [
        "from sklearn.metrics import confusion_matrix\n",
        "conf_mtr = confusion_matrix(y_test.argmax(axis=1),Classifications.argmax(axis=1))\n",
        "print(conf_mtr)"
      ],
      "metadata": {
        "id": "DeOcLjgvM-Qa",
        "colab": {
          "base_uri": "https://localhost:8080/"
        },
        "outputId": "daea4825-3dfa-447a-80a2-1183d5f93ce3"
      },
      "execution_count": null,
      "outputs": [
        {
          "output_type": "stream",
          "name": "stdout",
          "text": [
            "[[ 924    0    6    6    2   13   23    1    5    0]\n",
            " [   0 1106    4    4    1    3    3    3   11    0]\n",
            " [  12    2  886   31   19    8   25    9   34    6]\n",
            " [   1    1   16  904    6   36    3   11   21   11]\n",
            " [   0    3    6    3  894    5   26    3    9   33]\n",
            " [  15    4    7   75   15  699   24    8   36    9]\n",
            " [  10    3    7    3   11    9  911    0    4    0]\n",
            " [   3   11   32   11   20    0    1  906    3   41]\n",
            " [   3    8    9   69    8   26   24   10  807   10]\n",
            " [   5    9    9   18   70   19    4   18   13  844]]\n"
          ]
        }
      ]
    },
    {
      "cell_type": "code",
      "source": [
        "def plot_confusion_matrix(cm, num_classes,normalize=False,title='Matrix de Confusion',cmap=plt.cm.Blues):\n",
        "      \n",
        "      import itertools\n",
        "      \n",
        "      classes = ['0', '1', '2', '3', '4', '5', '6', '7', '8', '9']\n",
        "\n",
        "      plt.figure(figsize = (10,10))\n",
        "      plt.imshow(cm, interpolation='nearest', cmap=cmap)\n",
        "      plt.title(title)\n",
        "      plt.colorbar()\n",
        "      tick_marks = np.arange(len(classes))\n",
        "      plt.xticks(tick_marks, classes, rotation=90)\n",
        "      plt.yticks(tick_marks, classes)\n",
        "      if normalize:\n",
        "          cm = cm.astype('float') / cm.sum(axis=1)[:, np.newaxis]\n",
        "\n",
        "      thresh = cm.max() / 2.\n",
        "      for i, j in itertools.product(range(cm.shape[0]), range(cm.shape[1])):\n",
        "          plt.text(j, i, cm[i, j],\n",
        "                   horizontalalignment=\"center\",\n",
        "                   color=\"white\" if cm[i, j] > thresh else \"black\")\n",
        "      plt.tight_layout()\n",
        "      plt.title('MATRIZ DE CONFUSIÓN SIN NORMALIZAR')\n",
        "      plt.ylabel('ORIGINAL')\n",
        "      plt.xlabel('PREDICCIONES')"
      ],
      "metadata": {
        "id": "ZEpGJ6LgM_5s"
      },
      "execution_count": null,
      "outputs": []
    },
    {
      "cell_type": "code",
      "source": [
        "num_classes = y_test.shape\n",
        "plot_confusion_matrix(conf_mtr, num_classes)"
      ],
      "metadata": {
        "id": "rhK0q5s0NDmz",
        "colab": {
          "base_uri": "https://localhost:8080/",
          "height": 666
        },
        "outputId": "b5a4b06b-315f-4fda-bd5e-8bf9e6cae43d"
      },
      "execution_count": null,
      "outputs": [
        {
          "output_type": "display_data",
          "data": {
            "text/plain": [
              "<Figure size 720x720 with 2 Axes>"
            ],
            "image/png": "[encoded data removed]"
          },
          "metadata": {
            "needs_background": "light"
          }
        }
      ]
    },
    {
      "cell_type": "markdown",
      "source": [
        "## Verificación Modelo Final"
      ],
      "metadata": {
        "id": "gfu_ajKuNHrI"
      }
    },
    {
      "cell_type": "code",
      "source": [
        "n = 10  #Cantidad de digitos que se van a mostrar\n",
        "plt.figure(figsize=(20, 4))\n",
        "\n",
        "ax =plt.subplot(2, n, 1)\n",
        "plt.imshow(x_test[3].reshape(28, 28))     #Se muestra la imagen en la posición 6\n",
        "plt.gray()\n",
        "ax.get_xaxis().set_visible(False)\n",
        "ax.get_yaxis().set_visible(False)\n",
        "plt.title(Classifications.argmax(axis=1)[3])    #Predicción de la posición 6 \n",
        "plt.show()"
      ],
      "metadata": {
        "id": "gIByh8PkNJsm",
        "colab": {
          "base_uri": "https://localhost:8080/",
          "height": 145
        },
        "outputId": "3c0c2a90-3a5b-466a-de57-1d320ed04842"
      },
      "execution_count": null,
      "outputs": [
        {
          "output_type": "display_data",
          "data": {
            "text/plain": [
              "<Figure size 1440x288 with 1 Axes>"
            ],
            "image/png": "[encoded data removed]"
          },
          "metadata": {
            "needs_background": "light"
          }
        }
      ]
    }
  ]
}